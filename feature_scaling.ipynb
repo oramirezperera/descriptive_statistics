{
 "cells": [
  {
   "cell_type": "markdown",
   "source": "## Feature scaling of numerical data",
   "metadata": {
    "tags": [],
    "cell_id": "00000-60812fb9-a54b-4262-bf1c-d442ab19fd5b",
    "deepnote_cell_type": "markdown"
   }
  },
  {
   "cell_type": "markdown",
   "source": "## Linear Transformation",
   "metadata": {
    "tags": [],
    "cell_id": "00000-9f385b46-05ae-4483-a31e-b900b053298a",
    "deepnote_cell_type": "markdown"
   }
  },
  {
   "cell_type": "code",
   "metadata": {
    "tags": [],
    "cell_id": "00000-c5343a88-84f6-49b5-ae67-4a6cafe5ee27",
    "deepnote_to_be_reexecuted": false,
    "source_hash": "668700c3",
    "execution_start": 1625596862341,
    "execution_millis": 4225,
    "deepnote_cell_type": "code"
   },
   "source": "import timeit # To measure the time of our models\nimport numpy as np\nimport pandas as pd\nimport matplotlib.pyplot as plt\nfrom sklearn import datasets, linear_model\n\nX, y = datasets.load_diabetes(return_X_y=True)\nraw = X[:, None, 2]",
   "outputs": [],
   "execution_count": null
  },
  {
   "cell_type": "markdown",
   "source": "because X has a shape of (442,10) and we only need one column, we want to reshape it to (442,1).\n\nwith raw = X[:,None,2]\n\n: selects all the columns and rows\nNone tells that there's no transformation of the array (newaxis)\n2 select the third column of x (remember we start at 0)\n\nhttps://numpy.org/doc/stable/reference/constants.html#numpy.newaxis\n\nDetails of the dataset https://scikit-learn.org/stable/modules/generated/sklearn.datasets.load_diabetes.html",
   "metadata": {
    "tags": [],
    "cell_id": "00003-c03957e6-900e-4099-8117-759ecb82d457",
    "deepnote_cell_type": "markdown"
   }
  },
  {
   "cell_type": "code",
   "source": "# Scaling rules\nmax_raw = max(raw)\nmin_raw = min(raw)\n\nscaled = (2*raw - max_raw - min_raw) / (max_raw - min_raw)",
   "metadata": {
    "tags": [],
    "cell_id": "00004-45819fbf-3069-4ef2-878c-21ca2052ea6a",
    "deepnote_to_be_reexecuted": false,
    "source_hash": "2a3d4e61",
    "execution_start": 1625597656466,
    "execution_millis": 5,
    "deepnote_cell_type": "code"
   },
   "outputs": [],
   "execution_count": null
  },
  {
   "cell_type": "code",
   "source": "fig, axs = plt.subplots(2, 1, sharex= True)\n\naxs[0].hist(raw)\naxs[1].hist(scaled)",
   "metadata": {
    "tags": [],
    "cell_id": "00005-37b5ec7f-0780-4873-8cd1-7c016430a5ee",
    "deepnote_to_be_reexecuted": false,
    "source_hash": "2bb5ff1c",
    "execution_start": 1625597828493,
    "execution_millis": 321,
    "deepnote_cell_type": "code"
   },
   "outputs": [
    {
     "output_type": "execute_result",
     "execution_count": 3,
     "data": {
      "text/plain": "(array([32., 66., 98., 90., 64., 50., 23., 12.,  5.,  2.]),\n array([-1. , -0.8, -0.6, -0.4, -0.2,  0. ,  0.2,  0.4,  0.6,  0.8,  1. ]),\n <BarContainer object of 10 artists>)"
     },
     "metadata": {}
    },
    {
     "data": {
      "text/plain": "<Figure size 432x288 with 2 Axes>",
      "image/png": "[encoded data removed]"
     },
     "metadata": {
      "needs_background": "light",
      "image/png": {
       "width": 375,
       "height": 250
      }
     },
     "output_type": "display_data"
    }
   ],
   "execution_count": null
  },
  {
   "cell_type": "code",
   "source": "# training models\ndef train_raw():\n    linear_model.LinearRegression().fit(raw, y)\n\ndef train_scaled():\n    linear_model.LinearRegression().fit(scaled, y)",
   "metadata": {
    "tags": [],
    "cell_id": "00006-08977c11-6a6a-4143-b549-945dab65ebe4",
    "deepnote_to_be_reexecuted": false,
    "source_hash": "15cbda58",
    "execution_start": 1625597983605,
    "execution_millis": 1,
    "deepnote_cell_type": "code"
   },
   "outputs": [],
   "execution_count": null
  },
  {
   "cell_type": "code",
   "source": "raw_time = timeit.timeit(train_raw, number=100)\nscaled_time = timeit.timeit(train_scaled, number=100)\n\nprint(f'The time to train the raw data is {raw_time}')\nprint(f'The time to train the scaled data is {scaled_time}')",
   "metadata": {
    "tags": [],
    "cell_id": "00007-eaaeae38-66a5-4f0c-a6b3-58c240eb1b0b",
    "deepnote_to_be_reexecuted": false,
    "source_hash": "53aca4ba",
    "execution_start": 1625598168079,
    "execution_millis": 123,
    "deepnote_cell_type": "code"
   },
   "outputs": [
    {
     "name": "stdout",
     "text": "The time to train the raw data is 0.0656389069999932\nThe time to train the scaled data is 0.0426139740002327\n",
     "output_type": "stream"
    }
   ],
   "execution_count": null
  },
  {
   "cell_type": "markdown",
   "source": "As we can see, the scaled data is faster than the raw data, so scaling is good for larger datasets",
   "metadata": {
    "tags": [],
    "cell_id": "00008-c3cb8e06-c577-4052-a516-4a4fd1284520",
    "deepnote_cell_type": "markdown"
   }
  },
  {
   "cell_type": "code",
   "source": "# Normalizing with z",
   "metadata": {
    "tags": [],
    "cell_id": "00009-d1e73ba8-fae9-4b95-8a03-892816d77cbf",
    "deepnote_cell_type": "code"
   },
   "outputs": [],
   "execution_count": null
  },
  {
   "cell_type": "markdown",
   "source": "max-min: is better for uniformly distributed data\n\nz-score scaling: it's better for normally distributed data (Gauss shaped)",
   "metadata": {
    "tags": [],
    "cell_id": "00010-1d8aacf4-109c-4a83-9bfd-d8ee6577f054",
    "deepnote_cell_type": "markdown"
   }
  },
  {
   "cell_type": "markdown",
   "source": "## Non-linear data",
   "metadata": {
    "tags": [],
    "cell_id": "00011-d64a7902-02a1-4c4a-9e03-4735b151f19e",
    "deepnote_cell_type": "markdown"
   }
  },
  {
   "cell_type": "code",
   "source": "df = pd.read_csv('cars.csv')",
   "metadata": {
    "tags": [],
    "cell_id": "00011-5abbe5fb-b9be-4292-b6bc-f666c559194a",
    "deepnote_to_be_reexecuted": false,
    "source_hash": "f2d578bb",
    "execution_start": 1625599098175,
    "execution_millis": 233,
    "deepnote_cell_type": "code"
   },
   "outputs": [],
   "execution_count": null
  },
  {
   "cell_type": "code",
   "source": "df.price_usd.hist()",
   "metadata": {
    "tags": [],
    "cell_id": "00013-ac2ec4f9-2fc3-40e5-b4d4-c95569e5d8dc",
    "deepnote_to_be_reexecuted": false,
    "source_hash": "1d9343bd",
    "execution_start": 1625599124944,
    "execution_millis": 260,
    "deepnote_cell_type": "code"
   },
   "outputs": [
    {
     "output_type": "execute_result",
     "execution_count": 7,
     "data": {
      "text/plain": "<AxesSubplot:>"
     },
     "metadata": {}
    },
    {
     "data": {
      "text/plain": "<Figure size 432x288 with 1 Axes>",
      "image/png": "[encoded data removed]"
     },
     "metadata": {
      "needs_background": "light",
      "image/png": {
       "width": 388,
       "height": 248
      }
     },
     "output_type": "display_data"
    }
   ],
   "execution_count": null
  },
  {
   "cell_type": "markdown",
   "source": "Our data is heavy biased\n\nUsing $tanh(x)$",
   "metadata": {
    "tags": [],
    "cell_id": "00014-7f011822-b7e5-4687-9239-80af1556728c",
    "deepnote_cell_type": "markdown"
   }
  },
  {
   "cell_type": "code",
   "source": "df.price_usd.apply(lambda x: np.tanh(x)).hist()",
   "metadata": {
    "tags": [],
    "cell_id": "00015-b32c5992-9dba-48ec-9ebe-e598cd439829",
    "deepnote_to_be_reexecuted": false,
    "source_hash": "325c07f3",
    "execution_start": 1625599259640,
    "execution_millis": 319,
    "deepnote_cell_type": "code"
   },
   "outputs": [
    {
     "output_type": "execute_result",
     "execution_count": 8,
     "data": {
      "text/plain": "<AxesSubplot:>"
     },
     "metadata": {}
    },
    {
     "data": {
      "text/plain": "<Figure size 432x288 with 1 Axes>",
      "image/png": "[encoded data removed]"
     },
     "metadata": {
      "needs_background": "light",
      "image/png": {
       "width": 387,
       "height": 250
      }
     },
     "output_type": "display_data"
    }
   ],
   "execution_count": null
  },
  {
   "cell_type": "markdown",
   "source": "all the data was collapsed in 1 limit\n\nbut in the formula of tanh(x/p) we can change p to be better fitted to the data",
   "metadata": {
    "tags": [],
    "cell_id": "00016-c83fe04d-b8f4-45d5-809f-2ea9e1f13901",
    "deepnote_cell_type": "markdown"
   }
  },
  {
   "cell_type": "code",
   "source": "p = 10000\ndf.price_usd.apply(lambda x: np.tanh(x/p)).hist()",
   "metadata": {
    "tags": [],
    "cell_id": "00017-57c0a906-c6f9-4b18-9dab-4c5c84c8fbd1",
    "deepnote_to_be_reexecuted": false,
    "source_hash": "45297aa3",
    "execution_start": 1625599389441,
    "execution_millis": 337,
    "deepnote_cell_type": "code"
   },
   "outputs": [
    {
     "output_type": "execute_result",
     "execution_count": 9,
     "data": {
      "text/plain": "<AxesSubplot:>"
     },
     "metadata": {}
    },
    {
     "data": {
      "text/plain": "<Figure size 432x288 with 1 Axes>",
      "image/png": "[encoded data removed]"
     },
     "metadata": {
      "needs_background": "light",
      "image/png": {
       "width": 381,
       "height": 248
      }
     },
     "output_type": "display_data"
    }
   ],
   "execution_count": null
  },
  {
   "cell_type": "markdown",
   "source": "now the data is better fitted",
   "metadata": {
    "tags": [],
    "cell_id": "00018-d2f7f0ca-a3a3-4cbb-8d63-1aadc94f97ea",
    "deepnote_cell_type": "markdown"
   }
  },
  {
   "cell_type": "markdown",
   "source": "<a style='text-decoration:none;line-height:16px;display:flex;color:#5B5B62;padding:10px;justify-content:end;' href='https://deepnote.com?utm_source=created-in-deepnote-cell&projectId=708ebb00-062b-4a54-8b2b-5517499dc119' target=\"_blank\">\n<img alt='Created in deepnote.com' style='display:inline;max-height:16px;margin:0px;margin-right:7.5px;' src='data:image/svg+xml;base64,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' > </img>\nCreated in <span style='font-weight:600;margin-left:4px;'>Deepnote</span></a>",
   "metadata": {
    "tags": [],
    "created_in_deepnote_cell": true,
    "deepnote_cell_type": "markdown"
   }
  }
 ],
 "nbformat": 4,
 "nbformat_minor": 2,
 "metadata": {
  "orig_nbformat": 2,
  "deepnote": {
   "is_reactive": false
  },
  "deepnote_notebook_id": "4ca028b3-fc8e-436d-95d8-b8183d51e243",
  "deepnote_execution_queue": []
 }
}