{
 "cells": [
  {
   "cell_type": "markdown",
   "source": "# Central tendencies measures\n### Mean\n### Median\n### Mode\n\nWe are using this dataset https://www.kaggle.com/lepchenkov/usedcarscatalog",
   "metadata": {
    "tags": [],
    "cell_id": "00000-7eff9bb4-396b-41df-a00b-38d30bbe7643",
    "deepnote_cell_type": "markdown"
   }
  },
  {
   "cell_type": "code",
   "metadata": {
    "tags": [],
    "cell_id": "00000-4b9d743c-6b57-4953-a7e4-ede9fd21985e",
    "deepnote_to_be_reexecuted": false,
    "source_hash": "85d1f8ea",
    "execution_start": 1625317569771,
    "execution_millis": 521,
    "deepnote_cell_type": "code"
   },
   "source": "import pandas as pd\n\ndf = pd.read_csv('cars.csv')\ndf",
   "execution_count": null,
   "outputs": [
    {
     "output_type": "execute_result",
     "execution_count": 3,
     "data": {
      "application/vnd.deepnote.dataframe.v2+json": {
       "row_count": 38531,
       "column_count": 30,
       "columns": [
        {
         "name": "manufacturer_name",
         "dtype": "object",
         "stats": {
          "unique_count": 55,
          "nan_count": 0,
          "categories": [
           {
            "name": "Volkswagen",
            "count": 4243
           },
           {
            "name": "Opel",
            "count": 2759
           },
           {
            "name": "53 others",
            "count": 31529
           }
          ]
         }
        },
        {
         "name": "model_name",
         "dtype": "object",
         "stats": {
          "unique_count": 1118,
          "nan_count": 0,
          "categories": [
           {
            "name": "Passat",
            "count": 1423
           },
           {
            "name": "Astra",
            "count": 751
           },
           {
            "name": "1116 others",
            "count": 36357
           }
          ]
         }
        },
        {
         "name": "transmission",
         "dtype": "object"
        },
        {
         "name": "color",
         "dtype": "object"
        },
        {
         "name": "odometer_value",
         "dtype": "int64"
        },
        {
         "name": "year_produced",
         "dtype": "int64"
        },
        {
         "name": "engine_fuel",
         "dtype": "object"
        },
        {
         "name": "engine_has_gas",
         "dtype": "bool"
        },
        {
         "name": "engine_type",
         "dtype": "object"
        },
        {
         "name": "engine_capacity",
         "dtype": "float64"
        },
        {
         "name": "body_type",
         "dtype": "object"
        },
        {
         "name": "has_warranty",
         "dtype": "bool"
        },
        {
         "name": "state",
         "dtype": "object"
        },
        {
         "name": "drivetrain",
         "dtype": "object"
        },
        {
         "name": "price_usd",
         "dtype": "float64"
        },
        {
         "name": "is_exchangeable",
         "dtype": "bool"
        },
        {
         "name": "location_region",
         "dtype": "object"
        },
        {
         "name": "number_of_photos",
         "dtype": "int64"
        },
        {
         "name": "up_counter",
         "dtype": "int64"
        },
        {
         "name": "feature_0",
         "dtype": "bool"
        },
        {
         "name": "feature_1",
         "dtype": "bool"
        },
        {
         "name": "feature_2",
         "dtype": "bool"
        },
        {
         "name": "feature_3",
         "dtype": "bool"
        },
        {
         "name": "feature_4",
         "dtype": "bool"
        },
        {
         "name": "feature_5",
         "dtype": "bool"
        },
        {
         "name": "feature_6",
         "dtype": "bool"
        },
        {
         "name": "feature_7",
         "dtype": "bool"
        },
        {
         "name": "feature_8",
         "dtype": "bool"
        },
        {
         "name": "feature_9",
         "dtype": "bool"
        },
        {
         "name": "duration_listed",
         "dtype": "int64"
        },
        {
         "name": "_deepnote_index_column",
         "dtype": "int64"
        }
       ],
       "rows_top": [
        {
         "manufacturer_name": "Subaru",
         "model_name": "Outback",
         "transmission": "automatic",
         "color": "silver",
         "odometer_value": 190000,
         "year_produced": 2010,
         "engine_fuel": "gasoline",
         "engine_has_gas": "False",
         "engine_type": "gasoline",
         "engine_capacity": 2.5,
         "body_type": "universal",
         "has_warranty": "False",
         "state": "owned",
         "drivetrain": "all",
         "price_usd": 10900,
         "is_exchangeable": "False",
         "location_region": "Минская обл.",
         "number_of_photos": 9,
         "up_counter": 13,
         "feature_0": "False",
         "feature_1": "True",
         "feature_2": "True",
         "feature_3": "True",
         "feature_4": "False",
         "feature_5": "True",
         "feature_6": "False",
         "feature_7": "True",
         "feature_8": "True",
         "feature_9": "True",
         "duration_listed": 16,
         "_deepnote_index_column": 0
        },
        {
         "manufacturer_name": "Subaru",
         "model_name": "Outback",
         "transmission": "automatic",
         "color": "blue",
         "odometer_value": 290000,
         "year_produced": 2002,
         "engine_fuel": "gasoline",
         "engine_has_gas": "False",
         "engine_type": "gasoline",
         "engine_capacity": 3,
         "body_type": "universal",
         "has_warranty": "False",
         "state": "owned",
         "drivetrain": "all",
         "price_usd": 5000,
         "is_exchangeable": "True",
         "location_region": "Минская обл.",
         "number_of_photos": 12,
         "up_counter": 54,
         "feature_0": "False",
         "feature_1": "True",
         "feature_2": "False",
         "feature_3": "False",
         "feature_4": "True",
         "feature_5": "True",
         "feature_6": "False",
         "feature_7": "False",
         "feature_8": "False",
         "feature_9": "True",
         "duration_listed": 83,
         "_deepnote_index_column": 1
        },
        {
         "manufacturer_name": "Subaru",
         "model_name": "Forester",
         "transmission": "automatic",
         "color": "red",
         "odometer_value": 402000,
         "year_produced": 2001,
         "engine_fuel": "gasoline",
         "engine_has_gas": "False",
         "engine_type": "gasoline",
         "engine_capacity": 2.5,
         "body_type": "suv",
         "has_warranty": "False",
         "state": "owned",
         "drivetrain": "all",
         "price_usd": 2800,
         "is_exchangeable": "True",
         "location_region": "Минская обл.",
         "number_of_photos": 4,
         "up_counter": 72,
         "feature_0": "False",
         "feature_1": "True",
         "feature_2": "False",
         "feature_3": "False",
         "feature_4": "False",
         "feature_5": "False",
         "feature_6": "False",
         "feature_7": "False",
         "feature_8": "True",
         "feature_9": "True",
         "duration_listed": 151,
         "_deepnote_index_column": 2
        },
        {
         "manufacturer_name": "Subaru",
         "model_name": "Impreza",
         "transmission": "mechanical",
         "color": "blue",
         "odometer_value": 10000,
         "year_produced": 1999,
         "engine_fuel": "gasoline",
         "engine_has_gas": "False",
         "engine_type": "gasoline",
         "engine_capacity": 3,
         "body_type": "sedan",
         "has_warranty": "False",
         "state": "owned",
         "drivetrain": "all",
         "price_usd": 9999,
         "is_exchangeable": "True",
         "location_region": "Минская обл.",
         "number_of_photos": 9,
         "up_counter": 42,
         "feature_0": "True",
         "feature_1": "False",
         "feature_2": "False",
         "feature_3": "False",
         "feature_4": "False",
         "feature_5": "False",
         "feature_6": "False",
         "feature_7": "False",
         "feature_8": "False",
         "feature_9": "False",
         "duration_listed": 86,
         "_deepnote_index_column": 3
        },
        {
         "manufacturer_name": "Subaru",
         "model_name": "Legacy",
         "transmission": "automatic",
         "color": "black",
         "odometer_value": 280000,
         "year_produced": 2001,
         "engine_fuel": "gasoline",
         "engine_has_gas": "False",
         "engine_type": "gasoline",
         "engine_capacity": 2.5,
         "body_type": "universal",
         "has_warranty": "False",
         "state": "owned",
         "drivetrain": "all",
         "price_usd": 2134.11,
         "is_exchangeable": "True",
         "location_region": "Гомельская обл.",
         "number_of_photos": 14,
         "up_counter": 7,
         "feature_0": "False",
         "feature_1": "True",
         "feature_2": "False",
         "feature_3": "True",
         "feature_4": "True",
         "feature_5": "False",
         "feature_6": "False",
         "feature_7": "False",
         "feature_8": "False",
         "feature_9": "True",
         "duration_listed": 7,
         "_deepnote_index_column": 4
        },
        {
         "manufacturer_name": "Subaru",
         "model_name": "Outback",
         "transmission": "automatic",
         "color": "silver",
         "odometer_value": 132449,
         "year_produced": 2011,
         "engine_fuel": "gasoline",
         "engine_has_gas": "False",
         "engine_type": "gasoline",
         "engine_capacity": 2.5,
         "body_type": "universal",
         "has_warranty": "False",
         "state": "owned",
         "drivetrain": "all",
         "price_usd": 14700,
         "is_exchangeable": "True",
         "location_region": "Минская обл.",
         "number_of_photos": 20,
         "up_counter": 56,
         "feature_0": "False",
         "feature_1": "True",
         "feature_2": "False",
         "feature_3": "False",
         "feature_4": "False",
         "feature_5": "True",
         "feature_6": "False",
         "feature_7": "True",
         "feature_8": "True",
         "feature_9": "True",
         "duration_listed": 67,
         "_deepnote_index_column": 5
        },
        {
         "manufacturer_name": "Subaru",
         "model_name": "Forester",
         "transmission": "automatic",
         "color": "black",
         "odometer_value": 318280,
         "year_produced": 1998,
         "engine_fuel": "gasoline",
         "engine_has_gas": "False",
         "engine_type": "gasoline",
         "engine_capacity": 2.5,
         "body_type": "universal",
         "has_warranty": "False",
         "state": "owned",
         "drivetrain": "all",
         "price_usd": 3000,
         "is_exchangeable": "True",
         "location_region": "Минская обл.",
         "number_of_photos": 8,
         "up_counter": 147,
         "feature_0": "False",
         "feature_1": "True",
         "feature_2": "False",
         "feature_3": "False",
         "feature_4": "True",
         "feature_5": "True",
         "feature_6": "False",
         "feature_7": "False",
         "feature_8": "True",
         "feature_9": "True",
         "duration_listed": 307,
         "_deepnote_index_column": 6
        },
        {
         "manufacturer_name": "Subaru",
         "model_name": "Legacy",
         "transmission": "automatic",
         "color": "silver",
         "odometer_value": 350000,
         "year_produced": 2004,
         "engine_fuel": "gasoline",
         "engine_has_gas": "False",
         "engine_type": "gasoline",
         "engine_capacity": 2.5,
         "body_type": "sedan",
         "has_warranty": "False",
         "state": "owned",
         "drivetrain": "all",
         "price_usd": 4500,
         "is_exchangeable": "False",
         "location_region": "Брестская обл.",
         "number_of_photos": 7,
         "up_counter": 29,
         "feature_0": "False",
         "feature_1": "True",
         "feature_2": "True",
         "feature_3": "False",
         "feature_4": "False",
         "feature_5": "False",
         "feature_6": "False",
         "feature_7": "False",
         "feature_8": "False",
         "feature_9": "True",
         "duration_listed": 73,
         "_deepnote_index_column": 7
        },
        {
         "manufacturer_name": "Subaru",
         "model_name": "Outback",
         "transmission": "automatic",
         "color": "grey",
         "odometer_value": 179000,
         "year_produced": 2010,
         "engine_fuel": "gasoline",
         "engine_has_gas": "False",
         "engine_type": "gasoline",
         "engine_capacity": 2.5,
         "body_type": "universal",
         "has_warranty": "False",
         "state": "owned",
         "drivetrain": "all",
         "price_usd": 12900,
         "is_exchangeable": "False",
         "location_region": "Минская обл.",
         "number_of_photos": 17,
         "up_counter": 33,
         "feature_0": "False",
         "feature_1": "True",
         "feature_2": "True",
         "feature_3": "True",
         "feature_4": "True",
         "feature_5": "True",
         "feature_6": "True",
         "feature_7": "True",
         "feature_8": "True",
         "feature_9": "True",
         "duration_listed": 87,
         "_deepnote_index_column": 8
        },
        {
         "manufacturer_name": "Subaru",
         "model_name": "Forester",
         "transmission": "automatic",
         "color": "silver",
         "odometer_value": 571317,
         "year_produced": 1999,
         "engine_fuel": "gasoline",
         "engine_has_gas": "False",
         "engine_type": "gasoline",
         "engine_capacity": 2.5,
         "body_type": "universal",
         "has_warranty": "False",
         "state": "owned",
         "drivetrain": "all",
         "price_usd": 4200,
         "is_exchangeable": "True",
         "location_region": "Минская обл.",
         "number_of_photos": 8,
         "up_counter": 11,
         "feature_0": "False",
         "feature_1": "True",
         "feature_2": "True",
         "feature_3": "False",
         "feature_4": "False",
         "feature_5": "True",
         "feature_6": "False",
         "feature_7": "False",
         "feature_8": "False",
         "feature_9": "True",
         "duration_listed": 43,
         "_deepnote_index_column": 9
        },
        {
         "manufacturer_name": "Subaru",
         "model_name": "Forester",
         "transmission": "mechanical",
         "color": "other",
         "odometer_value": 280000,
         "year_produced": 2003,
         "engine_fuel": "gasoline",
         "engine_has_gas": "False",
         "engine_type": "gasoline",
         "engine_capacity": 2,
         "body_type": "suv",
         "has_warranty": "False",
         "state": "owned",
         "drivetrain": "all",
         "price_usd": 6900,
         "is_exchangeable": "True",
         "location_region": "Минская обл.",
         "number_of_photos": 14,
         "up_counter": 6,
         "feature_0": "False",
         "feature_1": "True",
         "feature_2": "False",
         "feature_3": "True",
         "feature_4": "False",
         "feature_5": "True",
         "feature_6": "False",
         "feature_7": "True",
         "feature_8": "True",
         "feature_9": "True",
         "duration_listed": 11,
         "_deepnote_index_column": 10
        },
        {
         "manufacturer_name": "Subaru",
         "model_name": "Tribeca",
         "transmission": "automatic",
         "color": "grey",
         "odometer_value": 256000,
         "year_produced": 2008,
         "engine_fuel": "gasoline",
         "engine_has_gas": "False",
         "engine_type": "gasoline",
         "engine_capacity": 3.6,
         "body_type": "suv",
         "has_warranty": "False",
         "state": "owned",
         "drivetrain": "all",
         "price_usd": 8350,
         "is_exchangeable": "True",
         "location_region": "Минская обл.",
         "number_of_photos": 18,
         "up_counter": 61,
         "feature_0": "False",
         "feature_1": "True",
         "feature_2": "True",
         "feature_3": "True",
         "feature_4": "True",
         "feature_5": "True",
         "feature_6": "False",
         "feature_7": "False",
         "feature_8": "True",
         "feature_9": "True",
         "duration_listed": 80,
         "_deepnote_index_column": 11
        },
        {
         "manufacturer_name": "Subaru",
         "model_name": "Forester",
         "transmission": "mechanical",
         "color": "other",
         "odometer_value": 321000,
         "year_produced": 2002,
         "engine_fuel": "gasoline",
         "engine_has_gas": "False",
         "engine_type": "gasoline",
         "engine_capacity": 2,
         "body_type": "suv",
         "has_warranty": "False",
         "state": "owned",
         "drivetrain": "all",
         "price_usd": 4300,
         "is_exchangeable": "False",
         "location_region": "Минская обл.",
         "number_of_photos": 13,
         "up_counter": 2,
         "feature_0": "False",
         "feature_1": "True",
         "feature_2": "False",
         "feature_3": "False",
         "feature_4": "False",
         "feature_5": "False",
         "feature_6": "False",
         "feature_7": "False",
         "feature_8": "False",
         "feature_9": "False",
         "duration_listed": 2,
         "_deepnote_index_column": 12
        },
        {
         "manufacturer_name": "Subaru",
         "model_name": "Justy",
         "transmission": "mechanical",
         "color": "red",
         "odometer_value": 49999,
         "year_produced": 2001,
         "engine_fuel": "gasoline",
         "engine_has_gas": "False",
         "engine_type": "gasoline",
         "engine_capacity": 1.3,
         "body_type": "hatchback",
         "has_warranty": "False",
         "state": "owned",
         "drivetrain": "all",
         "price_usd": 1666,
         "is_exchangeable": "False",
         "location_region": "Гомельская обл.",
         "number_of_photos": 8,
         "up_counter": 94,
         "feature_0": "True",
         "feature_1": "False",
         "feature_2": "False",
         "feature_3": "False",
         "feature_4": "False",
         "feature_5": "False",
         "feature_6": "False",
         "feature_7": "False",
         "feature_8": "False",
         "feature_9": "False",
         "duration_listed": 230,
         "_deepnote_index_column": 13
        },
        {
         "manufacturer_name": "Subaru",
         "model_name": "Outback",
         "transmission": "automatic",
         "color": "brown",
         "odometer_value": 154685,
         "year_produced": 2011,
         "engine_fuel": "gasoline",
         "engine_has_gas": "False",
         "engine_type": "gasoline",
         "engine_capacity": 2.5,
         "body_type": "universal",
         "has_warranty": "False",
         "state": "owned",
         "drivetrain": "all",
         "price_usd": 8600,
         "is_exchangeable": "True",
         "location_region": "Минская обл.",
         "number_of_photos": 24,
         "up_counter": 34,
         "feature_0": "False",
         "feature_1": "True",
         "feature_2": "False",
         "feature_3": "True",
         "feature_4": "False",
         "feature_5": "False",
         "feature_6": "False",
         "feature_7": "False",
         "feature_8": "True",
         "feature_9": "True",
         "duration_listed": 63,
         "_deepnote_index_column": 14
        },
        {
         "manufacturer_name": "Subaru",
         "model_name": "Outback",
         "transmission": "automatic",
         "color": "black",
         "odometer_value": 163219,
         "year_produced": 2004,
         "engine_fuel": "gasoline",
         "engine_has_gas": "False",
         "engine_type": "gasoline",
         "engine_capacity": 2,
         "body_type": "universal",
         "has_warranty": "False",
         "state": "owned",
         "drivetrain": "all",
         "price_usd": 7300,
         "is_exchangeable": "True",
         "location_region": "Минская обл.",
         "number_of_photos": 17,
         "up_counter": 22,
         "feature_0": "False",
         "feature_1": "True",
         "feature_2": "True",
         "feature_3": "False",
         "feature_4": "True",
         "feature_5": "True",
         "feature_6": "False",
         "feature_7": "False",
         "feature_8": "False",
         "feature_9": "True",
         "duration_listed": 35,
         "_deepnote_index_column": 15
        }
       ],
       "rows_bottom": [
        {
         "manufacturer_name": "Chrysler",
         "model_name": "Voyager",
         "transmission": "automatic",
         "color": "red",
         "odometer_value": 300000,
         "year_produced": 2002,
         "engine_fuel": "gas",
         "engine_has_gas": "True",
         "engine_type": "gasoline",
         "engine_capacity": 2.4,
         "body_type": "minivan",
         "has_warranty": "False",
         "state": "owned",
         "drivetrain": "front",
         "price_usd": 3700,
         "is_exchangeable": "False",
         "location_region": "Минская обл.",
         "number_of_photos": 12,
         "up_counter": 4,
         "feature_0": "False",
         "feature_1": "True",
         "feature_2": "False",
         "feature_3": "False",
         "feature_4": "False",
         "feature_5": "False",
         "feature_6": "False",
         "feature_7": "False",
         "feature_8": "False",
         "feature_9": "False",
         "duration_listed": 161,
         "_deepnote_index_column": 38514
        },
        {
         "manufacturer_name": "Chrysler",
         "model_name": "Grand Voyager",
         "transmission": "automatic",
         "color": "green",
         "odometer_value": 210000,
         "year_produced": 1999,
         "engine_fuel": "gas",
         "engine_has_gas": "True",
         "engine_type": "gasoline",
         "engine_capacity": 3.3,
         "body_type": "minivan",
         "has_warranty": "False",
         "state": "owned",
         "drivetrain": "front",
         "price_usd": 4200,
         "is_exchangeable": "True",
         "location_region": "Гомельская обл.",
         "number_of_photos": 23,
         "up_counter": 2,
         "feature_0": "False",
         "feature_1": "True",
         "feature_2": "False",
         "feature_3": "False",
         "feature_4": "False",
         "feature_5": "False",
         "feature_6": "False",
         "feature_7": "False",
         "feature_8": "False",
         "feature_9": "True",
         "duration_listed": 163,
         "_deepnote_index_column": 38515
        },
        {
         "manufacturer_name": "Chrysler",
         "model_name": "Grand Voyager",
         "transmission": "automatic",
         "color": "grey",
         "odometer_value": 179000,
         "year_produced": 1998,
         "engine_fuel": "gasoline",
         "engine_has_gas": "False",
         "engine_type": "gasoline",
         "engine_capacity": 3.3,
         "body_type": "minivan",
         "has_warranty": "False",
         "state": "owned",
         "drivetrain": "front",
         "price_usd": 3450,
         "is_exchangeable": "False",
         "location_region": "Минская обл.",
         "number_of_photos": 6,
         "up_counter": 6,
         "feature_0": "False",
         "feature_1": "True",
         "feature_2": "False",
         "feature_3": "False",
         "feature_4": "False",
         "feature_5": "False",
         "feature_6": "False",
         "feature_7": "False",
         "feature_8": "False",
         "feature_9": "True",
         "duration_listed": 167,
         "_deepnote_index_column": 38516
        },
        {
         "manufacturer_name": "Chrysler",
         "model_name": "Voyager",
         "transmission": "mechanical",
         "color": "silver",
         "odometer_value": 240000,
         "year_produced": 2005,
         "engine_fuel": "diesel",
         "engine_has_gas": "False",
         "engine_type": "diesel",
         "engine_capacity": 2.5,
         "body_type": "minivan",
         "has_warranty": "False",
         "state": "owned",
         "drivetrain": "front",
         "price_usd": 6500,
         "is_exchangeable": "False",
         "location_region": "Минская обл.",
         "number_of_photos": 8,
         "up_counter": 2,
         "feature_0": "False",
         "feature_1": "True",
         "feature_2": "False",
         "feature_3": "False",
         "feature_4": "False",
         "feature_5": "True",
         "feature_6": "False",
         "feature_7": "True",
         "feature_8": "True",
         "feature_9": "True",
         "duration_listed": 177,
         "_deepnote_index_column": 38517
        },
        {
         "manufacturer_name": "Chrysler",
         "model_name": "PT Cruiser",
         "transmission": "automatic",
         "color": "blue",
         "odometer_value": 177000,
         "year_produced": 2003,
         "engine_fuel": "gasoline",
         "engine_has_gas": "False",
         "engine_type": "gasoline",
         "engine_capacity": 2.4,
         "body_type": "sedan",
         "has_warranty": "False",
         "state": "owned",
         "drivetrain": "front",
         "price_usd": 2800,
         "is_exchangeable": "False",
         "location_region": "Витебская обл.",
         "number_of_photos": 7,
         "up_counter": 2,
         "feature_0": "False",
         "feature_1": "True",
         "feature_2": "False",
         "feature_3": "False",
         "feature_4": "False",
         "feature_5": "False",
         "feature_6": "False",
         "feature_7": "False",
         "feature_8": "False",
         "feature_9": "False",
         "duration_listed": 181,
         "_deepnote_index_column": 38518
        },
        {
         "manufacturer_name": "Chrysler",
         "model_name": "Voyager",
         "transmission": "automatic",
         "color": "brown",
         "odometer_value": 200000,
         "year_produced": 1997,
         "engine_fuel": "gasoline",
         "engine_has_gas": "False",
         "engine_type": "gasoline",
         "engine_capacity": 2.4,
         "body_type": "minivan",
         "has_warranty": "False",
         "state": "owned",
         "drivetrain": "front",
         "price_usd": 2700,
         "is_exchangeable": "True",
         "location_region": "Минская обл.",
         "number_of_photos": 5,
         "up_counter": 12,
         "feature_0": "False",
         "feature_1": "True",
         "feature_2": "False",
         "feature_3": "False",
         "feature_4": "False",
         "feature_5": "False",
         "feature_6": "False",
         "feature_7": "False",
         "feature_8": "False",
         "feature_9": "False",
         "duration_listed": 186,
         "_deepnote_index_column": 38519
        },
        {
         "manufacturer_name": "Chrysler",
         "model_name": "Voyager",
         "transmission": "mechanical",
         "color": "silver",
         "odometer_value": 400000,
         "year_produced": 1999,
         "engine_fuel": "diesel",
         "engine_has_gas": "False",
         "engine_type": "diesel",
         "engine_capacity": 2.5,
         "body_type": "minivan",
         "has_warranty": "False",
         "state": "owned",
         "drivetrain": "front",
         "price_usd": 1600,
         "is_exchangeable": "True",
         "location_region": "Минская обл.",
         "number_of_photos": 1,
         "up_counter": 38,
         "feature_0": "False",
         "feature_1": "True",
         "feature_2": "False",
         "feature_3": "False",
         "feature_4": "False",
         "feature_5": "False",
         "feature_6": "False",
         "feature_7": "False",
         "feature_8": "False",
         "feature_9": "False",
         "duration_listed": 202,
         "_deepnote_index_column": 38520
        },
        {
         "manufacturer_name": "Chrysler",
         "model_name": "Neon",
         "transmission": "mechanical",
         "color": "green",
         "odometer_value": 260000,
         "year_produced": 1995,
         "engine_fuel": "gasoline",
         "engine_has_gas": "False",
         "engine_type": "gasoline",
         "engine_capacity": 2,
         "body_type": "sedan",
         "has_warranty": "False",
         "state": "owned",
         "drivetrain": "front",
         "price_usd": 550,
         "is_exchangeable": "True",
         "location_region": "Гродненская обл.",
         "number_of_photos": 7,
         "up_counter": 12,
         "feature_0": "False",
         "feature_1": "True",
         "feature_2": "False",
         "feature_3": "False",
         "feature_4": "False",
         "feature_5": "False",
         "feature_6": "False",
         "feature_7": "False",
         "feature_8": "False",
         "feature_9": "True",
         "duration_listed": 215,
         "_deepnote_index_column": 38521
        },
        {
         "manufacturer_name": "Chrysler",
         "model_name": "PT Cruiser",
         "transmission": "automatic",
         "color": "other",
         "odometer_value": 207605,
         "year_produced": 2004,
         "engine_fuel": "gasoline",
         "engine_has_gas": "False",
         "engine_type": "gasoline",
         "engine_capacity": 2.4,
         "body_type": "hatchback",
         "has_warranty": "False",
         "state": "owned",
         "drivetrain": "front",
         "price_usd": 4000,
         "is_exchangeable": "False",
         "location_region": "Витебская обл.",
         "number_of_photos": 8,
         "up_counter": 44,
         "feature_0": "False",
         "feature_1": "True",
         "feature_2": "False",
         "feature_3": "False",
         "feature_4": "False",
         "feature_5": "False",
         "feature_6": "False",
         "feature_7": "False",
         "feature_8": "False",
         "feature_9": "False",
         "duration_listed": 221,
         "_deepnote_index_column": 38522
        },
        {
         "manufacturer_name": "Chrysler",
         "model_name": "Grand Voyager",
         "transmission": "mechanical",
         "color": "black",
         "odometer_value": 278000,
         "year_produced": 1999,
         "engine_fuel": "diesel",
         "engine_has_gas": "False",
         "engine_type": "diesel",
         "engine_capacity": 2.5,
         "body_type": "minivan",
         "has_warranty": "False",
         "state": "owned",
         "drivetrain": "front",
         "price_usd": 4220.81,
         "is_exchangeable": "False",
         "location_region": "Брестская обл.",
         "number_of_photos": 5,
         "up_counter": 20,
         "feature_0": "False",
         "feature_1": "True",
         "feature_2": "True",
         "feature_3": "False",
         "feature_4": "True",
         "feature_5": "False",
         "feature_6": "False",
         "feature_7": "False",
         "feature_8": "False",
         "feature_9": "True",
         "duration_listed": 239,
         "_deepnote_index_column": 38523
        },
        {
         "manufacturer_name": "Chrysler",
         "model_name": "300",
         "transmission": "automatic",
         "color": "silver",
         "odometer_value": 240000,
         "year_produced": 2001,
         "engine_fuel": "gasoline",
         "engine_has_gas": "False",
         "engine_type": "gasoline",
         "engine_capacity": 3.5,
         "body_type": "sedan",
         "has_warranty": "False",
         "state": "owned",
         "drivetrain": "front",
         "price_usd": 3000,
         "is_exchangeable": "True",
         "location_region": "Минская обл.",
         "number_of_photos": 6,
         "up_counter": 11,
         "feature_0": "False",
         "feature_1": "True",
         "feature_2": "False",
         "feature_3": "False",
         "feature_4": "True",
         "feature_5": "True",
         "feature_6": "False",
         "feature_7": "False",
         "feature_8": "True",
         "feature_9": "True",
         "duration_listed": 264,
         "_deepnote_index_column": 38524
        },
        {
         "manufacturer_name": "Chrysler",
         "model_name": "Voyager",
         "transmission": "mechanical",
         "color": "violet",
         "odometer_value": 317000,
         "year_produced": 1999,
         "engine_fuel": "gas",
         "engine_has_gas": "True",
         "engine_type": "gasoline",
         "engine_capacity": 2,
         "body_type": "minivan",
         "has_warranty": "False",
         "state": "owned",
         "drivetrain": "front",
         "price_usd": 3300,
         "is_exchangeable": "True",
         "location_region": "Брестская обл.",
         "number_of_photos": 8,
         "up_counter": 28,
         "feature_0": "False",
         "feature_1": "False",
         "feature_2": "False",
         "feature_3": "True",
         "feature_4": "False",
         "feature_5": "False",
         "feature_6": "False",
         "feature_7": "False",
         "feature_8": "False",
         "feature_9": "True",
         "duration_listed": 269,
         "_deepnote_index_column": 38525
        },
        {
         "manufacturer_name": "Chrysler",
         "model_name": "300",
         "transmission": "automatic",
         "color": "silver",
         "odometer_value": 290000,
         "year_produced": 2000,
         "engine_fuel": "gasoline",
         "engine_has_gas": "False",
         "engine_type": "gasoline",
         "engine_capacity": 3.5,
         "body_type": "sedan",
         "has_warranty": "False",
         "state": "owned",
         "drivetrain": "front",
         "price_usd": 2750,
         "is_exchangeable": "True",
         "location_region": "Минская обл.",
         "number_of_photos": 5,
         "up_counter": 85,
         "feature_0": "False",
         "feature_1": "True",
         "feature_2": "False",
         "feature_3": "False",
         "feature_4": "True",
         "feature_5": "True",
         "feature_6": "False",
         "feature_7": "False",
         "feature_8": "True",
         "feature_9": "True",
         "duration_listed": 301,
         "_deepnote_index_column": 38526
        },
        {
         "manufacturer_name": "Chrysler",
         "model_name": "PT Cruiser",
         "transmission": "mechanical",
         "color": "blue",
         "odometer_value": 321000,
         "year_produced": 2004,
         "engine_fuel": "diesel",
         "engine_has_gas": "False",
         "engine_type": "diesel",
         "engine_capacity": 2.2,
         "body_type": "hatchback",
         "has_warranty": "False",
         "state": "owned",
         "drivetrain": "front",
         "price_usd": 4800,
         "is_exchangeable": "True",
         "location_region": "Брестская обл.",
         "number_of_photos": 4,
         "up_counter": 20,
         "feature_0": "False",
         "feature_1": "True",
         "feature_2": "False",
         "feature_3": "False",
         "feature_4": "True",
         "feature_5": "True",
         "feature_6": "False",
         "feature_7": "False",
         "feature_8": "True",
         "feature_9": "True",
         "duration_listed": 317,
         "_deepnote_index_column": 38527
        },
        {
         "manufacturer_name": "Chrysler",
         "model_name": "300",
         "transmission": "automatic",
         "color": "blue",
         "odometer_value": 777957,
         "year_produced": 2000,
         "engine_fuel": "gasoline",
         "engine_has_gas": "False",
         "engine_type": "gasoline",
         "engine_capacity": 3.5,
         "body_type": "sedan",
         "has_warranty": "False",
         "state": "owned",
         "drivetrain": "front",
         "price_usd": 4300,
         "is_exchangeable": "False",
         "location_region": "Минская обл.",
         "number_of_photos": 3,
         "up_counter": 63,
         "feature_0": "False",
         "feature_1": "True",
         "feature_2": "False",
         "feature_3": "False",
         "feature_4": "True",
         "feature_5": "True",
         "feature_6": "False",
         "feature_7": "False",
         "feature_8": "True",
         "feature_9": "True",
         "duration_listed": 369,
         "_deepnote_index_column": 38528
        },
        {
         "manufacturer_name": "Chrysler",
         "model_name": "PT Cruiser",
         "transmission": "mechanical",
         "color": "black",
         "odometer_value": 20000,
         "year_produced": 2001,
         "engine_fuel": "gasoline",
         "engine_has_gas": "False",
         "engine_type": "gasoline",
         "engine_capacity": 2,
         "body_type": "minivan",
         "has_warranty": "False",
         "state": "owned",
         "drivetrain": "front",
         "price_usd": 4000,
         "is_exchangeable": "True",
         "location_region": "Брестская обл.",
         "number_of_photos": 7,
         "up_counter": 156,
         "feature_0": "False",
         "feature_1": "True",
         "feature_2": "False",
         "feature_3": "False",
         "feature_4": "False",
         "feature_5": "False",
         "feature_6": "False",
         "feature_7": "False",
         "feature_8": "False",
         "feature_9": "True",
         "duration_listed": 490,
         "_deepnote_index_column": 38529
        },
        {
         "manufacturer_name": "Chrysler",
         "model_name": "Voyager",
         "transmission": "automatic",
         "color": "silver",
         "odometer_value": 297729,
         "year_produced": 2000,
         "engine_fuel": "gasoline",
         "engine_has_gas": "False",
         "engine_type": "gasoline",
         "engine_capacity": 2.4,
         "body_type": "minivan",
         "has_warranty": "False",
         "state": "owned",
         "drivetrain": "front",
         "price_usd": 3200,
         "is_exchangeable": "True",
         "location_region": "Минская обл.",
         "number_of_photos": 4,
         "up_counter": 73,
         "feature_0": "False",
         "feature_1": "False",
         "feature_2": "False",
         "feature_3": "False",
         "feature_4": "False",
         "feature_5": "False",
         "feature_6": "False",
         "feature_7": "False",
         "feature_8": "False",
         "feature_9": "True",
         "duration_listed": 632,
         "_deepnote_index_column": 38530
        }
       ]
      },
      "text/plain": "      manufacturer_name  model_name transmission   color  odometer_value  \\\n0                Subaru     Outback    automatic  silver          190000   \n1                Subaru     Outback    automatic    blue          290000   \n2                Subaru    Forester    automatic     red          402000   \n3                Subaru     Impreza   mechanical    blue           10000   \n4                Subaru      Legacy    automatic   black          280000   \n...                 ...         ...          ...     ...             ...   \n38526          Chrysler         300    automatic  silver          290000   \n38527          Chrysler  PT Cruiser   mechanical    blue          321000   \n38528          Chrysler         300    automatic    blue          777957   \n38529          Chrysler  PT Cruiser   mechanical   black           20000   \n38530          Chrysler     Voyager    automatic  silver          297729   \n\n       year_produced engine_fuel  engine_has_gas engine_type  engine_capacity  \\\n0               2010    gasoline           False    gasoline              2.5   \n1               2002    gasoline           False    gasoline              3.0   \n2               2001    gasoline           False    gasoline              2.5   \n3               1999    gasoline           False    gasoline              3.0   \n4               2001    gasoline           False    gasoline              2.5   \n...              ...         ...             ...         ...              ...   \n38526           2000    gasoline           False    gasoline              3.5   \n38527           2004      diesel           False      diesel              2.2   \n38528           2000    gasoline           False    gasoline              3.5   \n38529           2001    gasoline           False    gasoline              2.0   \n38530           2000    gasoline           False    gasoline              2.4   \n\n       ... feature_1  feature_2 feature_3 feature_4  feature_5  feature_6  \\\n0      ...      True       True      True     False       True      False   \n1      ...      True      False     False      True       True      False   \n2      ...      True      False     False     False      False      False   \n3      ...     False      False     False     False      False      False   \n4      ...      True      False      True      True      False      False   \n...    ...       ...        ...       ...       ...        ...        ...   \n38526  ...      True      False     False      True       True      False   \n38527  ...      True      False     False      True       True      False   \n38528  ...      True      False     False      True       True      False   \n38529  ...      True      False     False     False      False      False   \n38530  ...     False      False     False     False      False      False   \n\n      feature_7  feature_8  feature_9  duration_listed  \n0          True       True       True               16  \n1         False      False       True               83  \n2         False       True       True              151  \n3         False      False      False               86  \n4         False      False       True                7  \n...         ...        ...        ...              ...  \n38526     False       True       True              301  \n38527     False       True       True              317  \n38528     False       True       True              369  \n38529     False      False       True              490  \n38530     False      False       True              632  \n\n[38531 rows x 30 columns]",
      "text/html": "<div>\n<style scoped>\n    .dataframe tbody tr th:only-of-type {\n        vertical-align: middle;\n    }\n\n    .dataframe tbody tr th {\n        vertical-align: top;\n    }\n\n    .dataframe thead th {\n        text-align: right;\n    }\n</style>\n<table border=\"1\" class=\"dataframe\">\n  <thead>\n    <tr style=\"text-align: right;\">\n      <th></th>\n      <th>manufacturer_name</th>\n      <th>model_name</th>\n      <th>transmission</th>\n      <th>color</th>\n      <th>odometer_value</th>\n      <th>year_produced</th>\n      <th>engine_fuel</th>\n      <th>engine_has_gas</th>\n      <th>engine_type</th>\n      <th>engine_capacity</th>\n      <th>...</th>\n      <th>feature_1</th>\n      <th>feature_2</th>\n      <th>feature_3</th>\n      <th>feature_4</th>\n      <th>feature_5</th>\n      <th>feature_6</th>\n      <th>feature_7</th>\n      <th>feature_8</th>\n      <th>feature_9</th>\n      <th>duration_listed</th>\n    </tr>\n  </thead>\n  <tbody>\n    <tr>\n      <th>0</th>\n      <td>Subaru</td>\n      <td>Outback</td>\n      <td>automatic</td>\n      <td>silver</td>\n      <td>190000</td>\n      <td>2010</td>\n      <td>gasoline</td>\n      <td>False</td>\n      <td>gasoline</td>\n      <td>2.5</td>\n      <td>...</td>\n      <td>True</td>\n      <td>True</td>\n      <td>True</td>\n      <td>False</td>\n      <td>True</td>\n      <td>False</td>\n      <td>True</td>\n      <td>True</td>\n      <td>True</td>\n      <td>16</td>\n    </tr>\n    <tr>\n      <th>1</th>\n      <td>Subaru</td>\n      <td>Outback</td>\n      <td>automatic</td>\n      <td>blue</td>\n      <td>290000</td>\n      <td>2002</td>\n      <td>gasoline</td>\n      <td>False</td>\n      <td>gasoline</td>\n      <td>3.0</td>\n      <td>...</td>\n      <td>True</td>\n      <td>False</td>\n      <td>False</td>\n      <td>True</td>\n      <td>True</td>\n      <td>False</td>\n      <td>False</td>\n      <td>False</td>\n      <td>True</td>\n      <td>83</td>\n    </tr>\n    <tr>\n      <th>2</th>\n      <td>Subaru</td>\n      <td>Forester</td>\n      <td>automatic</td>\n      <td>red</td>\n      <td>402000</td>\n      <td>2001</td>\n      <td>gasoline</td>\n      <td>False</td>\n      <td>gasoline</td>\n      <td>2.5</td>\n      <td>...</td>\n      <td>True</td>\n      <td>False</td>\n      <td>False</td>\n      <td>False</td>\n      <td>False</td>\n      <td>False</td>\n      <td>False</td>\n      <td>True</td>\n      <td>True</td>\n      <td>151</td>\n    </tr>\n    <tr>\n      <th>3</th>\n      <td>Subaru</td>\n      <td>Impreza</td>\n      <td>mechanical</td>\n      <td>blue</td>\n      <td>10000</td>\n      <td>1999</td>\n      <td>gasoline</td>\n      <td>False</td>\n      <td>gasoline</td>\n      <td>3.0</td>\n      <td>...</td>\n      <td>False</td>\n      <td>False</td>\n      <td>False</td>\n      <td>False</td>\n      <td>False</td>\n      <td>False</td>\n      <td>False</td>\n      <td>False</td>\n      <td>False</td>\n      <td>86</td>\n    </tr>\n    <tr>\n      <th>4</th>\n      <td>Subaru</td>\n      <td>Legacy</td>\n      <td>automatic</td>\n      <td>black</td>\n      <td>280000</td>\n      <td>2001</td>\n      <td>gasoline</td>\n      <td>False</td>\n      <td>gasoline</td>\n      <td>2.5</td>\n      <td>...</td>\n      <td>True</td>\n      <td>False</td>\n      <td>True</td>\n      <td>True</td>\n      <td>False</td>\n      <td>False</td>\n      <td>False</td>\n      <td>False</td>\n      <td>True</td>\n      <td>7</td>\n    </tr>\n    <tr>\n      <th>...</th>\n      <td>...</td>\n      <td>...</td>\n      <td>...</td>\n      <td>...</td>\n      <td>...</td>\n      <td>...</td>\n      <td>...</td>\n      <td>...</td>\n      <td>...</td>\n      <td>...</td>\n      <td>...</td>\n      <td>...</td>\n      <td>...</td>\n      <td>...</td>\n      <td>...</td>\n      <td>...</td>\n      <td>...</td>\n      <td>...</td>\n      <td>...</td>\n      <td>...</td>\n      <td>...</td>\n    </tr>\n    <tr>\n      <th>38526</th>\n      <td>Chrysler</td>\n      <td>300</td>\n      <td>automatic</td>\n      <td>silver</td>\n      <td>290000</td>\n      <td>2000</td>\n      <td>gasoline</td>\n      <td>False</td>\n      <td>gasoline</td>\n      <td>3.5</td>\n      <td>...</td>\n      <td>True</td>\n      <td>False</td>\n      <td>False</td>\n      <td>True</td>\n      <td>True</td>\n      <td>False</td>\n      <td>False</td>\n      <td>True</td>\n      <td>True</td>\n      <td>301</td>\n    </tr>\n    <tr>\n      <th>38527</th>\n      <td>Chrysler</td>\n      <td>PT Cruiser</td>\n      <td>mechanical</td>\n      <td>blue</td>\n      <td>321000</td>\n      <td>2004</td>\n      <td>diesel</td>\n      <td>False</td>\n      <td>diesel</td>\n      <td>2.2</td>\n      <td>...</td>\n      <td>True</td>\n      <td>False</td>\n      <td>False</td>\n      <td>True</td>\n      <td>True</td>\n      <td>False</td>\n      <td>False</td>\n      <td>True</td>\n      <td>True</td>\n      <td>317</td>\n    </tr>\n    <tr>\n      <th>38528</th>\n      <td>Chrysler</td>\n      <td>300</td>\n      <td>automatic</td>\n      <td>blue</td>\n      <td>777957</td>\n      <td>2000</td>\n      <td>gasoline</td>\n      <td>False</td>\n      <td>gasoline</td>\n      <td>3.5</td>\n      <td>...</td>\n      <td>True</td>\n      <td>False</td>\n      <td>False</td>\n      <td>True</td>\n      <td>True</td>\n      <td>False</td>\n      <td>False</td>\n      <td>True</td>\n      <td>True</td>\n      <td>369</td>\n    </tr>\n    <tr>\n      <th>38529</th>\n      <td>Chrysler</td>\n      <td>PT Cruiser</td>\n      <td>mechanical</td>\n      <td>black</td>\n      <td>20000</td>\n      <td>2001</td>\n      <td>gasoline</td>\n      <td>False</td>\n      <td>gasoline</td>\n      <td>2.0</td>\n      <td>...</td>\n      <td>True</td>\n      <td>False</td>\n      <td>False</td>\n      <td>False</td>\n      <td>False</td>\n      <td>False</td>\n      <td>False</td>\n      <td>False</td>\n      <td>True</td>\n      <td>490</td>\n    </tr>\n    <tr>\n      <th>38530</th>\n      <td>Chrysler</td>\n      <td>Voyager</td>\n      <td>automatic</td>\n      <td>silver</td>\n      <td>297729</td>\n      <td>2000</td>\n      <td>gasoline</td>\n      <td>False</td>\n      <td>gasoline</td>\n      <td>2.4</td>\n      <td>...</td>\n      <td>False</td>\n      <td>False</td>\n      <td>False</td>\n      <td>False</td>\n      <td>False</td>\n      <td>False</td>\n      <td>False</td>\n      <td>False</td>\n      <td>True</td>\n      <td>632</td>\n    </tr>\n  </tbody>\n</table>\n<p>38531 rows × 30 columns</p>\n</div>"
     },
     "metadata": {}
    }
   ]
  },
  {
   "cell_type": "markdown",
   "source": "I want to buy a car, I want to check out prices and the average of the prices in used cars\n\nWe select the row we want to study and calculate the mean.",
   "metadata": {
    "tags": [],
    "cell_id": "00002-df7beee6-70e4-402f-90b5-2dfa4758ecd7",
    "deepnote_cell_type": "markdown"
   }
  },
  {
   "cell_type": "code",
   "metadata": {
    "tags": [],
    "cell_id": "00003-8e930af8-8a73-402a-9921-d45fe37e00bd",
    "deepnote_to_be_reexecuted": false,
    "source_hash": "bc174504",
    "execution_start": 1625317774222,
    "deepnote_cell_type": "code"
   },
   "source": "df['price_usd'].mean()",
   "execution_count": null,
   "outputs": [
    {
     "output_type": "execute_result",
     "execution_count": 4,
     "data": {
      "text/plain": "6639.971021255613"
     },
     "metadata": {}
    }
   ]
  },
  {
   "cell_type": "markdown",
   "source": "Now we have the mean, but we want to know if there is any atypical value or something moving our mean, so we calculate the median",
   "metadata": {
    "tags": [],
    "cell_id": "00004-545de2a8-2e4b-4917-916c-5c22a5f81238",
    "deepnote_cell_type": "markdown"
   }
  },
  {
   "cell_type": "code",
   "metadata": {
    "tags": [],
    "cell_id": "00005-c4a2e762-433b-4e2d-89dd-006e25b19faf",
    "deepnote_to_be_reexecuted": false,
    "source_hash": "b7a97061",
    "execution_start": 1625317880550,
    "execution_millis": 10,
    "deepnote_cell_type": "code"
   },
   "source": "df['price_usd'].median()",
   "execution_count": null,
   "outputs": [
    {
     "output_type": "execute_result",
     "execution_count": 5,
     "data": {
      "text/plain": "4800.0"
     },
     "metadata": {}
    }
   ]
  },
  {
   "cell_type": "markdown",
   "source": "As we can see, the median is smaller than the mean, that could be because, there are car that are very expensive and make the mean bigger.\n\nWe want to see how this data is represented, but, remember that price_usd is a Numerical continuous variable, because of that we can't use a bar chart, we need to use an histogram",
   "metadata": {
    "tags": [],
    "cell_id": "00006-69852f63-6a91-4527-9da5-471596afd2c8",
    "deepnote_cell_type": "markdown"
   }
  },
  {
   "cell_type": "code",
   "metadata": {
    "tags": [],
    "cell_id": "00007-5bbcf522-8354-4d03-9643-77800d7fc5db",
    "deepnote_to_be_reexecuted": false,
    "source_hash": "71a18e28",
    "execution_start": 1625318144603,
    "execution_millis": 1857,
    "deepnote_cell_type": "code"
   },
   "source": "df['price_usd'].plot.hist(bins=20)",
   "execution_count": null,
   "outputs": [
    {
     "output_type": "execute_result",
     "execution_count": 6,
     "data": {
      "text/plain": "<AxesSubplot:ylabel='Frequency'>"
     },
     "metadata": {}
    },
    {
     "data": {
      "text/plain": "<Figure size 432x288 with 1 Axes>",
      "image/png": "[encoded data removed]"
     },
     "metadata": {
      "needs_background": "light",
      "image/png": {
       "width": 402,
       "height": 248
      }
     },
     "output_type": "display_data"
    }
   ]
  },
  {
   "cell_type": "markdown",
   "source": "Could be more insteresting if we analyze this data by brand.\n\nBesides using seaborn could help us a lot.",
   "metadata": {
    "tags": [],
    "cell_id": "00008-0c8cfe9f-d84d-4bfc-9163-195c82226cdf",
    "deepnote_cell_type": "markdown"
   }
  },
  {
   "cell_type": "code",
   "metadata": {
    "tags": [],
    "cell_id": "00009-b6b85652-decd-457e-9f36-608a5e5c3aa7",
    "deepnote_to_be_reexecuted": false,
    "source_hash": "c9d2f67b",
    "execution_start": 1625318303145,
    "execution_millis": 989,
    "deepnote_cell_type": "code"
   },
   "source": "import seaborn as sns",
   "execution_count": null,
   "outputs": []
  },
  {
   "cell_type": "code",
   "metadata": {
    "tags": [],
    "cell_id": "00010-516ab40f-3fc8-4743-9e88-3d98d959bc7b",
    "deepnote_to_be_reexecuted": false,
    "source_hash": "81a81d8a",
    "execution_start": 1625318462434,
    "execution_millis": 27465,
    "deepnote_cell_type": "code"
   },
   "source": "sns.displot(df,x='price_usd', hue='manufacturer_name')",
   "execution_count": null,
   "outputs": [
    {
     "output_type": "execute_result",
     "execution_count": 9,
     "data": {
      "text/plain": "<seaborn.axisgrid.FacetGrid at 0x7f584be89090>"
     },
     "metadata": {}
    },
    {
     "data": {
      "text/plain": "<Figure size 471.75x360 with 1 Axes>",
      "image/png": "[encoded data removed]"
     },
     "metadata": {
      "needs_background": "light",
      "image/png": {
       "width": 470,
       "height": 858
      }
     },
     "output_type": "display_data"
    }
   ]
  },
  {
   "cell_type": "code",
   "metadata": {
    "tags": [],
    "cell_id": "00011-92085773-e97e-48cd-ac12-2ebd40d3bf76",
    "deepnote_to_be_reexecuted": false,
    "source_hash": "4459cc1",
    "execution_start": 1625319054674,
    "execution_millis": 1811,
    "deepnote_cell_type": "code"
   },
   "source": "sns.displot(df, x='price_usd', hue='engine_type')",
   "execution_count": null,
   "outputs": [
    {
     "output_type": "execute_result",
     "execution_count": 10,
     "data": {
      "text/plain": "<seaborn.axisgrid.FacetGrid at 0x7f5840518410>"
     },
     "metadata": {}
    },
    {
     "data": {
      "text/plain": "<Figure size 438x360 with 1 Axes>",
      "image/png": "[encoded data removed]"
     },
     "metadata": {
      "needs_background": "light",
      "image/png": {
       "width": 436,
       "height": 352
      }
     },
     "output_type": "display_data"
    }
   ]
  },
  {
   "cell_type": "markdown",
   "source": "It's not so comfortable, to see this histogram, so we will use stacked bars",
   "metadata": {
    "tags": [],
    "cell_id": "00012-cd6f46d2-5f9b-4dee-8030-e39e14ad0536",
    "deepnote_cell_type": "markdown"
   }
  },
  {
   "cell_type": "code",
   "metadata": {
    "tags": [],
    "cell_id": "00013-a2e635ab-dc12-45e8-ae57-ccab66bdd04b",
    "deepnote_to_be_reexecuted": false,
    "source_hash": "40297dd2",
    "execution_start": 1625319138911,
    "execution_millis": 1938,
    "deepnote_cell_type": "code"
   },
   "source": "sns.displot(df, x='price_usd', hue='engine_type', multiple='stack')",
   "execution_count": null,
   "outputs": [
    {
     "output_type": "execute_result",
     "execution_count": 11,
     "data": {
      "text/plain": "<seaborn.axisgrid.FacetGrid at 0x7f583fd96310>"
     },
     "metadata": {}
    },
    {
     "data": {
      "text/plain": "<Figure size 438x360 with 1 Axes>",
      "image/png": "[encoded data removed]"
     },
     "metadata": {
      "needs_background": "light",
      "image/png": {
       "width": 436,
       "height": 352
      }
     },
     "output_type": "display_data"
    }
   ]
  },
  {
   "cell_type": "markdown",
   "source": "As we can see, we have a lot of gasoline and diesel cars, but I can't see any electric, let's see how many of each type we have",
   "metadata": {
    "tags": [],
    "cell_id": "00014-e0e0c8e8-84b5-4b27-ab13-ad24a5cfb390",
    "deepnote_cell_type": "markdown"
   }
  },
  {
   "cell_type": "code",
   "metadata": {
    "tags": [],
    "cell_id": "00015-c6e6e8b9-5ebb-4f91-b92e-8641ffa0adf0",
    "deepnote_to_be_reexecuted": false,
    "source_hash": "4c516938",
    "execution_start": 1625319264612,
    "execution_millis": 100,
    "deepnote_cell_type": "code"
   },
   "source": "df.groupby('engine_type').count()",
   "execution_count": null,
   "outputs": [
    {
     "output_type": "execute_result",
     "execution_count": 13,
     "data": {
      "application/vnd.deepnote.dataframe.v2+json": {
       "row_count": 3,
       "column_count": 29,
       "columns": [
        {
         "name": "manufacturer_name",
         "dtype": "int64",
         "stats": {
          "unique_count": 3,
          "nan_count": 0,
          "min": "10",
          "max": "25647",
          "histogram": [
           {
            "bin_start": 10,
            "bin_end": 2573.7,
            "count": 1
           },
           {
            "bin_start": 2573.7,
            "bin_end": 5137.4,
            "count": 0
           },
           {
            "bin_start": 5137.4,
            "bin_end": 7701.099999999999,
            "count": 0
           },
           {
            "bin_start": 7701.099999999999,
            "bin_end": 10264.8,
            "count": 0
           },
           {
            "bin_start": 10264.8,
            "bin_end": 12828.5,
            "count": 0
           },
           {
            "bin_start": 12828.5,
            "bin_end": 15392.199999999999,
            "count": 1
           },
           {
            "bin_start": 15392.199999999999,
            "bin_end": 17955.899999999998,
            "count": 0
           },
           {
            "bin_start": 17955.899999999998,
            "bin_end": 20519.6,
            "count": 0
           },
           {
            "bin_start": 20519.6,
            "bin_end": 23083.3,
            "count": 0
           },
           {
            "bin_start": 23083.3,
            "bin_end": 25647,
            "count": 1
           }
          ]
         }
        },
        {
         "name": "model_name",
         "dtype": "int64",
         "stats": {
          "unique_count": 3,
          "nan_count": 0,
          "min": "10",
          "max": "25647",
          "histogram": [
           {
            "bin_start": 10,
            "bin_end": 2573.7,
            "count": 1
           },
           {
            "bin_start": 2573.7,
            "bin_end": 5137.4,
            "count": 0
           },
           {
            "bin_start": 5137.4,
            "bin_end": 7701.099999999999,
            "count": 0
           },
           {
            "bin_start": 7701.099999999999,
            "bin_end": 10264.8,
            "count": 0
           },
           {
            "bin_start": 10264.8,
            "bin_end": 12828.5,
            "count": 0
           },
           {
            "bin_start": 12828.5,
            "bin_end": 15392.199999999999,
            "count": 1
           },
           {
            "bin_start": 15392.199999999999,
            "bin_end": 17955.899999999998,
            "count": 0
           },
           {
            "bin_start": 17955.899999999998,
            "bin_end": 20519.6,
            "count": 0
           },
           {
            "bin_start": 20519.6,
            "bin_end": 23083.3,
            "count": 0
           },
           {
            "bin_start": 23083.3,
            "bin_end": 25647,
            "count": 1
           }
          ]
         }
        },
        {
         "name": "transmission",
         "dtype": "int64",
         "stats": {
          "unique_count": 3,
          "nan_count": 0,
          "min": "10",
          "max": "25647",
          "histogram": [
           {
            "bin_start": 10,
            "bin_end": 2573.7,
            "count": 1
           },
           {
            "bin_start": 2573.7,
            "bin_end": 5137.4,
            "count": 0
           },
           {
            "bin_start": 5137.4,
            "bin_end": 7701.099999999999,
            "count": 0
           },
           {
            "bin_start": 7701.099999999999,
            "bin_end": 10264.8,
            "count": 0
           },
           {
            "bin_start": 10264.8,
            "bin_end": 12828.5,
            "count": 0
           },
           {
            "bin_start": 12828.5,
            "bin_end": 15392.199999999999,
            "count": 1
           },
           {
            "bin_start": 15392.199999999999,
            "bin_end": 17955.899999999998,
            "count": 0
           },
           {
            "bin_start": 17955.899999999998,
            "bin_end": 20519.6,
            "count": 0
           },
           {
            "bin_start": 20519.6,
            "bin_end": 23083.3,
            "count": 0
           },
           {
            "bin_start": 23083.3,
            "bin_end": 25647,
            "count": 1
           }
          ]
         }
        },
        {
         "name": "color",
         "dtype": "int64",
         "stats": {
          "unique_count": 3,
          "nan_count": 0,
          "min": "10",
          "max": "25647",
          "histogram": [
           {
            "bin_start": 10,
            "bin_end": 2573.7,
            "count": 1
           },
           {
            "bin_start": 2573.7,
            "bin_end": 5137.4,
            "count": 0
           },
           {
            "bin_start": 5137.4,
            "bin_end": 7701.099999999999,
            "count": 0
           },
           {
            "bin_start": 7701.099999999999,
            "bin_end": 10264.8,
            "count": 0
           },
           {
            "bin_start": 10264.8,
            "bin_end": 12828.5,
            "count": 0
           },
           {
            "bin_start": 12828.5,
            "bin_end": 15392.199999999999,
            "count": 1
           },
           {
            "bin_start": 15392.199999999999,
            "bin_end": 17955.899999999998,
            "count": 0
           },
           {
            "bin_start": 17955.899999999998,
            "bin_end": 20519.6,
            "count": 0
           },
           {
            "bin_start": 20519.6,
            "bin_end": 23083.3,
            "count": 0
           },
           {
            "bin_start": 23083.3,
            "bin_end": 25647,
            "count": 1
           }
          ]
         }
        },
        {
         "name": "odometer_value",
         "dtype": "int64",
         "stats": {
          "unique_count": 3,
          "nan_count": 0,
          "min": "10",
          "max": "25647",
          "histogram": [
           {
            "bin_start": 10,
            "bin_end": 2573.7,
            "count": 1
           },
           {
            "bin_start": 2573.7,
            "bin_end": 5137.4,
            "count": 0
           },
           {
            "bin_start": 5137.4,
            "bin_end": 7701.099999999999,
            "count": 0
           },
           {
            "bin_start": 7701.099999999999,
            "bin_end": 10264.8,
            "count": 0
           },
           {
            "bin_start": 10264.8,
            "bin_end": 12828.5,
            "count": 0
           },
           {
            "bin_start": 12828.5,
            "bin_end": 15392.199999999999,
            "count": 1
           },
           {
            "bin_start": 15392.199999999999,
            "bin_end": 17955.899999999998,
            "count": 0
           },
           {
            "bin_start": 17955.899999999998,
            "bin_end": 20519.6,
            "count": 0
           },
           {
            "bin_start": 20519.6,
            "bin_end": 23083.3,
            "count": 0
           },
           {
            "bin_start": 23083.3,
            "bin_end": 25647,
            "count": 1
           }
          ]
         }
        },
        {
         "name": "year_produced",
         "dtype": "int64",
         "stats": {
          "unique_count": 3,
          "nan_count": 0,
          "min": "10",
          "max": "25647",
          "histogram": [
           {
            "bin_start": 10,
            "bin_end": 2573.7,
            "count": 1
           },
           {
            "bin_start": 2573.7,
            "bin_end": 5137.4,
            "count": 0
           },
           {
            "bin_start": 5137.4,
            "bin_end": 7701.099999999999,
            "count": 0
           },
           {
            "bin_start": 7701.099999999999,
            "bin_end": 10264.8,
            "count": 0
           },
           {
            "bin_start": 10264.8,
            "bin_end": 12828.5,
            "count": 0
           },
           {
            "bin_start": 12828.5,
            "bin_end": 15392.199999999999,
            "count": 1
           },
           {
            "bin_start": 15392.199999999999,
            "bin_end": 17955.899999999998,
            "count": 0
           },
           {
            "bin_start": 17955.899999999998,
            "bin_end": 20519.6,
            "count": 0
           },
           {
            "bin_start": 20519.6,
            "bin_end": 23083.3,
            "count": 0
           },
           {
            "bin_start": 23083.3,
            "bin_end": 25647,
            "count": 1
           }
          ]
         }
        },
        {
         "name": "engine_fuel",
         "dtype": "int64",
         "stats": {
          "unique_count": 3,
          "nan_count": 0,
          "min": "10",
          "max": "25647",
          "histogram": [
           {
            "bin_start": 10,
            "bin_end": 2573.7,
            "count": 1
           },
           {
            "bin_start": 2573.7,
            "bin_end": 5137.4,
            "count": 0
           },
           {
            "bin_start": 5137.4,
            "bin_end": 7701.099999999999,
            "count": 0
           },
           {
            "bin_start": 7701.099999999999,
            "bin_end": 10264.8,
            "count": 0
           },
           {
            "bin_start": 10264.8,
            "bin_end": 12828.5,
            "count": 0
           },
           {
            "bin_start": 12828.5,
            "bin_end": 15392.199999999999,
            "count": 1
           },
           {
            "bin_start": 15392.199999999999,
            "bin_end": 17955.899999999998,
            "count": 0
           },
           {
            "bin_start": 17955.899999999998,
            "bin_end": 20519.6,
            "count": 0
           },
           {
            "bin_start": 20519.6,
            "bin_end": 23083.3,
            "count": 0
           },
           {
            "bin_start": 23083.3,
            "bin_end": 25647,
            "count": 1
           }
          ]
         }
        },
        {
         "name": "engine_has_gas",
         "dtype": "int64",
         "stats": {
          "unique_count": 3,
          "nan_count": 0,
          "min": "10",
          "max": "25647",
          "histogram": [
           {
            "bin_start": 10,
            "bin_end": 2573.7,
            "count": 1
           },
           {
            "bin_start": 2573.7,
            "bin_end": 5137.4,
            "count": 0
           },
           {
            "bin_start": 5137.4,
            "bin_end": 7701.099999999999,
            "count": 0
           },
           {
            "bin_start": 7701.099999999999,
            "bin_end": 10264.8,
            "count": 0
           },
           {
            "bin_start": 10264.8,
            "bin_end": 12828.5,
            "count": 0
           },
           {
            "bin_start": 12828.5,
            "bin_end": 15392.199999999999,
            "count": 1
           },
           {
            "bin_start": 15392.199999999999,
            "bin_end": 17955.899999999998,
            "count": 0
           },
           {
            "bin_start": 17955.899999999998,
            "bin_end": 20519.6,
            "count": 0
           },
           {
            "bin_start": 20519.6,
            "bin_end": 23083.3,
            "count": 0
           },
           {
            "bin_start": 23083.3,
            "bin_end": 25647,
            "count": 1
           }
          ]
         }
        },
        {
         "name": "engine_capacity",
         "dtype": "int64",
         "stats": {
          "unique_count": 3,
          "nan_count": 0,
          "min": "0",
          "max": "25647",
          "histogram": [
           {
            "bin_start": 0,
            "bin_end": 2564.7,
            "count": 1
           },
           {
            "bin_start": 2564.7,
            "bin_end": 5129.4,
            "count": 0
           },
           {
            "bin_start": 5129.4,
            "bin_end": 7694.099999999999,
            "count": 0
           },
           {
            "bin_start": 7694.099999999999,
            "bin_end": 10258.8,
            "count": 0
           },
           {
            "bin_start": 10258.8,
            "bin_end": 12823.5,
            "count": 0
           },
           {
            "bin_start": 12823.5,
            "bin_end": 15388.199999999999,
            "count": 1
           },
           {
            "bin_start": 15388.199999999999,
            "bin_end": 17952.899999999998,
            "count": 0
           },
           {
            "bin_start": 17952.899999999998,
            "bin_end": 20517.6,
            "count": 0
           },
           {
            "bin_start": 20517.6,
            "bin_end": 23082.3,
            "count": 0
           },
           {
            "bin_start": 23082.3,
            "bin_end": 25647,
            "count": 1
           }
          ]
         }
        },
        {
         "name": "body_type",
         "dtype": "int64",
         "stats": {
          "unique_count": 3,
          "nan_count": 0,
          "min": "10",
          "max": "25647",
          "histogram": [
           {
            "bin_start": 10,
            "bin_end": 2573.7,
            "count": 1
           },
           {
            "bin_start": 2573.7,
            "bin_end": 5137.4,
            "count": 0
           },
           {
            "bin_start": 5137.4,
            "bin_end": 7701.099999999999,
            "count": 0
           },
           {
            "bin_start": 7701.099999999999,
            "bin_end": 10264.8,
            "count": 0
           },
           {
            "bin_start": 10264.8,
            "bin_end": 12828.5,
            "count": 0
           },
           {
            "bin_start": 12828.5,
            "bin_end": 15392.199999999999,
            "count": 1
           },
           {
            "bin_start": 15392.199999999999,
            "bin_end": 17955.899999999998,
            "count": 0
           },
           {
            "bin_start": 17955.899999999998,
            "bin_end": 20519.6,
            "count": 0
           },
           {
            "bin_start": 20519.6,
            "bin_end": 23083.3,
            "count": 0
           },
           {
            "bin_start": 23083.3,
            "bin_end": 25647,
            "count": 1
           }
          ]
         }
        },
        {
         "name": "has_warranty",
         "dtype": "int64",
         "stats": {
          "unique_count": 3,
          "nan_count": 0,
          "min": "10",
          "max": "25647",
          "histogram": [
           {
            "bin_start": 10,
            "bin_end": 2573.7,
            "count": 1
           },
           {
            "bin_start": 2573.7,
            "bin_end": 5137.4,
            "count": 0
           },
           {
            "bin_start": 5137.4,
            "bin_end": 7701.099999999999,
            "count": 0
           },
           {
            "bin_start": 7701.099999999999,
            "bin_end": 10264.8,
            "count": 0
           },
           {
            "bin_start": 10264.8,
            "bin_end": 12828.5,
            "count": 0
           },
           {
            "bin_start": 12828.5,
            "bin_end": 15392.199999999999,
            "count": 1
           },
           {
            "bin_start": 15392.199999999999,
            "bin_end": 17955.899999999998,
            "count": 0
           },
           {
            "bin_start": 17955.899999999998,
            "bin_end": 20519.6,
            "count": 0
           },
           {
            "bin_start": 20519.6,
            "bin_end": 23083.3,
            "count": 0
           },
           {
            "bin_start": 23083.3,
            "bin_end": 25647,
            "count": 1
           }
          ]
         }
        },
        {
         "name": "state",
         "dtype": "int64",
         "stats": {
          "unique_count": 3,
          "nan_count": 0,
          "min": "10",
          "max": "25647",
          "histogram": [
           {
            "bin_start": 10,
            "bin_end": 2573.7,
            "count": 1
           },
           {
            "bin_start": 2573.7,
            "bin_end": 5137.4,
            "count": 0
           },
           {
            "bin_start": 5137.4,
            "bin_end": 7701.099999999999,
            "count": 0
           },
           {
            "bin_start": 7701.099999999999,
            "bin_end": 10264.8,
            "count": 0
           },
           {
            "bin_start": 10264.8,
            "bin_end": 12828.5,
            "count": 0
           },
           {
            "bin_start": 12828.5,
            "bin_end": 15392.199999999999,
            "count": 1
           },
           {
            "bin_start": 15392.199999999999,
            "bin_end": 17955.899999999998,
            "count": 0
           },
           {
            "bin_start": 17955.899999999998,
            "bin_end": 20519.6,
            "count": 0
           },
           {
            "bin_start": 20519.6,
            "bin_end": 23083.3,
            "count": 0
           },
           {
            "bin_start": 23083.3,
            "bin_end": 25647,
            "count": 1
           }
          ]
         }
        },
        {
         "name": "drivetrain",
         "dtype": "int64",
         "stats": {
          "unique_count": 3,
          "nan_count": 0,
          "min": "10",
          "max": "25647",
          "histogram": [
           {
            "bin_start": 10,
            "bin_end": 2573.7,
            "count": 1
           },
           {
            "bin_start": 2573.7,
            "bin_end": 5137.4,
            "count": 0
           },
           {
            "bin_start": 5137.4,
            "bin_end": 7701.099999999999,
            "count": 0
           },
           {
            "bin_start": 7701.099999999999,
            "bin_end": 10264.8,
            "count": 0
           },
           {
            "bin_start": 10264.8,
            "bin_end": 12828.5,
            "count": 0
           },
           {
            "bin_start": 12828.5,
            "bin_end": 15392.199999999999,
            "count": 1
           },
           {
            "bin_start": 15392.199999999999,
            "bin_end": 17955.899999999998,
            "count": 0
           },
           {
            "bin_start": 17955.899999999998,
            "bin_end": 20519.6,
            "count": 0
           },
           {
            "bin_start": 20519.6,
            "bin_end": 23083.3,
            "count": 0
           },
           {
            "bin_start": 23083.3,
            "bin_end": 25647,
            "count": 1
           }
          ]
         }
        },
        {
         "name": "price_usd",
         "dtype": "int64",
         "stats": {
          "unique_count": 3,
          "nan_count": 0,
          "min": "10",
          "max": "25647",
          "histogram": [
           {
            "bin_start": 10,
            "bin_end": 2573.7,
            "count": 1
           },
           {
            "bin_start": 2573.7,
            "bin_end": 5137.4,
            "count": 0
           },
           {
            "bin_start": 5137.4,
            "bin_end": 7701.099999999999,
            "count": 0
           },
           {
            "bin_start": 7701.099999999999,
            "bin_end": 10264.8,
            "count": 0
           },
           {
            "bin_start": 10264.8,
            "bin_end": 12828.5,
            "count": 0
           },
           {
            "bin_start": 12828.5,
            "bin_end": 15392.199999999999,
            "count": 1
           },
           {
            "bin_start": 15392.199999999999,
            "bin_end": 17955.899999999998,
            "count": 0
           },
           {
            "bin_start": 17955.899999999998,
            "bin_end": 20519.6,
            "count": 0
           },
           {
            "bin_start": 20519.6,
            "bin_end": 23083.3,
            "count": 0
           },
           {
            "bin_start": 23083.3,
            "bin_end": 25647,
            "count": 1
           }
          ]
         }
        },
        {
         "name": "is_exchangeable",
         "dtype": "int64",
         "stats": {
          "unique_count": 3,
          "nan_count": 0,
          "min": "10",
          "max": "25647",
          "histogram": [
           {
            "bin_start": 10,
            "bin_end": 2573.7,
            "count": 1
           },
           {
            "bin_start": 2573.7,
            "bin_end": 5137.4,
            "count": 0
           },
           {
            "bin_start": 5137.4,
            "bin_end": 7701.099999999999,
            "count": 0
           },
           {
            "bin_start": 7701.099999999999,
            "bin_end": 10264.8,
            "count": 0
           },
           {
            "bin_start": 10264.8,
            "bin_end": 12828.5,
            "count": 0
           },
           {
            "bin_start": 12828.5,
            "bin_end": 15392.199999999999,
            "count": 1
           },
           {
            "bin_start": 15392.199999999999,
            "bin_end": 17955.899999999998,
            "count": 0
           },
           {
            "bin_start": 17955.899999999998,
            "bin_end": 20519.6,
            "count": 0
           },
           {
            "bin_start": 20519.6,
            "bin_end": 23083.3,
            "count": 0
           },
           {
            "bin_start": 23083.3,
            "bin_end": 25647,
            "count": 1
           }
          ]
         }
        },
        {
         "name": "location_region",
         "dtype": "int64",
         "stats": {
          "unique_count": 3,
          "nan_count": 0,
          "min": "10",
          "max": "25647",
          "histogram": [
           {
            "bin_start": 10,
            "bin_end": 2573.7,
            "count": 1
           },
           {
            "bin_start": 2573.7,
            "bin_end": 5137.4,
            "count": 0
           },
           {
            "bin_start": 5137.4,
            "bin_end": 7701.099999999999,
            "count": 0
           },
           {
            "bin_start": 7701.099999999999,
            "bin_end": 10264.8,
            "count": 0
           },
           {
            "bin_start": 10264.8,
            "bin_end": 12828.5,
            "count": 0
           },
           {
            "bin_start": 12828.5,
            "bin_end": 15392.199999999999,
            "count": 1
           },
           {
            "bin_start": 15392.199999999999,
            "bin_end": 17955.899999999998,
            "count": 0
           },
           {
            "bin_start": 17955.899999999998,
            "bin_end": 20519.6,
            "count": 0
           },
           {
            "bin_start": 20519.6,
            "bin_end": 23083.3,
            "count": 0
           },
           {
            "bin_start": 23083.3,
            "bin_end": 25647,
            "count": 1
           }
          ]
         }
        },
        {
         "name": "number_of_photos",
         "dtype": "int64",
         "stats": {
          "unique_count": 3,
          "nan_count": 0,
          "min": "10",
          "max": "25647",
          "histogram": [
           {
            "bin_start": 10,
            "bin_end": 2573.7,
            "count": 1
           },
           {
            "bin_start": 2573.7,
            "bin_end": 5137.4,
            "count": 0
           },
           {
            "bin_start": 5137.4,
            "bin_end": 7701.099999999999,
            "count": 0
           },
           {
            "bin_start": 7701.099999999999,
            "bin_end": 10264.8,
            "count": 0
           },
           {
            "bin_start": 10264.8,
            "bin_end": 12828.5,
            "count": 0
           },
           {
            "bin_start": 12828.5,
            "bin_end": 15392.199999999999,
            "count": 1
           },
           {
            "bin_start": 15392.199999999999,
            "bin_end": 17955.899999999998,
            "count": 0
           },
           {
            "bin_start": 17955.899999999998,
            "bin_end": 20519.6,
            "count": 0
           },
           {
            "bin_start": 20519.6,
            "bin_end": 23083.3,
            "count": 0
           },
           {
            "bin_start": 23083.3,
            "bin_end": 25647,
            "count": 1
           }
          ]
         }
        },
        {
         "name": "up_counter",
         "dtype": "int64",
         "stats": {
          "unique_count": 3,
          "nan_count": 0,
          "min": "10",
          "max": "25647",
          "histogram": [
           {
            "bin_start": 10,
            "bin_end": 2573.7,
            "count": 1
           },
           {
            "bin_start": 2573.7,
            "bin_end": 5137.4,
            "count": 0
           },
           {
            "bin_start": 5137.4,
            "bin_end": 7701.099999999999,
            "count": 0
           },
           {
            "bin_start": 7701.099999999999,
            "bin_end": 10264.8,
            "count": 0
           },
           {
            "bin_start": 10264.8,
            "bin_end": 12828.5,
            "count": 0
           },
           {
            "bin_start": 12828.5,
            "bin_end": 15392.199999999999,
            "count": 1
           },
           {
            "bin_start": 15392.199999999999,
            "bin_end": 17955.899999999998,
            "count": 0
           },
           {
            "bin_start": 17955.899999999998,
            "bin_end": 20519.6,
            "count": 0
           },
           {
            "bin_start": 20519.6,
            "bin_end": 23083.3,
            "count": 0
           },
           {
            "bin_start": 23083.3,
            "bin_end": 25647,
            "count": 1
           }
          ]
         }
        },
        {
         "name": "feature_0",
         "dtype": "int64",
         "stats": {
          "unique_count": 3,
          "nan_count": 0,
          "min": "10",
          "max": "25647",
          "histogram": [
           {
            "bin_start": 10,
            "bin_end": 2573.7,
            "count": 1
           },
           {
            "bin_start": 2573.7,
            "bin_end": 5137.4,
            "count": 0
           },
           {
            "bin_start": 5137.4,
            "bin_end": 7701.099999999999,
            "count": 0
           },
           {
            "bin_start": 7701.099999999999,
            "bin_end": 10264.8,
            "count": 0
           },
           {
            "bin_start": 10264.8,
            "bin_end": 12828.5,
            "count": 0
           },
           {
            "bin_start": 12828.5,
            "bin_end": 15392.199999999999,
            "count": 1
           },
           {
            "bin_start": 15392.199999999999,
            "bin_end": 17955.899999999998,
            "count": 0
           },
           {
            "bin_start": 17955.899999999998,
            "bin_end": 20519.6,
            "count": 0
           },
           {
            "bin_start": 20519.6,
            "bin_end": 23083.3,
            "count": 0
           },
           {
            "bin_start": 23083.3,
            "bin_end": 25647,
            "count": 1
           }
          ]
         }
        },
        {
         "name": "feature_1",
         "dtype": "int64",
         "stats": {
          "unique_count": 3,
          "nan_count": 0,
          "min": "10",
          "max": "25647",
          "histogram": [
           {
            "bin_start": 10,
            "bin_end": 2573.7,
            "count": 1
           },
           {
            "bin_start": 2573.7,
            "bin_end": 5137.4,
            "count": 0
           },
           {
            "bin_start": 5137.4,
            "bin_end": 7701.099999999999,
            "count": 0
           },
           {
            "bin_start": 7701.099999999999,
            "bin_end": 10264.8,
            "count": 0
           },
           {
            "bin_start": 10264.8,
            "bin_end": 12828.5,
            "count": 0
           },
           {
            "bin_start": 12828.5,
            "bin_end": 15392.199999999999,
            "count": 1
           },
           {
            "bin_start": 15392.199999999999,
            "bin_end": 17955.899999999998,
            "count": 0
           },
           {
            "bin_start": 17955.899999999998,
            "bin_end": 20519.6,
            "count": 0
           },
           {
            "bin_start": 20519.6,
            "bin_end": 23083.3,
            "count": 0
           },
           {
            "bin_start": 23083.3,
            "bin_end": 25647,
            "count": 1
           }
          ]
         }
        },
        {
         "name": "feature_2",
         "dtype": "int64",
         "stats": {
          "unique_count": 3,
          "nan_count": 0,
          "min": "10",
          "max": "25647",
          "histogram": [
           {
            "bin_start": 10,
            "bin_end": 2573.7,
            "count": 1
           },
           {
            "bin_start": 2573.7,
            "bin_end": 5137.4,
            "count": 0
           },
           {
            "bin_start": 5137.4,
            "bin_end": 7701.099999999999,
            "count": 0
           },
           {
            "bin_start": 7701.099999999999,
            "bin_end": 10264.8,
            "count": 0
           },
           {
            "bin_start": 10264.8,
            "bin_end": 12828.5,
            "count": 0
           },
           {
            "bin_start": 12828.5,
            "bin_end": 15392.199999999999,
            "count": 1
           },
           {
            "bin_start": 15392.199999999999,
            "bin_end": 17955.899999999998,
            "count": 0
           },
           {
            "bin_start": 17955.899999999998,
            "bin_end": 20519.6,
            "count": 0
           },
           {
            "bin_start": 20519.6,
            "bin_end": 23083.3,
            "count": 0
           },
           {
            "bin_start": 23083.3,
            "bin_end": 25647,
            "count": 1
           }
          ]
         }
        },
        {
         "name": "feature_3",
         "dtype": "int64",
         "stats": {
          "unique_count": 3,
          "nan_count": 0,
          "min": "10",
          "max": "25647",
          "histogram": [
           {
            "bin_start": 10,
            "bin_end": 2573.7,
            "count": 1
           },
           {
            "bin_start": 2573.7,
            "bin_end": 5137.4,
            "count": 0
           },
           {
            "bin_start": 5137.4,
            "bin_end": 7701.099999999999,
            "count": 0
           },
           {
            "bin_start": 7701.099999999999,
            "bin_end": 10264.8,
            "count": 0
           },
           {
            "bin_start": 10264.8,
            "bin_end": 12828.5,
            "count": 0
           },
           {
            "bin_start": 12828.5,
            "bin_end": 15392.199999999999,
            "count": 1
           },
           {
            "bin_start": 15392.199999999999,
            "bin_end": 17955.899999999998,
            "count": 0
           },
           {
            "bin_start": 17955.899999999998,
            "bin_end": 20519.6,
            "count": 0
           },
           {
            "bin_start": 20519.6,
            "bin_end": 23083.3,
            "count": 0
           },
           {
            "bin_start": 23083.3,
            "bin_end": 25647,
            "count": 1
           }
          ]
         }
        },
        {
         "name": "feature_4",
         "dtype": "int64",
         "stats": {
          "unique_count": 3,
          "nan_count": 0,
          "min": "10",
          "max": "25647",
          "histogram": [
           {
            "bin_start": 10,
            "bin_end": 2573.7,
            "count": 1
           },
           {
            "bin_start": 2573.7,
            "bin_end": 5137.4,
            "count": 0
           },
           {
            "bin_start": 5137.4,
            "bin_end": 7701.099999999999,
            "count": 0
           },
           {
            "bin_start": 7701.099999999999,
            "bin_end": 10264.8,
            "count": 0
           },
           {
            "bin_start": 10264.8,
            "bin_end": 12828.5,
            "count": 0
           },
           {
            "bin_start": 12828.5,
            "bin_end": 15392.199999999999,
            "count": 1
           },
           {
            "bin_start": 15392.199999999999,
            "bin_end": 17955.899999999998,
            "count": 0
           },
           {
            "bin_start": 17955.899999999998,
            "bin_end": 20519.6,
            "count": 0
           },
           {
            "bin_start": 20519.6,
            "bin_end": 23083.3,
            "count": 0
           },
           {
            "bin_start": 23083.3,
            "bin_end": 25647,
            "count": 1
           }
          ]
         }
        },
        {
         "name": "feature_5",
         "dtype": "int64",
         "stats": {
          "unique_count": 3,
          "nan_count": 0,
          "min": "10",
          "max": "25647",
          "histogram": [
           {
            "bin_start": 10,
            "bin_end": 2573.7,
            "count": 1
           },
           {
            "bin_start": 2573.7,
            "bin_end": 5137.4,
            "count": 0
           },
           {
            "bin_start": 5137.4,
            "bin_end": 7701.099999999999,
            "count": 0
           },
           {
            "bin_start": 7701.099999999999,
            "bin_end": 10264.8,
            "count": 0
           },
           {
            "bin_start": 10264.8,
            "bin_end": 12828.5,
            "count": 0
           },
           {
            "bin_start": 12828.5,
            "bin_end": 15392.199999999999,
            "count": 1
           },
           {
            "bin_start": 15392.199999999999,
            "bin_end": 17955.899999999998,
            "count": 0
           },
           {
            "bin_start": 17955.899999999998,
            "bin_end": 20519.6,
            "count": 0
           },
           {
            "bin_start": 20519.6,
            "bin_end": 23083.3,
            "count": 0
           },
           {
            "bin_start": 23083.3,
            "bin_end": 25647,
            "count": 1
           }
          ]
         }
        },
        {
         "name": "feature_6",
         "dtype": "int64",
         "stats": {
          "unique_count": 3,
          "nan_count": 0,
          "min": "10",
          "max": "25647",
          "histogram": [
           {
            "bin_start": 10,
            "bin_end": 2573.7,
            "count": 1
           },
           {
            "bin_start": 2573.7,
            "bin_end": 5137.4,
            "count": 0
           },
           {
            "bin_start": 5137.4,
            "bin_end": 7701.099999999999,
            "count": 0
           },
           {
            "bin_start": 7701.099999999999,
            "bin_end": 10264.8,
            "count": 0
           },
           {
            "bin_start": 10264.8,
            "bin_end": 12828.5,
            "count": 0
           },
           {
            "bin_start": 12828.5,
            "bin_end": 15392.199999999999,
            "count": 1
           },
           {
            "bin_start": 15392.199999999999,
            "bin_end": 17955.899999999998,
            "count": 0
           },
           {
            "bin_start": 17955.899999999998,
            "bin_end": 20519.6,
            "count": 0
           },
           {
            "bin_start": 20519.6,
            "bin_end": 23083.3,
            "count": 0
           },
           {
            "bin_start": 23083.3,
            "bin_end": 25647,
            "count": 1
           }
          ]
         }
        },
        {
         "name": "feature_7",
         "dtype": "int64",
         "stats": {
          "unique_count": 3,
          "nan_count": 0,
          "min": "10",
          "max": "25647",
          "histogram": [
           {
            "bin_start": 10,
            "bin_end": 2573.7,
            "count": 1
           },
           {
            "bin_start": 2573.7,
            "bin_end": 5137.4,
            "count": 0
           },
           {
            "bin_start": 5137.4,
            "bin_end": 7701.099999999999,
            "count": 0
           },
           {
            "bin_start": 7701.099999999999,
            "bin_end": 10264.8,
            "count": 0
           },
           {
            "bin_start": 10264.8,
            "bin_end": 12828.5,
            "count": 0
           },
           {
            "bin_start": 12828.5,
            "bin_end": 15392.199999999999,
            "count": 1
           },
           {
            "bin_start": 15392.199999999999,
            "bin_end": 17955.899999999998,
            "count": 0
           },
           {
            "bin_start": 17955.899999999998,
            "bin_end": 20519.6,
            "count": 0
           },
           {
            "bin_start": 20519.6,
            "bin_end": 23083.3,
            "count": 0
           },
           {
            "bin_start": 23083.3,
            "bin_end": 25647,
            "count": 1
           }
          ]
         }
        },
        {
         "name": "feature_8",
         "dtype": "int64",
         "stats": {
          "unique_count": 3,
          "nan_count": 0,
          "min": "10",
          "max": "25647",
          "histogram": [
           {
            "bin_start": 10,
            "bin_end": 2573.7,
            "count": 1
           },
           {
            "bin_start": 2573.7,
            "bin_end": 5137.4,
            "count": 0
           },
           {
            "bin_start": 5137.4,
            "bin_end": 7701.099999999999,
            "count": 0
           },
           {
            "bin_start": 7701.099999999999,
            "bin_end": 10264.8,
            "count": 0
           },
           {
            "bin_start": 10264.8,
            "bin_end": 12828.5,
            "count": 0
           },
           {
            "bin_start": 12828.5,
            "bin_end": 15392.199999999999,
            "count": 1
           },
           {
            "bin_start": 15392.199999999999,
            "bin_end": 17955.899999999998,
            "count": 0
           },
           {
            "bin_start": 17955.899999999998,
            "bin_end": 20519.6,
            "count": 0
           },
           {
            "bin_start": 20519.6,
            "bin_end": 23083.3,
            "count": 0
           },
           {
            "bin_start": 23083.3,
            "bin_end": 25647,
            "count": 1
           }
          ]
         }
        },
        {
         "name": "feature_9",
         "dtype": "int64",
         "stats": {
          "unique_count": 3,
          "nan_count": 0,
          "min": "10",
          "max": "25647",
          "histogram": [
           {
            "bin_start": 10,
            "bin_end": 2573.7,
            "count": 1
           },
           {
            "bin_start": 2573.7,
            "bin_end": 5137.4,
            "count": 0
           },
           {
            "bin_start": 5137.4,
            "bin_end": 7701.099999999999,
            "count": 0
           },
           {
            "bin_start": 7701.099999999999,
            "bin_end": 10264.8,
            "count": 0
           },
           {
            "bin_start": 10264.8,
            "bin_end": 12828.5,
            "count": 0
           },
           {
            "bin_start": 12828.5,
            "bin_end": 15392.199999999999,
            "count": 1
           },
           {
            "bin_start": 15392.199999999999,
            "bin_end": 17955.899999999998,
            "count": 0
           },
           {
            "bin_start": 17955.899999999998,
            "bin_end": 20519.6,
            "count": 0
           },
           {
            "bin_start": 20519.6,
            "bin_end": 23083.3,
            "count": 0
           },
           {
            "bin_start": 23083.3,
            "bin_end": 25647,
            "count": 1
           }
          ]
         }
        },
        {
         "name": "duration_listed",
         "dtype": "int64",
         "stats": {
          "unique_count": 3,
          "nan_count": 0,
          "min": "10",
          "max": "25647",
          "histogram": [
           {
            "bin_start": 10,
            "bin_end": 2573.7,
            "count": 1
           },
           {
            "bin_start": 2573.7,
            "bin_end": 5137.4,
            "count": 0
           },
           {
            "bin_start": 5137.4,
            "bin_end": 7701.099999999999,
            "count": 0
           },
           {
            "bin_start": 7701.099999999999,
            "bin_end": 10264.8,
            "count": 0
           },
           {
            "bin_start": 10264.8,
            "bin_end": 12828.5,
            "count": 0
           },
           {
            "bin_start": 12828.5,
            "bin_end": 15392.199999999999,
            "count": 1
           },
           {
            "bin_start": 15392.199999999999,
            "bin_end": 17955.899999999998,
            "count": 0
           },
           {
            "bin_start": 17955.899999999998,
            "bin_end": 20519.6,
            "count": 0
           },
           {
            "bin_start": 20519.6,
            "bin_end": 23083.3,
            "count": 0
           },
           {
            "bin_start": 23083.3,
            "bin_end": 25647,
            "count": 1
           }
          ]
         }
        },
        {
         "name": "_deepnote_index_column",
         "dtype": "object"
        }
       ],
       "rows_top": [
        {
         "manufacturer_name": 12874,
         "model_name": 12874,
         "transmission": 12874,
         "color": 12874,
         "odometer_value": 12874,
         "year_produced": 12874,
         "engine_fuel": 12874,
         "engine_has_gas": 12874,
         "engine_capacity": 12874,
         "body_type": 12874,
         "has_warranty": 12874,
         "state": 12874,
         "drivetrain": 12874,
         "price_usd": 12874,
         "is_exchangeable": 12874,
         "location_region": 12874,
         "number_of_photos": 12874,
         "up_counter": 12874,
         "feature_0": 12874,
         "feature_1": 12874,
         "feature_2": 12874,
         "feature_3": 12874,
         "feature_4": 12874,
         "feature_5": 12874,
         "feature_6": 12874,
         "feature_7": 12874,
         "feature_8": 12874,
         "feature_9": 12874,
         "duration_listed": 12874,
         "_deepnote_index_column": "diesel"
        },
        {
         "manufacturer_name": 10,
         "model_name": 10,
         "transmission": 10,
         "color": 10,
         "odometer_value": 10,
         "year_produced": 10,
         "engine_fuel": 10,
         "engine_has_gas": 10,
         "engine_capacity": 0,
         "body_type": 10,
         "has_warranty": 10,
         "state": 10,
         "drivetrain": 10,
         "price_usd": 10,
         "is_exchangeable": 10,
         "location_region": 10,
         "number_of_photos": 10,
         "up_counter": 10,
         "feature_0": 10,
         "feature_1": 10,
         "feature_2": 10,
         "feature_3": 10,
         "feature_4": 10,
         "feature_5": 10,
         "feature_6": 10,
         "feature_7": 10,
         "feature_8": 10,
         "feature_9": 10,
         "duration_listed": 10,
         "_deepnote_index_column": "electric"
        },
        {
         "manufacturer_name": 25647,
         "model_name": 25647,
         "transmission": 25647,
         "color": 25647,
         "odometer_value": 25647,
         "year_produced": 25647,
         "engine_fuel": 25647,
         "engine_has_gas": 25647,
         "engine_capacity": 25647,
         "body_type": 25647,
         "has_warranty": 25647,
         "state": 25647,
         "drivetrain": 25647,
         "price_usd": 25647,
         "is_exchangeable": 25647,
         "location_region": 25647,
         "number_of_photos": 25647,
         "up_counter": 25647,
         "feature_0": 25647,
         "feature_1": 25647,
         "feature_2": 25647,
         "feature_3": 25647,
         "feature_4": 25647,
         "feature_5": 25647,
         "feature_6": 25647,
         "feature_7": 25647,
         "feature_8": 25647,
         "feature_9": 25647,
         "duration_listed": 25647,
         "_deepnote_index_column": "gasoline"
        }
       ],
       "rows_bottom": null
      },
      "text/plain": "             manufacturer_name  model_name  transmission  color  \\\nengine_type                                                       \ndiesel                   12874       12874         12874  12874   \nelectric                    10          10            10     10   \ngasoline                 25647       25647         25647  25647   \n\n             odometer_value  year_produced  engine_fuel  engine_has_gas  \\\nengine_type                                                               \ndiesel                12874          12874        12874           12874   \nelectric                 10             10           10              10   \ngasoline              25647          25647        25647           25647   \n\n             engine_capacity  body_type  ...  feature_1  feature_2  feature_3  \\\nengine_type                              ...                                    \ndiesel                 12874      12874  ...      12874      12874      12874   \nelectric                   0         10  ...         10         10         10   \ngasoline               25647      25647  ...      25647      25647      25647   \n\n             feature_4  feature_5  feature_6  feature_7  feature_8  feature_9  \\\nengine_type                                                                     \ndiesel           12874      12874      12874      12874      12874      12874   \nelectric            10         10         10         10         10         10   \ngasoline         25647      25647      25647      25647      25647      25647   \n\n             duration_listed  \nengine_type                   \ndiesel                 12874  \nelectric                  10  \ngasoline               25647  \n\n[3 rows x 29 columns]",
      "text/html": "<div>\n<style scoped>\n    .dataframe tbody tr th:only-of-type {\n        vertical-align: middle;\n    }\n\n    .dataframe tbody tr th {\n        vertical-align: top;\n    }\n\n    .dataframe thead th {\n        text-align: right;\n    }\n</style>\n<table border=\"1\" class=\"dataframe\">\n  <thead>\n    <tr style=\"text-align: right;\">\n      <th></th>\n      <th>manufacturer_name</th>\n      <th>model_name</th>\n      <th>transmission</th>\n      <th>color</th>\n      <th>odometer_value</th>\n      <th>year_produced</th>\n      <th>engine_fuel</th>\n      <th>engine_has_gas</th>\n      <th>engine_capacity</th>\n      <th>body_type</th>\n      <th>...</th>\n      <th>feature_1</th>\n      <th>feature_2</th>\n      <th>feature_3</th>\n      <th>feature_4</th>\n      <th>feature_5</th>\n      <th>feature_6</th>\n      <th>feature_7</th>\n      <th>feature_8</th>\n      <th>feature_9</th>\n      <th>duration_listed</th>\n    </tr>\n    <tr>\n      <th>engine_type</th>\n      <th></th>\n      <th></th>\n      <th></th>\n      <th></th>\n      <th></th>\n      <th></th>\n      <th></th>\n      <th></th>\n      <th></th>\n      <th></th>\n      <th></th>\n      <th></th>\n      <th></th>\n      <th></th>\n      <th></th>\n      <th></th>\n      <th></th>\n      <th></th>\n      <th></th>\n      <th></th>\n      <th></th>\n    </tr>\n  </thead>\n  <tbody>\n    <tr>\n      <th>diesel</th>\n      <td>12874</td>\n      <td>12874</td>\n      <td>12874</td>\n      <td>12874</td>\n      <td>12874</td>\n      <td>12874</td>\n      <td>12874</td>\n      <td>12874</td>\n      <td>12874</td>\n      <td>12874</td>\n      <td>...</td>\n      <td>12874</td>\n      <td>12874</td>\n      <td>12874</td>\n      <td>12874</td>\n      <td>12874</td>\n      <td>12874</td>\n      <td>12874</td>\n      <td>12874</td>\n      <td>12874</td>\n      <td>12874</td>\n    </tr>\n    <tr>\n      <th>electric</th>\n      <td>10</td>\n      <td>10</td>\n      <td>10</td>\n      <td>10</td>\n      <td>10</td>\n      <td>10</td>\n      <td>10</td>\n      <td>10</td>\n      <td>0</td>\n      <td>10</td>\n      <td>...</td>\n      <td>10</td>\n      <td>10</td>\n      <td>10</td>\n      <td>10</td>\n      <td>10</td>\n      <td>10</td>\n      <td>10</td>\n      <td>10</td>\n      <td>10</td>\n      <td>10</td>\n    </tr>\n    <tr>\n      <th>gasoline</th>\n      <td>25647</td>\n      <td>25647</td>\n      <td>25647</td>\n      <td>25647</td>\n      <td>25647</td>\n      <td>25647</td>\n      <td>25647</td>\n      <td>25647</td>\n      <td>25647</td>\n      <td>25647</td>\n      <td>...</td>\n      <td>25647</td>\n      <td>25647</td>\n      <td>25647</td>\n      <td>25647</td>\n      <td>25647</td>\n      <td>25647</td>\n      <td>25647</td>\n      <td>25647</td>\n      <td>25647</td>\n      <td>25647</td>\n    </tr>\n  </tbody>\n</table>\n<p>3 rows × 29 columns</p>\n</div>"
     },
     "metadata": {}
    }
   ]
  },
  {
   "cell_type": "markdown",
   "source": "We only have ten electric cars, that's the reason we can't see them in the histogram, because we have a lot of diesel and gasoline, and very few electric cars.\n\nIn this case is better to select only one model and one brand to take a decision of which car to buy, so lets select the Audi Q7 to have more information",
   "metadata": {
    "tags": [],
    "cell_id": "00016-095389b1-bc05-471b-a68e-1e0db80ec40e",
    "deepnote_cell_type": "markdown"
   }
  },
  {
   "cell_type": "code",
   "metadata": {
    "tags": [],
    "cell_id": "00017-eea993a9-d8d3-4254-a75b-6ac441c3600c",
    "deepnote_to_be_reexecuted": false,
    "source_hash": "c1c9d62e",
    "execution_start": 1625319493389,
    "execution_millis": 255,
    "deepnote_cell_type": "code"
   },
   "source": "Q7_df = df[(df['manufacturer_name']=='Audi') & (df['model_name']=='Q7')]\nQ7_df",
   "execution_count": null,
   "outputs": [
    {
     "output_type": "execute_result",
     "execution_count": 15,
     "data": {
      "application/vnd.deepnote.dataframe.v2+json": {
       "row_count": 79,
       "column_count": 30,
       "columns": [
        {
         "name": "manufacturer_name",
         "dtype": "object",
         "stats": {
          "unique_count": 1,
          "nan_count": 0,
          "categories": [
           {
            "name": "Audi",
            "count": 79
           }
          ]
         }
        },
        {
         "name": "model_name",
         "dtype": "object",
         "stats": {
          "unique_count": 1,
          "nan_count": 0,
          "categories": [
           {
            "name": "Q7",
            "count": 79
           }
          ]
         }
        },
        {
         "name": "transmission",
         "dtype": "object",
         "stats": {
          "unique_count": 1,
          "nan_count": 0,
          "categories": [
           {
            "name": "automatic",
            "count": 79
           }
          ]
         }
        },
        {
         "name": "color",
         "dtype": "object",
         "stats": {
          "unique_count": 7,
          "nan_count": 0,
          "categories": [
           {
            "name": "black",
            "count": 40
           },
           {
            "name": "grey",
            "count": 13
           },
           {
            "name": "5 others",
            "count": 26
           }
          ]
         }
        },
        {
         "name": "odometer_value",
         "dtype": "int64",
         "stats": {
          "unique_count": 61,
          "nan_count": 0,
          "min": "86291",
          "max": "359000",
          "histogram": [
           {
            "bin_start": 86291,
            "bin_end": 113561.9,
            "count": 6
           },
           {
            "bin_start": 113561.9,
            "bin_end": 140832.8,
            "count": 6
           },
           {
            "bin_start": 140832.8,
            "bin_end": 168103.7,
            "count": 7
           },
           {
            "bin_start": 168103.7,
            "bin_end": 195374.6,
            "count": 17
           },
           {
            "bin_start": 195374.6,
            "bin_end": 222645.5,
            "count": 17
           },
           {
            "bin_start": 222645.5,
            "bin_end": 249916.40000000002,
            "count": 11
           },
           {
            "bin_start": 249916.40000000002,
            "bin_end": 277187.30000000005,
            "count": 9
           },
           {
            "bin_start": 277187.30000000005,
            "bin_end": 304458.2,
            "count": 5
           },
           {
            "bin_start": 304458.2,
            "bin_end": 331729.1,
            "count": 0
           },
           {
            "bin_start": 331729.1,
            "bin_end": 359000,
            "count": 1
           }
          ]
         }
        },
        {
         "name": "year_produced",
         "dtype": "int64",
         "stats": {
          "unique_count": 10,
          "nan_count": 0,
          "min": "2006",
          "max": "2016",
          "histogram": [
           {
            "bin_start": 2006,
            "bin_end": 2007,
            "count": 8
           },
           {
            "bin_start": 2007,
            "bin_end": 2008,
            "count": 20
           },
           {
            "bin_start": 2008,
            "bin_end": 2009,
            "count": 20
           },
           {
            "bin_start": 2009,
            "bin_end": 2010,
            "count": 4
           },
           {
            "bin_start": 2010,
            "bin_end": 2011,
            "count": 11
           },
           {
            "bin_start": 2011,
            "bin_end": 2012,
            "count": 3
           },
           {
            "bin_start": 2012,
            "bin_end": 2013,
            "count": 0
           },
           {
            "bin_start": 2013,
            "bin_end": 2014,
            "count": 2
           },
           {
            "bin_start": 2014,
            "bin_end": 2015,
            "count": 5
           },
           {
            "bin_start": 2015,
            "bin_end": 2016,
            "count": 6
           }
          ]
         }
        },
        {
         "name": "engine_fuel",
         "dtype": "object",
         "stats": {
          "unique_count": 3,
          "nan_count": 0,
          "categories": [
           {
            "name": "diesel",
            "count": 50
           },
           {
            "name": "gasoline",
            "count": 28
           },
           {
            "name": "gas",
            "count": 1
           }
          ]
         }
        },
        {
         "name": "engine_has_gas",
         "dtype": "bool",
         "stats": {
          "unique_count": 2,
          "nan_count": 0,
          "categories": [
           {
            "name": "False",
            "count": 78
           },
           {
            "name": "True",
            "count": 1
           }
          ]
         }
        },
        {
         "name": "engine_type",
         "dtype": "object",
         "stats": {
          "unique_count": 2,
          "nan_count": 0,
          "categories": [
           {
            "name": "diesel",
            "count": 50
           },
           {
            "name": "gasoline",
            "count": 29
           }
          ]
         }
        },
        {
         "name": "engine_capacity",
         "dtype": "float64",
         "stats": {
          "unique_count": 4,
          "nan_count": 0,
          "min": "3.0",
          "max": "6.0",
          "histogram": [
           {
            "bin_start": 3,
            "bin_end": 3.3,
            "count": 43
           },
           {
            "bin_start": 3.3,
            "bin_end": 3.6,
            "count": 0
           },
           {
            "bin_start": 3.6,
            "bin_end": 3.9,
            "count": 10
           },
           {
            "bin_start": 3.9,
            "bin_end": 4.2,
            "count": 0
           },
           {
            "bin_start": 4.2,
            "bin_end": 4.5,
            "count": 25
           },
           {
            "bin_start": 4.5,
            "bin_end": 4.8,
            "count": 0
           },
           {
            "bin_start": 4.8,
            "bin_end": 5.1,
            "count": 0
           },
           {
            "bin_start": 5.1,
            "bin_end": 5.4,
            "count": 0
           },
           {
            "bin_start": 5.4,
            "bin_end": 5.699999999999999,
            "count": 0
           },
           {
            "bin_start": 5.699999999999999,
            "bin_end": 6,
            "count": 1
           }
          ]
         }
        },
        {
         "name": "body_type",
         "dtype": "object",
         "stats": {
          "unique_count": 1,
          "nan_count": 0,
          "categories": [
           {
            "name": "suv",
            "count": 79
           }
          ]
         }
        },
        {
         "name": "has_warranty",
         "dtype": "bool",
         "stats": {
          "unique_count": 1,
          "nan_count": 0,
          "categories": [
           {
            "name": "False",
            "count": 79
           }
          ]
         }
        },
        {
         "name": "state",
         "dtype": "object",
         "stats": {
          "unique_count": 1,
          "nan_count": 0,
          "categories": [
           {
            "name": "owned",
            "count": 79
           }
          ]
         }
        },
        {
         "name": "drivetrain",
         "dtype": "object",
         "stats": {
          "unique_count": 2,
          "nan_count": 0,
          "categories": [
           {
            "name": "all",
            "count": 78
           },
           {
            "name": "front",
            "count": 1
           }
          ]
         }
        },
        {
         "name": "price_usd",
         "dtype": "float64",
         "stats": {
          "unique_count": 61,
          "nan_count": 0,
          "min": "8990.0",
          "max": "46750.0",
          "histogram": [
           {
            "bin_start": 8990,
            "bin_end": 12766,
            "count": 17
           },
           {
            "bin_start": 12766,
            "bin_end": 16542,
            "count": 29
           },
           {
            "bin_start": 16542,
            "bin_end": 20318,
            "count": 7
           },
           {
            "bin_start": 20318,
            "bin_end": 24094,
            "count": 7
           },
           {
            "bin_start": 24094,
            "bin_end": 27870,
            "count": 4
           },
           {
            "bin_start": 27870,
            "bin_end": 31646,
            "count": 5
           },
           {
            "bin_start": 31646,
            "bin_end": 35422,
            "count": 2
           },
           {
            "bin_start": 35422,
            "bin_end": 39198,
            "count": 2
           },
           {
            "bin_start": 39198,
            "bin_end": 42974,
            "count": 2
           },
           {
            "bin_start": 42974,
            "bin_end": 46750,
            "count": 4
           }
          ]
         }
        },
        {
         "name": "is_exchangeable",
         "dtype": "bool",
         "stats": {
          "unique_count": 2,
          "nan_count": 0,
          "categories": [
           {
            "name": "False",
            "count": 48
           },
           {
            "name": "True",
            "count": 31
           }
          ]
         }
        },
        {
         "name": "location_region",
         "dtype": "object",
         "stats": {
          "unique_count": 6,
          "nan_count": 0,
          "categories": [
           {
            "name": "Минская обл.",
            "count": 51
           },
           {
            "name": "Гомельская обл.",
            "count": 8
           },
           {
            "name": "4 others",
            "count": 20
           }
          ]
         }
        },
        {
         "name": "number_of_photos",
         "dtype": "int64",
         "stats": {
          "unique_count": 26,
          "nan_count": 0,
          "min": "1",
          "max": "50",
          "histogram": [
           {
            "bin_start": 1,
            "bin_end": 5.9,
            "count": 7
           },
           {
            "bin_start": 5.9,
            "bin_end": 10.8,
            "count": 28
           },
           {
            "bin_start": 10.8,
            "bin_end": 15.700000000000001,
            "count": 21
           },
           {
            "bin_start": 15.700000000000001,
            "bin_end": 20.6,
            "count": 13
           },
           {
            "bin_start": 20.6,
            "bin_end": 25.5,
            "count": 4
           },
           {
            "bin_start": 25.5,
            "bin_end": 30.400000000000002,
            "count": 2
           },
           {
            "bin_start": 30.400000000000002,
            "bin_end": 35.300000000000004,
            "count": 2
           },
           {
            "bin_start": 35.300000000000004,
            "bin_end": 40.2,
            "count": 1
           },
           {
            "bin_start": 40.2,
            "bin_end": 45.1,
            "count": 0
           },
           {
            "bin_start": 45.1,
            "bin_end": 50,
            "count": 1
           }
          ]
         }
        },
        {
         "name": "up_counter",
         "dtype": "int64",
         "stats": {
          "unique_count": 33,
          "nan_count": 0,
          "min": "1",
          "max": "553",
          "histogram": [
           {
            "bin_start": 1,
            "bin_end": 56.2,
            "count": 72
           },
           {
            "bin_start": 56.2,
            "bin_end": 111.4,
            "count": 5
           },
           {
            "bin_start": 111.4,
            "bin_end": 166.60000000000002,
            "count": 0
           },
           {
            "bin_start": 166.60000000000002,
            "bin_end": 221.8,
            "count": 1
           },
           {
            "bin_start": 221.8,
            "bin_end": 277,
            "count": 0
           },
           {
            "bin_start": 277,
            "bin_end": 332.20000000000005,
            "count": 0
           },
           {
            "bin_start": 332.20000000000005,
            "bin_end": 387.40000000000003,
            "count": 0
           },
           {
            "bin_start": 387.40000000000003,
            "bin_end": 442.6,
            "count": 0
           },
           {
            "bin_start": 442.6,
            "bin_end": 497.8,
            "count": 0
           },
           {
            "bin_start": 497.8,
            "bin_end": 553,
            "count": 1
           }
          ]
         }
        },
        {
         "name": "feature_0",
         "dtype": "bool",
         "stats": {
          "unique_count": 2,
          "nan_count": 0,
          "categories": [
           {
            "name": "False",
            "count": 73
           },
           {
            "name": "True",
            "count": 6
           }
          ]
         }
        },
        {
         "name": "feature_1",
         "dtype": "bool",
         "stats": {
          "unique_count": 2,
          "nan_count": 0,
          "categories": [
           {
            "name": "True",
            "count": 62
           },
           {
            "name": "False",
            "count": 17
           }
          ]
         }
        },
        {
         "name": "feature_2",
         "dtype": "bool",
         "stats": {
          "unique_count": 2,
          "nan_count": 0,
          "categories": [
           {
            "name": "True",
            "count": 67
           },
           {
            "name": "False",
            "count": 12
           }
          ]
         }
        },
        {
         "name": "feature_3",
         "dtype": "bool",
         "stats": {
          "unique_count": 2,
          "nan_count": 0,
          "categories": [
           {
            "name": "True",
            "count": 68
           },
           {
            "name": "False",
            "count": 11
           }
          ]
         }
        },
        {
         "name": "feature_4",
         "dtype": "bool",
         "stats": {
          "unique_count": 2,
          "nan_count": 0,
          "categories": [
           {
            "name": "True",
            "count": 66
           },
           {
            "name": "False",
            "count": 13
           }
          ]
         }
        },
        {
         "name": "feature_5",
         "dtype": "bool",
         "stats": {
          "unique_count": 2,
          "nan_count": 0,
          "categories": [
           {
            "name": "True",
            "count": 71
           },
           {
            "name": "False",
            "count": 8
           }
          ]
         }
        },
        {
         "name": "feature_6",
         "dtype": "bool",
         "stats": {
          "unique_count": 2,
          "nan_count": 0,
          "categories": [
           {
            "name": "True",
            "count": 57
           },
           {
            "name": "False",
            "count": 22
           }
          ]
         }
        },
        {
         "name": "feature_7",
         "dtype": "bool",
         "stats": {
          "unique_count": 2,
          "nan_count": 0,
          "categories": [
           {
            "name": "True",
            "count": 60
           },
           {
            "name": "False",
            "count": 19
           }
          ]
         }
        },
        {
         "name": "feature_8",
         "dtype": "bool",
         "stats": {
          "unique_count": 2,
          "nan_count": 0,
          "categories": [
           {
            "name": "True",
            "count": 68
           },
           {
            "name": "False",
            "count": 11
           }
          ]
         }
        },
        {
         "name": "feature_9",
         "dtype": "bool",
         "stats": {
          "unique_count": 2,
          "nan_count": 0,
          "categories": [
           {
            "name": "True",
            "count": 71
           },
           {
            "name": "False",
            "count": 8
           }
          ]
         }
        },
        {
         "name": "duration_listed",
         "dtype": "int64",
         "stats": {
          "unique_count": 56,
          "nan_count": 0,
          "min": "0",
          "max": "736",
          "histogram": [
           {
            "bin_start": 0,
            "bin_end": 73.6,
            "count": 44
           },
           {
            "bin_start": 73.6,
            "bin_end": 147.2,
            "count": 23
           },
           {
            "bin_start": 147.2,
            "bin_end": 220.79999999999998,
            "count": 5
           },
           {
            "bin_start": 220.79999999999998,
            "bin_end": 294.4,
            "count": 3
           },
           {
            "bin_start": 294.4,
            "bin_end": 368,
            "count": 1
           },
           {
            "bin_start": 368,
            "bin_end": 441.59999999999997,
            "count": 1
           },
           {
            "bin_start": 441.59999999999997,
            "bin_end": 515.1999999999999,
            "count": 1
           },
           {
            "bin_start": 515.1999999999999,
            "bin_end": 588.8,
            "count": 0
           },
           {
            "bin_start": 588.8,
            "bin_end": 662.4,
            "count": 0
           },
           {
            "bin_start": 662.4,
            "bin_end": 736,
            "count": 1
           }
          ]
         }
        },
        {
         "name": "_deepnote_index_column",
         "dtype": "int64"
        }
       ],
       "rows_top": [
        {
         "manufacturer_name": "Audi",
         "model_name": "Q7",
         "transmission": "automatic",
         "color": "grey",
         "odometer_value": 275000,
         "year_produced": 2007,
         "engine_fuel": "diesel",
         "engine_has_gas": "False",
         "engine_type": "diesel",
         "engine_capacity": 3,
         "body_type": "suv",
         "has_warranty": "False",
         "state": "owned",
         "drivetrain": "all",
         "price_usd": 12450,
         "is_exchangeable": "True",
         "location_region": "Минская обл.",
         "number_of_photos": 23,
         "up_counter": 16,
         "feature_0": "True",
         "feature_1": "False",
         "feature_2": "False",
         "feature_3": "False",
         "feature_4": "False",
         "feature_5": "False",
         "feature_6": "False",
         "feature_7": "False",
         "feature_8": "False",
         "feature_9": "False",
         "duration_listed": 21,
         "_deepnote_index_column": 19515
        },
        {
         "manufacturer_name": "Audi",
         "model_name": "Q7",
         "transmission": "automatic",
         "color": "white",
         "odometer_value": 105000,
         "year_produced": 2014,
         "engine_fuel": "diesel",
         "engine_has_gas": "False",
         "engine_type": "diesel",
         "engine_capacity": 3,
         "body_type": "suv",
         "has_warranty": "False",
         "state": "owned",
         "drivetrain": "all",
         "price_usd": 32200,
         "is_exchangeable": "True",
         "location_region": "Минская обл.",
         "number_of_photos": 20,
         "up_counter": 186,
         "feature_0": "False",
         "feature_1": "True",
         "feature_2": "True",
         "feature_3": "True",
         "feature_4": "True",
         "feature_5": "True",
         "feature_6": "True",
         "feature_7": "True",
         "feature_8": "True",
         "feature_9": "True",
         "duration_listed": 216,
         "_deepnote_index_column": 19547
        },
        {
         "manufacturer_name": "Audi",
         "model_name": "Q7",
         "transmission": "automatic",
         "color": "other",
         "odometer_value": 170000,
         "year_produced": 2006,
         "engine_fuel": "diesel",
         "engine_has_gas": "False",
         "engine_type": "diesel",
         "engine_capacity": 3,
         "body_type": "suv",
         "has_warranty": "False",
         "state": "owned",
         "drivetrain": "all",
         "price_usd": 13500,
         "is_exchangeable": "False",
         "location_region": "Минская обл.",
         "number_of_photos": 13,
         "up_counter": 7,
         "feature_0": "False",
         "feature_1": "True",
         "feature_2": "True",
         "feature_3": "True",
         "feature_4": "True",
         "feature_5": "True",
         "feature_6": "False",
         "feature_7": "True",
         "feature_8": "False",
         "feature_9": "True",
         "duration_listed": 24,
         "_deepnote_index_column": 19559
        },
        {
         "manufacturer_name": "Audi",
         "model_name": "Q7",
         "transmission": "automatic",
         "color": "black",
         "odometer_value": 185000,
         "year_produced": 2016,
         "engine_fuel": "diesel",
         "engine_has_gas": "False",
         "engine_type": "diesel",
         "engine_capacity": 3,
         "body_type": "suv",
         "has_warranty": "False",
         "state": "owned",
         "drivetrain": "all",
         "price_usd": 44900,
         "is_exchangeable": "True",
         "location_region": "Минская обл.",
         "number_of_photos": 50,
         "up_counter": 4,
         "feature_0": "False",
         "feature_1": "False",
         "feature_2": "False",
         "feature_3": "True",
         "feature_4": "True",
         "feature_5": "True",
         "feature_6": "True",
         "feature_7": "True",
         "feature_8": "True",
         "feature_9": "True",
         "duration_listed": 7,
         "_deepnote_index_column": 19574
        },
        {
         "manufacturer_name": "Audi",
         "model_name": "Q7",
         "transmission": "automatic",
         "color": "other",
         "odometer_value": 210000,
         "year_produced": 2010,
         "engine_fuel": "diesel",
         "engine_has_gas": "False",
         "engine_type": "diesel",
         "engine_capacity": 4.2,
         "body_type": "suv",
         "has_warranty": "False",
         "state": "owned",
         "drivetrain": "all",
         "price_usd": 23000,
         "is_exchangeable": "False",
         "location_region": "Витебская обл.",
         "number_of_photos": 22,
         "up_counter": 34,
         "feature_0": "False",
         "feature_1": "True",
         "feature_2": "True",
         "feature_3": "True",
         "feature_4": "False",
         "feature_5": "True",
         "feature_6": "True",
         "feature_7": "True",
         "feature_8": "True",
         "feature_9": "True",
         "duration_listed": 45,
         "_deepnote_index_column": 19583
        },
        {
         "manufacturer_name": "Audi",
         "model_name": "Q7",
         "transmission": "automatic",
         "color": "grey",
         "odometer_value": 187000,
         "year_produced": 2016,
         "engine_fuel": "gasoline",
         "engine_has_gas": "False",
         "engine_type": "gasoline",
         "engine_capacity": 3,
         "body_type": "suv",
         "has_warranty": "False",
         "state": "owned",
         "drivetrain": "all",
         "price_usd": 46750,
         "is_exchangeable": "False",
         "location_region": "Минская обл.",
         "number_of_photos": 38,
         "up_counter": 2,
         "feature_0": "False",
         "feature_1": "False",
         "feature_2": "False",
         "feature_3": "False",
         "feature_4": "True",
         "feature_5": "False",
         "feature_6": "False",
         "feature_7": "False",
         "feature_8": "False",
         "feature_9": "False",
         "duration_listed": 2,
         "_deepnote_index_column": 19660
        },
        {
         "manufacturer_name": "Audi",
         "model_name": "Q7",
         "transmission": "automatic",
         "color": "black",
         "odometer_value": 170000,
         "year_produced": 2007,
         "engine_fuel": "gasoline",
         "engine_has_gas": "False",
         "engine_type": "gasoline",
         "engine_capacity": 3.6,
         "body_type": "suv",
         "has_warranty": "False",
         "state": "owned",
         "drivetrain": "all",
         "price_usd": 13000,
         "is_exchangeable": "False",
         "location_region": "Витебская обл.",
         "number_of_photos": 13,
         "up_counter": 28,
         "feature_0": "False",
         "feature_1": "True",
         "feature_2": "True",
         "feature_3": "False",
         "feature_4": "True",
         "feature_5": "True",
         "feature_6": "False",
         "feature_7": "False",
         "feature_8": "True",
         "feature_9": "True",
         "duration_listed": 129,
         "_deepnote_index_column": 19680
        },
        {
         "manufacturer_name": "Audi",
         "model_name": "Q7",
         "transmission": "automatic",
         "color": "black",
         "odometer_value": 112000,
         "year_produced": 2014,
         "engine_fuel": "diesel",
         "engine_has_gas": "False",
         "engine_type": "diesel",
         "engine_capacity": 3,
         "body_type": "suv",
         "has_warranty": "False",
         "state": "owned",
         "drivetrain": "all",
         "price_usd": 35600,
         "is_exchangeable": "False",
         "location_region": "Минская обл.",
         "number_of_photos": 20,
         "up_counter": 36,
         "feature_0": "True",
         "feature_1": "False",
         "feature_2": "False",
         "feature_3": "False",
         "feature_4": "False",
         "feature_5": "False",
         "feature_6": "False",
         "feature_7": "False",
         "feature_8": "False",
         "feature_9": "False",
         "duration_listed": 76,
         "_deepnote_index_column": 19685
        },
        {
         "manufacturer_name": "Audi",
         "model_name": "Q7",
         "transmission": "automatic",
         "color": "black",
         "odometer_value": 272000,
         "year_produced": 2008,
         "engine_fuel": "diesel",
         "engine_has_gas": "False",
         "engine_type": "diesel",
         "engine_capacity": 3,
         "body_type": "suv",
         "has_warranty": "False",
         "state": "owned",
         "drivetrain": "all",
         "price_usd": 14699,
         "is_exchangeable": "True",
         "location_region": "Минская обл.",
         "number_of_photos": 18,
         "up_counter": 1,
         "feature_0": "False",
         "feature_1": "True",
         "feature_2": "True",
         "feature_3": "True",
         "feature_4": "False",
         "feature_5": "True",
         "feature_6": "True",
         "feature_7": "False",
         "feature_8": "True",
         "feature_9": "True",
         "duration_listed": 0,
         "_deepnote_index_column": 19716
        },
        {
         "manufacturer_name": "Audi",
         "model_name": "Q7",
         "transmission": "automatic",
         "color": "black",
         "odometer_value": 152000,
         "year_produced": 2013,
         "engine_fuel": "diesel",
         "engine_has_gas": "False",
         "engine_type": "diesel",
         "engine_capacity": 3,
         "body_type": "suv",
         "has_warranty": "False",
         "state": "owned",
         "drivetrain": "all",
         "price_usd": 30750,
         "is_exchangeable": "False",
         "location_region": "Минская обл.",
         "number_of_photos": 13,
         "up_counter": 14,
         "feature_0": "False",
         "feature_1": "True",
         "feature_2": "True",
         "feature_3": "True",
         "feature_4": "True",
         "feature_5": "True",
         "feature_6": "True",
         "feature_7": "True",
         "feature_8": "True",
         "feature_9": "True",
         "duration_listed": 37,
         "_deepnote_index_column": 19719
        },
        {
         "manufacturer_name": "Audi",
         "model_name": "Q7",
         "transmission": "automatic",
         "color": "black",
         "odometer_value": 250000,
         "year_produced": 2008,
         "engine_fuel": "gasoline",
         "engine_has_gas": "False",
         "engine_type": "gasoline",
         "engine_capacity": 4.2,
         "body_type": "suv",
         "has_warranty": "False",
         "state": "owned",
         "drivetrain": "all",
         "price_usd": 11000,
         "is_exchangeable": "True",
         "location_region": "Минская обл.",
         "number_of_photos": 3,
         "up_counter": 7,
         "feature_0": "False",
         "feature_1": "True",
         "feature_2": "True",
         "feature_3": "True",
         "feature_4": "True",
         "feature_5": "True",
         "feature_6": "True",
         "feature_7": "True",
         "feature_8": "True",
         "feature_9": "True",
         "duration_listed": 18,
         "_deepnote_index_column": 19750
        },
        {
         "manufacturer_name": "Audi",
         "model_name": "Q7",
         "transmission": "automatic",
         "color": "other",
         "odometer_value": 220000,
         "year_produced": 2006,
         "engine_fuel": "gasoline",
         "engine_has_gas": "False",
         "engine_type": "gasoline",
         "engine_capacity": 4.2,
         "body_type": "suv",
         "has_warranty": "False",
         "state": "owned",
         "drivetrain": "all",
         "price_usd": 11000,
         "is_exchangeable": "True",
         "location_region": "Минская обл.",
         "number_of_photos": 18,
         "up_counter": 1,
         "feature_0": "False",
         "feature_1": "False",
         "feature_2": "True",
         "feature_3": "True",
         "feature_4": "False",
         "feature_5": "True",
         "feature_6": "True",
         "feature_7": "False",
         "feature_8": "True",
         "feature_9": "True",
         "duration_listed": 1,
         "_deepnote_index_column": 19757
        },
        {
         "manufacturer_name": "Audi",
         "model_name": "Q7",
         "transmission": "automatic",
         "color": "grey",
         "odometer_value": 222000,
         "year_produced": 2008,
         "engine_fuel": "gasoline",
         "engine_has_gas": "False",
         "engine_type": "gasoline",
         "engine_capacity": 3.6,
         "body_type": "suv",
         "has_warranty": "False",
         "state": "owned",
         "drivetrain": "all",
         "price_usd": 15700,
         "is_exchangeable": "False",
         "location_region": "Могилевская обл.",
         "number_of_photos": 10,
         "up_counter": 50,
         "feature_0": "False",
         "feature_1": "True",
         "feature_2": "True",
         "feature_3": "True",
         "feature_4": "True",
         "feature_5": "True",
         "feature_6": "True",
         "feature_7": "True",
         "feature_8": "True",
         "feature_9": "True",
         "duration_listed": 79,
         "_deepnote_index_column": 19786
        },
        {
         "manufacturer_name": "Audi",
         "model_name": "Q7",
         "transmission": "automatic",
         "color": "silver",
         "odometer_value": 224000,
         "year_produced": 2007,
         "engine_fuel": "gasoline",
         "engine_has_gas": "False",
         "engine_type": "gasoline",
         "engine_capacity": 4.2,
         "body_type": "suv",
         "has_warranty": "False",
         "state": "owned",
         "drivetrain": "all",
         "price_usd": 12550,
         "is_exchangeable": "True",
         "location_region": "Минская обл.",
         "number_of_photos": 32,
         "up_counter": 45,
         "feature_0": "True",
         "feature_1": "False",
         "feature_2": "False",
         "feature_3": "False",
         "feature_4": "False",
         "feature_5": "False",
         "feature_6": "False",
         "feature_7": "False",
         "feature_8": "False",
         "feature_9": "False",
         "duration_listed": 67,
         "_deepnote_index_column": 19823
        },
        {
         "manufacturer_name": "Audi",
         "model_name": "Q7",
         "transmission": "automatic",
         "color": "black",
         "odometer_value": 218000,
         "year_produced": 2007,
         "engine_fuel": "gasoline",
         "engine_has_gas": "False",
         "engine_type": "gasoline",
         "engine_capacity": 4.2,
         "body_type": "suv",
         "has_warranty": "False",
         "state": "owned",
         "drivetrain": "all",
         "price_usd": 12500,
         "is_exchangeable": "False",
         "location_region": "Гомельская обл.",
         "number_of_photos": 14,
         "up_counter": 33,
         "feature_0": "True",
         "feature_1": "False",
         "feature_2": "False",
         "feature_3": "False",
         "feature_4": "False",
         "feature_5": "False",
         "feature_6": "False",
         "feature_7": "False",
         "feature_8": "False",
         "feature_9": "False",
         "duration_listed": 49,
         "_deepnote_index_column": 19827
        },
        {
         "manufacturer_name": "Audi",
         "model_name": "Q7",
         "transmission": "automatic",
         "color": "black",
         "odometer_value": 273445,
         "year_produced": 2008,
         "engine_fuel": "diesel",
         "engine_has_gas": "False",
         "engine_type": "diesel",
         "engine_capacity": 3,
         "body_type": "suv",
         "has_warranty": "False",
         "state": "owned",
         "drivetrain": "all",
         "price_usd": 16500,
         "is_exchangeable": "True",
         "location_region": "Минская обл.",
         "number_of_photos": 20,
         "up_counter": 1,
         "feature_0": "False",
         "feature_1": "False",
         "feature_2": "True",
         "feature_3": "True",
         "feature_4": "True",
         "feature_5": "True",
         "feature_6": "True",
         "feature_7": "True",
         "feature_8": "False",
         "feature_9": "False",
         "duration_listed": 1,
         "_deepnote_index_column": 19940
        }
       ],
       "rows_bottom": [
        {
         "manufacturer_name": "Audi",
         "model_name": "Q7",
         "transmission": "automatic",
         "color": "black",
         "odometer_value": 222222,
         "year_produced": 2007,
         "engine_fuel": "diesel",
         "engine_has_gas": "False",
         "engine_type": "diesel",
         "engine_capacity": 4.2,
         "body_type": "suv",
         "has_warranty": "False",
         "state": "owned",
         "drivetrain": "all",
         "price_usd": 15500,
         "is_exchangeable": "False",
         "location_region": "Витебская обл.",
         "number_of_photos": 9,
         "up_counter": 1,
         "feature_0": "False",
         "feature_1": "True",
         "feature_2": "True",
         "feature_3": "True",
         "feature_4": "True",
         "feature_5": "True",
         "feature_6": "True",
         "feature_7": "True",
         "feature_8": "True",
         "feature_9": "True",
         "duration_listed": 32,
         "_deepnote_index_column": 21189
        },
        {
         "manufacturer_name": "Audi",
         "model_name": "Q7",
         "transmission": "automatic",
         "color": "black",
         "odometer_value": 209000,
         "year_produced": 2007,
         "engine_fuel": "gasoline",
         "engine_has_gas": "False",
         "engine_type": "gasoline",
         "engine_capacity": 4.2,
         "body_type": "suv",
         "has_warranty": "False",
         "state": "owned",
         "drivetrain": "all",
         "price_usd": 10500,
         "is_exchangeable": "False",
         "location_region": "Гомельская обл.",
         "number_of_photos": 10,
         "up_counter": 1,
         "feature_0": "False",
         "feature_1": "True",
         "feature_2": "True",
         "feature_3": "True",
         "feature_4": "True",
         "feature_5": "True",
         "feature_6": "True",
         "feature_7": "True",
         "feature_8": "True",
         "feature_9": "True",
         "duration_listed": 34,
         "_deepnote_index_column": 21244
        },
        {
         "manufacturer_name": "Audi",
         "model_name": "Q7",
         "transmission": "automatic",
         "color": "black",
         "odometer_value": 285000,
         "year_produced": 2008,
         "engine_fuel": "diesel",
         "engine_has_gas": "False",
         "engine_type": "diesel",
         "engine_capacity": 4.2,
         "body_type": "suv",
         "has_warranty": "False",
         "state": "owned",
         "drivetrain": "all",
         "price_usd": 14500,
         "is_exchangeable": "True",
         "location_region": "Гомельская обл.",
         "number_of_photos": 10,
         "up_counter": 8,
         "feature_0": "False",
         "feature_1": "True",
         "feature_2": "True",
         "feature_3": "True",
         "feature_4": "True",
         "feature_5": "True",
         "feature_6": "True",
         "feature_7": "True",
         "feature_8": "True",
         "feature_9": "True",
         "duration_listed": 79,
         "_deepnote_index_column": 21372
        },
        {
         "manufacturer_name": "Audi",
         "model_name": "Q7",
         "transmission": "automatic",
         "color": "other",
         "odometer_value": 200000,
         "year_produced": 2007,
         "engine_fuel": "gasoline",
         "engine_has_gas": "False",
         "engine_type": "gasoline",
         "engine_capacity": 3.6,
         "body_type": "suv",
         "has_warranty": "False",
         "state": "owned",
         "drivetrain": "all",
         "price_usd": 12300,
         "is_exchangeable": "False",
         "location_region": "Минская обл.",
         "number_of_photos": 9,
         "up_counter": 5,
         "feature_0": "False",
         "feature_1": "True",
         "feature_2": "True",
         "feature_3": "True",
         "feature_4": "True",
         "feature_5": "True",
         "feature_6": "True",
         "feature_7": "False",
         "feature_8": "True",
         "feature_9": "True",
         "duration_listed": 133,
         "_deepnote_index_column": 21440
        },
        {
         "manufacturer_name": "Audi",
         "model_name": "Q7",
         "transmission": "automatic",
         "color": "grey",
         "odometer_value": 190000,
         "year_produced": 2007,
         "engine_fuel": "diesel",
         "engine_has_gas": "False",
         "engine_type": "diesel",
         "engine_capacity": 3,
         "body_type": "suv",
         "has_warranty": "False",
         "state": "owned",
         "drivetrain": "all",
         "price_usd": 14250,
         "is_exchangeable": "True",
         "location_region": "Минская обл.",
         "number_of_photos": 9,
         "up_counter": 3,
         "feature_0": "False",
         "feature_1": "True",
         "feature_2": "True",
         "feature_3": "True",
         "feature_4": "True",
         "feature_5": "True",
         "feature_6": "True",
         "feature_7": "True",
         "feature_8": "True",
         "feature_9": "True",
         "duration_listed": 63,
         "_deepnote_index_column": 21513
        },
        {
         "manufacturer_name": "Audi",
         "model_name": "Q7",
         "transmission": "automatic",
         "color": "black",
         "odometer_value": 165000,
         "year_produced": 2010,
         "engine_fuel": "diesel",
         "engine_has_gas": "False",
         "engine_type": "diesel",
         "engine_capacity": 3,
         "body_type": "suv",
         "has_warranty": "False",
         "state": "owned",
         "drivetrain": "all",
         "price_usd": 23990,
         "is_exchangeable": "False",
         "location_region": "Минская обл.",
         "number_of_photos": 32,
         "up_counter": 1,
         "feature_0": "False",
         "feature_1": "True",
         "feature_2": "False",
         "feature_3": "True",
         "feature_4": "True",
         "feature_5": "True",
         "feature_6": "True",
         "feature_7": "True",
         "feature_8": "True",
         "feature_9": "True",
         "duration_listed": 63,
         "_deepnote_index_column": 21591
        },
        {
         "manufacturer_name": "Audi",
         "model_name": "Q7",
         "transmission": "automatic",
         "color": "white",
         "odometer_value": 105000,
         "year_produced": 2011,
         "engine_fuel": "gasoline",
         "engine_has_gas": "False",
         "engine_type": "gasoline",
         "engine_capacity": 3,
         "body_type": "suv",
         "has_warranty": "False",
         "state": "owned",
         "drivetrain": "all",
         "price_usd": 18300,
         "is_exchangeable": "False",
         "location_region": "Минская обл.",
         "number_of_photos": 11,
         "up_counter": 1,
         "feature_0": "False",
         "feature_1": "True",
         "feature_2": "False",
         "feature_3": "True",
         "feature_4": "True",
         "feature_5": "True",
         "feature_6": "True",
         "feature_7": "True",
         "feature_8": "True",
         "feature_9": "True",
         "duration_listed": 68,
         "_deepnote_index_column": 21641
        },
        {
         "manufacturer_name": "Audi",
         "model_name": "Q7",
         "transmission": "automatic",
         "color": "grey",
         "odometer_value": 200000,
         "year_produced": 2008,
         "engine_fuel": "diesel",
         "engine_has_gas": "False",
         "engine_type": "diesel",
         "engine_capacity": 3,
         "body_type": "suv",
         "has_warranty": "False",
         "state": "owned",
         "drivetrain": "all",
         "price_usd": 14000,
         "is_exchangeable": "False",
         "location_region": "Минская обл.",
         "number_of_photos": 3,
         "up_counter": 1,
         "feature_0": "False",
         "feature_1": "True",
         "feature_2": "True",
         "feature_3": "True",
         "feature_4": "True",
         "feature_5": "True",
         "feature_6": "True",
         "feature_7": "True",
         "feature_8": "True",
         "feature_9": "True",
         "duration_listed": 68,
         "_deepnote_index_column": 21642
        },
        {
         "manufacturer_name": "Audi",
         "model_name": "Q7",
         "transmission": "automatic",
         "color": "black",
         "odometer_value": 245000,
         "year_produced": 2008,
         "engine_fuel": "gasoline",
         "engine_has_gas": "False",
         "engine_type": "gasoline",
         "engine_capacity": 3.6,
         "body_type": "suv",
         "has_warranty": "False",
         "state": "owned",
         "drivetrain": "all",
         "price_usd": 13000,
         "is_exchangeable": "False",
         "location_region": "Витебская обл.",
         "number_of_photos": 2,
         "up_counter": 16,
         "feature_0": "False",
         "feature_1": "True",
         "feature_2": "True",
         "feature_3": "True",
         "feature_4": "True",
         "feature_5": "True",
         "feature_6": "False",
         "feature_7": "False",
         "feature_8": "True",
         "feature_9": "True",
         "duration_listed": 199,
         "_deepnote_index_column": 21652
        },
        {
         "manufacturer_name": "Audi",
         "model_name": "Q7",
         "transmission": "automatic",
         "color": "black",
         "odometer_value": 193277,
         "year_produced": 2008,
         "engine_fuel": "diesel",
         "engine_has_gas": "False",
         "engine_type": "diesel",
         "engine_capacity": 4.2,
         "body_type": "suv",
         "has_warranty": "False",
         "state": "owned",
         "drivetrain": "all",
         "price_usd": 18200,
         "is_exchangeable": "False",
         "location_region": "Минская обл.",
         "number_of_photos": 7,
         "up_counter": 1,
         "feature_0": "False",
         "feature_1": "True",
         "feature_2": "True",
         "feature_3": "True",
         "feature_4": "True",
         "feature_5": "True",
         "feature_6": "False",
         "feature_7": "True",
         "feature_8": "True",
         "feature_9": "True",
         "duration_listed": 75,
         "_deepnote_index_column": 21680
        },
        {
         "manufacturer_name": "Audi",
         "model_name": "Q7",
         "transmission": "automatic",
         "color": "black",
         "odometer_value": 187000,
         "year_produced": 2007,
         "engine_fuel": "diesel",
         "engine_has_gas": "False",
         "engine_type": "diesel",
         "engine_capacity": 3,
         "body_type": "suv",
         "has_warranty": "False",
         "state": "owned",
         "drivetrain": "front",
         "price_usd": 13200,
         "is_exchangeable": "False",
         "location_region": "Минская обл.",
         "number_of_photos": 8,
         "up_counter": 2,
         "feature_0": "False",
         "feature_1": "True",
         "feature_2": "True",
         "feature_3": "True",
         "feature_4": "True",
         "feature_5": "True",
         "feature_6": "True",
         "feature_7": "True",
         "feature_8": "True",
         "feature_9": "True",
         "duration_listed": 85,
         "_deepnote_index_column": 21729
        },
        {
         "manufacturer_name": "Audi",
         "model_name": "Q7",
         "transmission": "automatic",
         "color": "black",
         "odometer_value": 200000,
         "year_produced": 2008,
         "engine_fuel": "diesel",
         "engine_has_gas": "False",
         "engine_type": "diesel",
         "engine_capacity": 3,
         "body_type": "suv",
         "has_warranty": "False",
         "state": "owned",
         "drivetrain": "all",
         "price_usd": 14300,
         "is_exchangeable": "False",
         "location_region": "Минская обл.",
         "number_of_photos": 6,
         "up_counter": 2,
         "feature_0": "False",
         "feature_1": "True",
         "feature_2": "False",
         "feature_3": "True",
         "feature_4": "True",
         "feature_5": "True",
         "feature_6": "False",
         "feature_7": "True",
         "feature_8": "False",
         "feature_9": "True",
         "duration_listed": 90,
         "_deepnote_index_column": 21755
        },
        {
         "manufacturer_name": "Audi",
         "model_name": "Q7",
         "transmission": "automatic",
         "color": "silver",
         "odometer_value": 200000,
         "year_produced": 2008,
         "engine_fuel": "gasoline",
         "engine_has_gas": "False",
         "engine_type": "gasoline",
         "engine_capacity": 3.6,
         "body_type": "suv",
         "has_warranty": "False",
         "state": "owned",
         "drivetrain": "all",
         "price_usd": 16700,
         "is_exchangeable": "False",
         "location_region": "Минская обл.",
         "number_of_photos": 1,
         "up_counter": 2,
         "feature_0": "False",
         "feature_1": "True",
         "feature_2": "True",
         "feature_3": "True",
         "feature_4": "True",
         "feature_5": "True",
         "feature_6": "True",
         "feature_7": "True",
         "feature_8": "True",
         "feature_9": "True",
         "duration_listed": 91,
         "_deepnote_index_column": 21756
        },
        {
         "manufacturer_name": "Audi",
         "model_name": "Q7",
         "transmission": "automatic",
         "color": "black",
         "odometer_value": 276000,
         "year_produced": 2008,
         "engine_fuel": "diesel",
         "engine_has_gas": "False",
         "engine_type": "diesel",
         "engine_capacity": 4.2,
         "body_type": "suv",
         "has_warranty": "False",
         "state": "owned",
         "drivetrain": "all",
         "price_usd": 15700,
         "is_exchangeable": "False",
         "location_region": "Минская обл.",
         "number_of_photos": 6,
         "up_counter": 8,
         "feature_0": "False",
         "feature_1": "True",
         "feature_2": "True",
         "feature_3": "True",
         "feature_4": "True",
         "feature_5": "True",
         "feature_6": "True",
         "feature_7": "True",
         "feature_8": "True",
         "feature_9": "True",
         "duration_listed": 115,
         "_deepnote_index_column": 21812
        },
        {
         "manufacturer_name": "Audi",
         "model_name": "Q7",
         "transmission": "automatic",
         "color": "black",
         "odometer_value": 273000,
         "year_produced": 2006,
         "engine_fuel": "gasoline",
         "engine_has_gas": "False",
         "engine_type": "gasoline",
         "engine_capacity": 4.2,
         "body_type": "suv",
         "has_warranty": "False",
         "state": "owned",
         "drivetrain": "all",
         "price_usd": 9000,
         "is_exchangeable": "False",
         "location_region": "Минская обл.",
         "number_of_photos": 6,
         "up_counter": 4,
         "feature_0": "False",
         "feature_1": "True",
         "feature_2": "True",
         "feature_3": "False",
         "feature_4": "True",
         "feature_5": "True",
         "feature_6": "True",
         "feature_7": "True",
         "feature_8": "False",
         "feature_9": "True",
         "duration_listed": 147,
         "_deepnote_index_column": 21873
        },
        {
         "manufacturer_name": "Audi",
         "model_name": "Q7",
         "transmission": "automatic",
         "color": "white",
         "odometer_value": 283000,
         "year_produced": 2007,
         "engine_fuel": "diesel",
         "engine_has_gas": "False",
         "engine_type": "diesel",
         "engine_capacity": 4.2,
         "body_type": "suv",
         "has_warranty": "False",
         "state": "owned",
         "drivetrain": "all",
         "price_usd": 17700,
         "is_exchangeable": "True",
         "location_region": "Гродненская обл.",
         "number_of_photos": 16,
         "up_counter": 13,
         "feature_0": "False",
         "feature_1": "True",
         "feature_2": "True",
         "feature_3": "True",
         "feature_4": "True",
         "feature_5": "True",
         "feature_6": "True",
         "feature_7": "True",
         "feature_8": "True",
         "feature_9": "True",
         "duration_listed": 159,
         "_deepnote_index_column": 21900
        },
        {
         "manufacturer_name": "Audi",
         "model_name": "Q7",
         "transmission": "automatic",
         "color": "grey",
         "odometer_value": 262000,
         "year_produced": 2007,
         "engine_fuel": "gasoline",
         "engine_has_gas": "False",
         "engine_type": "gasoline",
         "engine_capacity": 3.6,
         "body_type": "suv",
         "has_warranty": "False",
         "state": "owned",
         "drivetrain": "all",
         "price_usd": 13700,
         "is_exchangeable": "False",
         "location_region": "Минская обл.",
         "number_of_photos": 6,
         "up_counter": 2,
         "feature_0": "False",
         "feature_1": "True",
         "feature_2": "True",
         "feature_3": "True",
         "feature_4": "True",
         "feature_5": "True",
         "feature_6": "False",
         "feature_7": "False",
         "feature_8": "True",
         "feature_9": "True",
         "duration_listed": 199,
         "_deepnote_index_column": 21942
        }
       ]
      },
      "text/plain": "      manufacturer_name model_name transmission   color  odometer_value  \\\n19515              Audi         Q7    automatic    grey          275000   \n19547              Audi         Q7    automatic   white          105000   \n19559              Audi         Q7    automatic   other          170000   \n19574              Audi         Q7    automatic   black          185000   \n19583              Audi         Q7    automatic   other          210000   \n...                 ...        ...          ...     ...             ...   \n21756              Audi         Q7    automatic  silver          200000   \n21812              Audi         Q7    automatic   black          276000   \n21873              Audi         Q7    automatic   black          273000   \n21900              Audi         Q7    automatic   white          283000   \n21942              Audi         Q7    automatic    grey          262000   \n\n       year_produced engine_fuel  engine_has_gas engine_type  engine_capacity  \\\n19515           2007      diesel           False      diesel              3.0   \n19547           2014      diesel           False      diesel              3.0   \n19559           2006      diesel           False      diesel              3.0   \n19574           2016      diesel           False      diesel              3.0   \n19583           2010      diesel           False      diesel              4.2   \n...              ...         ...             ...         ...              ...   \n21756           2008    gasoline           False    gasoline              3.6   \n21812           2008      diesel           False      diesel              4.2   \n21873           2006    gasoline           False    gasoline              4.2   \n21900           2007      diesel           False      diesel              4.2   \n21942           2007    gasoline           False    gasoline              3.6   \n\n       ... feature_1  feature_2 feature_3 feature_4  feature_5  feature_6  \\\n19515  ...     False      False     False     False      False      False   \n19547  ...      True       True      True      True       True       True   \n19559  ...      True       True      True      True       True      False   \n19574  ...     False      False      True      True       True       True   \n19583  ...      True       True      True     False       True       True   \n...    ...       ...        ...       ...       ...        ...        ...   \n21756  ...      True       True      True      True       True       True   \n21812  ...      True       True      True      True       True       True   \n21873  ...      True       True     False      True       True       True   \n21900  ...      True       True      True      True       True       True   \n21942  ...      True       True      True      True       True      False   \n\n      feature_7  feature_8  feature_9  duration_listed  \n19515     False      False      False               21  \n19547      True       True       True              216  \n19559      True      False       True               24  \n19574      True       True       True                7  \n19583      True       True       True               45  \n...         ...        ...        ...              ...  \n21756      True       True       True               91  \n21812      True       True       True              115  \n21873      True      False       True              147  \n21900      True       True       True              159  \n21942     False       True       True              199  \n\n[79 rows x 30 columns]",
      "text/html": "<div>\n<style scoped>\n    .dataframe tbody tr th:only-of-type {\n        vertical-align: middle;\n    }\n\n    .dataframe tbody tr th {\n        vertical-align: top;\n    }\n\n    .dataframe thead th {\n        text-align: right;\n    }\n</style>\n<table border=\"1\" class=\"dataframe\">\n  <thead>\n    <tr style=\"text-align: right;\">\n      <th></th>\n      <th>manufacturer_name</th>\n      <th>model_name</th>\n      <th>transmission</th>\n      <th>color</th>\n      <th>odometer_value</th>\n      <th>year_produced</th>\n      <th>engine_fuel</th>\n      <th>engine_has_gas</th>\n      <th>engine_type</th>\n      <th>engine_capacity</th>\n      <th>...</th>\n      <th>feature_1</th>\n      <th>feature_2</th>\n      <th>feature_3</th>\n      <th>feature_4</th>\n      <th>feature_5</th>\n      <th>feature_6</th>\n      <th>feature_7</th>\n      <th>feature_8</th>\n      <th>feature_9</th>\n      <th>duration_listed</th>\n    </tr>\n  </thead>\n  <tbody>\n    <tr>\n      <th>19515</th>\n      <td>Audi</td>\n      <td>Q7</td>\n      <td>automatic</td>\n      <td>grey</td>\n      <td>275000</td>\n      <td>2007</td>\n      <td>diesel</td>\n      <td>False</td>\n      <td>diesel</td>\n      <td>3.0</td>\n      <td>...</td>\n      <td>False</td>\n      <td>False</td>\n      <td>False</td>\n      <td>False</td>\n      <td>False</td>\n      <td>False</td>\n      <td>False</td>\n      <td>False</td>\n      <td>False</td>\n      <td>21</td>\n    </tr>\n    <tr>\n      <th>19547</th>\n      <td>Audi</td>\n      <td>Q7</td>\n      <td>automatic</td>\n      <td>white</td>\n      <td>105000</td>\n      <td>2014</td>\n      <td>diesel</td>\n      <td>False</td>\n      <td>diesel</td>\n      <td>3.0</td>\n      <td>...</td>\n      <td>True</td>\n      <td>True</td>\n      <td>True</td>\n      <td>True</td>\n      <td>True</td>\n      <td>True</td>\n      <td>True</td>\n      <td>True</td>\n      <td>True</td>\n      <td>216</td>\n    </tr>\n    <tr>\n      <th>19559</th>\n      <td>Audi</td>\n      <td>Q7</td>\n      <td>automatic</td>\n      <td>other</td>\n      <td>170000</td>\n      <td>2006</td>\n      <td>diesel</td>\n      <td>False</td>\n      <td>diesel</td>\n      <td>3.0</td>\n      <td>...</td>\n      <td>True</td>\n      <td>True</td>\n      <td>True</td>\n      <td>True</td>\n      <td>True</td>\n      <td>False</td>\n      <td>True</td>\n      <td>False</td>\n      <td>True</td>\n      <td>24</td>\n    </tr>\n    <tr>\n      <th>19574</th>\n      <td>Audi</td>\n      <td>Q7</td>\n      <td>automatic</td>\n      <td>black</td>\n      <td>185000</td>\n      <td>2016</td>\n      <td>diesel</td>\n      <td>False</td>\n      <td>diesel</td>\n      <td>3.0</td>\n      <td>...</td>\n      <td>False</td>\n      <td>False</td>\n      <td>True</td>\n      <td>True</td>\n      <td>True</td>\n      <td>True</td>\n      <td>True</td>\n      <td>True</td>\n      <td>True</td>\n      <td>7</td>\n    </tr>\n    <tr>\n      <th>19583</th>\n      <td>Audi</td>\n      <td>Q7</td>\n      <td>automatic</td>\n      <td>other</td>\n      <td>210000</td>\n      <td>2010</td>\n      <td>diesel</td>\n      <td>False</td>\n      <td>diesel</td>\n      <td>4.2</td>\n      <td>...</td>\n      <td>True</td>\n      <td>True</td>\n      <td>True</td>\n      <td>False</td>\n      <td>True</td>\n      <td>True</td>\n      <td>True</td>\n      <td>True</td>\n      <td>True</td>\n      <td>45</td>\n    </tr>\n    <tr>\n      <th>...</th>\n      <td>...</td>\n      <td>...</td>\n      <td>...</td>\n      <td>...</td>\n      <td>...</td>\n      <td>...</td>\n      <td>...</td>\n      <td>...</td>\n      <td>...</td>\n      <td>...</td>\n      <td>...</td>\n      <td>...</td>\n      <td>...</td>\n      <td>...</td>\n      <td>...</td>\n      <td>...</td>\n      <td>...</td>\n      <td>...</td>\n      <td>...</td>\n      <td>...</td>\n      <td>...</td>\n    </tr>\n    <tr>\n      <th>21756</th>\n      <td>Audi</td>\n      <td>Q7</td>\n      <td>automatic</td>\n      <td>silver</td>\n      <td>200000</td>\n      <td>2008</td>\n      <td>gasoline</td>\n      <td>False</td>\n      <td>gasoline</td>\n      <td>3.6</td>\n      <td>...</td>\n      <td>True</td>\n      <td>True</td>\n      <td>True</td>\n      <td>True</td>\n      <td>True</td>\n      <td>True</td>\n      <td>True</td>\n      <td>True</td>\n      <td>True</td>\n      <td>91</td>\n    </tr>\n    <tr>\n      <th>21812</th>\n      <td>Audi</td>\n      <td>Q7</td>\n      <td>automatic</td>\n      <td>black</td>\n      <td>276000</td>\n      <td>2008</td>\n      <td>diesel</td>\n      <td>False</td>\n      <td>diesel</td>\n      <td>4.2</td>\n      <td>...</td>\n      <td>True</td>\n      <td>True</td>\n      <td>True</td>\n      <td>True</td>\n      <td>True</td>\n      <td>True</td>\n      <td>True</td>\n      <td>True</td>\n      <td>True</td>\n      <td>115</td>\n    </tr>\n    <tr>\n      <th>21873</th>\n      <td>Audi</td>\n      <td>Q7</td>\n      <td>automatic</td>\n      <td>black</td>\n      <td>273000</td>\n      <td>2006</td>\n      <td>gasoline</td>\n      <td>False</td>\n      <td>gasoline</td>\n      <td>4.2</td>\n      <td>...</td>\n      <td>True</td>\n      <td>True</td>\n      <td>False</td>\n      <td>True</td>\n      <td>True</td>\n      <td>True</td>\n      <td>True</td>\n      <td>False</td>\n      <td>True</td>\n      <td>147</td>\n    </tr>\n    <tr>\n      <th>21900</th>\n      <td>Audi</td>\n      <td>Q7</td>\n      <td>automatic</td>\n      <td>white</td>\n      <td>283000</td>\n      <td>2007</td>\n      <td>diesel</td>\n      <td>False</td>\n      <td>diesel</td>\n      <td>4.2</td>\n      <td>...</td>\n      <td>True</td>\n      <td>True</td>\n      <td>True</td>\n      <td>True</td>\n      <td>True</td>\n      <td>True</td>\n      <td>True</td>\n      <td>True</td>\n      <td>True</td>\n      <td>159</td>\n    </tr>\n    <tr>\n      <th>21942</th>\n      <td>Audi</td>\n      <td>Q7</td>\n      <td>automatic</td>\n      <td>grey</td>\n      <td>262000</td>\n      <td>2007</td>\n      <td>gasoline</td>\n      <td>False</td>\n      <td>gasoline</td>\n      <td>3.6</td>\n      <td>...</td>\n      <td>True</td>\n      <td>True</td>\n      <td>True</td>\n      <td>True</td>\n      <td>True</td>\n      <td>False</td>\n      <td>False</td>\n      <td>True</td>\n      <td>True</td>\n      <td>199</td>\n    </tr>\n  </tbody>\n</table>\n<p>79 rows × 30 columns</p>\n</div>"
     },
     "metadata": {}
    }
   ]
  },
  {
   "cell_type": "code",
   "metadata": {
    "tags": [],
    "cell_id": "00018-d6b3eff4-91cc-41e1-bf67-d29947e5b6e0",
    "deepnote_to_be_reexecuted": false,
    "source_hash": "104135ea",
    "execution_start": 1625319558898,
    "execution_millis": 1224,
    "deepnote_cell_type": "code"
   },
   "source": "sns.histplot(Q7_df, x='price_usd', hue='year_produced')",
   "execution_count": null,
   "outputs": [
    {
     "output_type": "execute_result",
     "execution_count": 16,
     "data": {
      "text/plain": "<AxesSubplot:xlabel='price_usd', ylabel='Count'>"
     },
     "metadata": {}
    },
    {
     "data": {
      "text/plain": "<Figure size 432x288 with 1 Axes>",
      "image/png": "[encoded data removed]"
     },
     "metadata": {
      "needs_background": "light",
      "image/png": {
       "width": 382,
       "height": 263
      }
     },
     "output_type": "display_data"
    }
   ]
  },
  {
   "cell_type": "markdown",
   "source": "Here we can see that we have Audi's Q7 from 10000 usd to 45000 usd, and the older the car the cheaper.\n\nLet's have a lot of another brand",
   "metadata": {
    "tags": [],
    "cell_id": "00019-ffc2540e-dda5-4f05-ad4c-0da8ad136420",
    "deepnote_cell_type": "markdown"
   }
  },
  {
   "cell_type": "code",
   "metadata": {
    "tags": [],
    "cell_id": "00020-f965737c-2b0f-4ed8-be21-5346010a55dc",
    "deepnote_to_be_reexecuted": false,
    "source_hash": "530900f6",
    "execution_start": 1625319699011,
    "execution_millis": 380,
    "deepnote_cell_type": "code"
   },
   "source": "df[(df['manufacturer_name']=='Volkswagen')]",
   "execution_count": null,
   "outputs": [
    {
     "output_type": "execute_result",
     "execution_count": 19,
     "data": {
      "application/vnd.deepnote.dataframe.v2+json": {
       "row_count": 4243,
       "column_count": 30,
       "columns": [
        {
         "name": "manufacturer_name",
         "dtype": "object",
         "stats": {
          "unique_count": 1,
          "nan_count": 0,
          "categories": [
           {
            "name": "Volkswagen",
            "count": 4243
           }
          ]
         }
        },
        {
         "name": "model_name",
         "dtype": "object",
         "stats": {
          "unique_count": 44,
          "nan_count": 0,
          "categories": [
           {
            "name": "Passat",
            "count": 1423
           },
           {
            "name": "Golf",
            "count": 707
           },
           {
            "name": "42 others",
            "count": 2113
           }
          ]
         }
        },
        {
         "name": "transmission",
         "dtype": "object",
         "stats": {
          "unique_count": 2,
          "nan_count": 0,
          "categories": [
           {
            "name": "mechanical",
            "count": 3304
           },
           {
            "name": "automatic",
            "count": 939
           }
          ]
         }
        },
        {
         "name": "color",
         "dtype": "object",
         "stats": {
          "unique_count": 12,
          "nan_count": 0,
          "categories": [
           {
            "name": "black",
            "count": 832
           },
           {
            "name": "blue",
            "count": 676
           },
           {
            "name": "10 others",
            "count": 2735
           }
          ]
         }
        },
        {
         "name": "odometer_value",
         "dtype": "int64",
         "stats": {
          "unique_count": 1195,
          "nan_count": 0,
          "min": "0",
          "max": "1000000",
          "histogram": [
           {
            "bin_start": 0,
            "bin_end": 100000,
            "count": 391
           },
           {
            "bin_start": 100000,
            "bin_end": 200000,
            "count": 837
           },
           {
            "bin_start": 200000,
            "bin_end": 300000,
            "count": 1226
           },
           {
            "bin_start": 300000,
            "bin_end": 400000,
            "count": 1132
           },
           {
            "bin_start": 400000,
            "bin_end": 500000,
            "count": 418
           },
           {
            "bin_start": 500000,
            "bin_end": 600000,
            "count": 148
           },
           {
            "bin_start": 600000,
            "bin_end": 700000,
            "count": 44
           },
           {
            "bin_start": 700000,
            "bin_end": 800000,
            "count": 14
           },
           {
            "bin_start": 800000,
            "bin_end": 900000,
            "count": 3
           },
           {
            "bin_start": 900000,
            "bin_end": 1000000,
            "count": 30
           }
          ]
         }
        },
        {
         "name": "year_produced",
         "dtype": "int64",
         "stats": {
          "unique_count": 43,
          "nan_count": 0,
          "min": "1976",
          "max": "2019",
          "histogram": [
           {
            "bin_start": 1976,
            "bin_end": 1980.3,
            "count": 7
           },
           {
            "bin_start": 1980.3,
            "bin_end": 1984.6,
            "count": 56
           },
           {
            "bin_start": 1984.6,
            "bin_end": 1988.9,
            "count": 241
           },
           {
            "bin_start": 1988.9,
            "bin_end": 1993.2,
            "count": 601
           },
           {
            "bin_start": 1993.2,
            "bin_end": 1997.5,
            "count": 564
           },
           {
            "bin_start": 1997.5,
            "bin_end": 2001.8,
            "count": 580
           },
           {
            "bin_start": 2001.8,
            "bin_end": 2006.1,
            "count": 666
           },
           {
            "bin_start": 2006.1,
            "bin_end": 2010.4,
            "count": 767
           },
           {
            "bin_start": 2010.4,
            "bin_end": 2014.7,
            "count": 442
           },
           {
            "bin_start": 2014.7,
            "bin_end": 2019,
            "count": 319
           }
          ]
         }
        },
        {
         "name": "engine_fuel",
         "dtype": "object",
         "stats": {
          "unique_count": 4,
          "nan_count": 0,
          "categories": [
           {
            "name": "diesel",
            "count": 2065
           },
           {
            "name": "gasoline",
            "count": 2046
           },
           {
            "name": "2 others",
            "count": 132
           }
          ]
         }
        },
        {
         "name": "engine_has_gas",
         "dtype": "bool",
         "stats": {
          "unique_count": 2,
          "nan_count": 0,
          "categories": [
           {
            "name": "False",
            "count": 4117
           },
           {
            "name": "True",
            "count": 126
           }
          ]
         }
        },
        {
         "name": "engine_type",
         "dtype": "object",
         "stats": {
          "unique_count": 2,
          "nan_count": 0,
          "categories": [
           {
            "name": "gasoline",
            "count": 2178
           },
           {
            "name": "diesel",
            "count": 2065
           }
          ]
         }
        },
        {
         "name": "engine_capacity",
         "dtype": "float64",
         "stats": {
          "unique_count": 24,
          "nan_count": 0,
          "min": "1.0",
          "max": "6.0",
          "histogram": [
           {
            "bin_start": 1,
            "bin_end": 1.5,
            "count": 570
           },
           {
            "bin_start": 1.5,
            "bin_end": 2,
            "count": 2314
           },
           {
            "bin_start": 2,
            "bin_end": 2.5,
            "count": 902
           },
           {
            "bin_start": 2.5,
            "bin_end": 3,
            "count": 359
           },
           {
            "bin_start": 3,
            "bin_end": 3.5,
            "count": 65
           },
           {
            "bin_start": 3.5,
            "bin_end": 4,
            "count": 10
           },
           {
            "bin_start": 4,
            "bin_end": 4.5,
            "count": 16
           },
           {
            "bin_start": 4.5,
            "bin_end": 5,
            "count": 0
           },
           {
            "bin_start": 5,
            "bin_end": 5.5,
            "count": 6
           },
           {
            "bin_start": 5.5,
            "bin_end": 6,
            "count": 1
           }
          ]
         }
        },
        {
         "name": "body_type",
         "dtype": "object",
         "stats": {
          "unique_count": 11,
          "nan_count": 0,
          "categories": [
           {
            "name": "sedan",
            "count": 1218
           },
           {
            "name": "universal",
            "count": 944
           },
           {
            "name": "9 others",
            "count": 2081
           }
          ]
         }
        },
        {
         "name": "has_warranty",
         "dtype": "bool",
         "stats": {
          "unique_count": 2,
          "nan_count": 0,
          "categories": [
           {
            "name": "False",
            "count": 4232
           },
           {
            "name": "True",
            "count": 11
           }
          ]
         }
        },
        {
         "name": "state",
         "dtype": "object",
         "stats": {
          "unique_count": 3,
          "nan_count": 0,
          "categories": [
           {
            "name": "owned",
            "count": 4205
           },
           {
            "name": "emergency",
            "count": 36
           },
           {
            "name": "new",
            "count": 2
           }
          ]
         }
        },
        {
         "name": "drivetrain",
         "dtype": "object",
         "stats": {
          "unique_count": 3,
          "nan_count": 0,
          "categories": [
           {
            "name": "front",
            "count": 3831
           },
           {
            "name": "all",
            "count": 234
           },
           {
            "name": "rear",
            "count": 178
           }
          ]
         }
        },
        {
         "name": "price_usd",
         "dtype": "float64",
         "stats": {
          "unique_count": 790,
          "nan_count": 0,
          "min": "1.0",
          "max": "43999.0",
          "histogram": [
           {
            "bin_start": 1,
            "bin_end": 4400.8,
            "count": 1804
           },
           {
            "bin_start": 4400.8,
            "bin_end": 8800.6,
            "count": 1378
           },
           {
            "bin_start": 8800.6,
            "bin_end": 13200.400000000001,
            "count": 678
           },
           {
            "bin_start": 13200.400000000001,
            "bin_end": 17600.2,
            "count": 217
           },
           {
            "bin_start": 17600.2,
            "bin_end": 22000,
            "count": 79
           },
           {
            "bin_start": 22000,
            "bin_end": 26399.800000000003,
            "count": 50
           },
           {
            "bin_start": 26399.800000000003,
            "bin_end": 30799.600000000002,
            "count": 25
           },
           {
            "bin_start": 30799.600000000002,
            "bin_end": 35199.4,
            "count": 5
           },
           {
            "bin_start": 35199.4,
            "bin_end": 39599.200000000004,
            "count": 6
           },
           {
            "bin_start": 39599.200000000004,
            "bin_end": 43999,
            "count": 1
           }
          ]
         }
        },
        {
         "name": "is_exchangeable",
         "dtype": "bool",
         "stats": {
          "unique_count": 2,
          "nan_count": 0,
          "categories": [
           {
            "name": "False",
            "count": 2881
           },
           {
            "name": "True",
            "count": 1362
           }
          ]
         }
        },
        {
         "name": "location_region",
         "dtype": "object",
         "stats": {
          "unique_count": 6,
          "nan_count": 0,
          "categories": [
           {
            "name": "Минская обл.",
            "count": 2413
           },
           {
            "name": "Брестская обл.",
            "count": 392
           },
           {
            "name": "4 others",
            "count": 1438
           }
          ]
         }
        },
        {
         "name": "number_of_photos",
         "dtype": "int64",
         "stats": {
          "unique_count": 42,
          "nan_count": 0,
          "min": "1",
          "max": "86",
          "histogram": [
           {
            "bin_start": 1,
            "bin_end": 9.5,
            "count": 2534
           },
           {
            "bin_start": 9.5,
            "bin_end": 18,
            "count": 1266
           },
           {
            "bin_start": 18,
            "bin_end": 26.5,
            "count": 373
           },
           {
            "bin_start": 26.5,
            "bin_end": 35,
            "count": 59
           },
           {
            "bin_start": 35,
            "bin_end": 43.5,
            "count": 9
           },
           {
            "bin_start": 43.5,
            "bin_end": 52,
            "count": 0
           },
           {
            "bin_start": 52,
            "bin_end": 60.5,
            "count": 1
           },
           {
            "bin_start": 60.5,
            "bin_end": 69,
            "count": 0
           },
           {
            "bin_start": 69,
            "bin_end": 77.5,
            "count": 0
           },
           {
            "bin_start": 77.5,
            "bin_end": 86,
            "count": 1
           }
          ]
         }
        },
        {
         "name": "up_counter",
         "dtype": "int64",
         "stats": {
          "unique_count": 160,
          "nan_count": 0,
          "min": "1",
          "max": "1271",
          "histogram": [
           {
            "bin_start": 1,
            "bin_end": 128,
            "count": 4187
           },
           {
            "bin_start": 128,
            "bin_end": 255,
            "count": 37
           },
           {
            "bin_start": 255,
            "bin_end": 382,
            "count": 8
           },
           {
            "bin_start": 382,
            "bin_end": 509,
            "count": 5
           },
           {
            "bin_start": 509,
            "bin_end": 636,
            "count": 1
           },
           {
            "bin_start": 636,
            "bin_end": 763,
            "count": 4
           },
           {
            "bin_start": 763,
            "bin_end": 890,
            "count": 0
           },
           {
            "bin_start": 890,
            "bin_end": 1017,
            "count": 0
           },
           {
            "bin_start": 1017,
            "bin_end": 1144,
            "count": 0
           },
           {
            "bin_start": 1144,
            "bin_end": 1271,
            "count": 1
           }
          ]
         }
        },
        {
         "name": "feature_0",
         "dtype": "bool",
         "stats": {
          "unique_count": 2,
          "nan_count": 0,
          "categories": [
           {
            "name": "False",
            "count": 3010
           },
           {
            "name": "True",
            "count": 1233
           }
          ]
         }
        },
        {
         "name": "feature_1",
         "dtype": "bool",
         "stats": {
          "unique_count": 2,
          "nan_count": 0,
          "categories": [
           {
            "name": "True",
            "count": 2188
           },
           {
            "name": "False",
            "count": 2055
           }
          ]
         }
        },
        {
         "name": "feature_2",
         "dtype": "bool",
         "stats": {
          "unique_count": 2,
          "nan_count": 0,
          "categories": [
           {
            "name": "False",
            "count": 3554
           },
           {
            "name": "True",
            "count": 689
           }
          ]
         }
        },
        {
         "name": "feature_3",
         "dtype": "bool",
         "stats": {
          "unique_count": 2,
          "nan_count": 0,
          "categories": [
           {
            "name": "False",
            "count": 3253
           },
           {
            "name": "True",
            "count": 990
           }
          ]
         }
        },
        {
         "name": "feature_4",
         "dtype": "bool"
        },
        {
         "name": "feature_5",
         "dtype": "bool"
        },
        {
         "name": "feature_6",
         "dtype": "bool"
        },
        {
         "name": "feature_7",
         "dtype": "bool"
        },
        {
         "name": "feature_8",
         "dtype": "bool"
        },
        {
         "name": "feature_9",
         "dtype": "bool"
        },
        {
         "name": "duration_listed",
         "dtype": "int64"
        },
        {
         "name": "_deepnote_index_column",
         "dtype": "int64"
        }
       ],
       "rows_top": [
        {
         "manufacturer_name": "Volkswagen",
         "model_name": "T5 Multivan",
         "transmission": "automatic",
         "color": "black",
         "odometer_value": 87000,
         "year_produced": 2011,
         "engine_fuel": "diesel",
         "engine_has_gas": "False",
         "engine_type": "diesel",
         "engine_capacity": 2,
         "body_type": "minibus",
         "has_warranty": "False",
         "state": "owned",
         "drivetrain": "all",
         "price_usd": 23500,
         "is_exchangeable": "False",
         "location_region": "Минская обл.",
         "number_of_photos": 15,
         "up_counter": 5,
         "feature_0": "False",
         "feature_1": "False",
         "feature_2": "False",
         "feature_3": "True",
         "feature_4": "True",
         "feature_5": "True",
         "feature_6": "True",
         "feature_7": "True",
         "feature_8": "True",
         "feature_9": "True",
         "duration_listed": 6,
         "_deepnote_index_column": 15075
        },
        {
         "manufacturer_name": "Volkswagen",
         "model_name": "Golf",
         "transmission": "mechanical",
         "color": "black",
         "odometer_value": 213000,
         "year_produced": 2001,
         "engine_fuel": "gasoline",
         "engine_has_gas": "False",
         "engine_type": "gasoline",
         "engine_capacity": 1.8,
         "body_type": "hatchback",
         "has_warranty": "False",
         "state": "owned",
         "drivetrain": "front",
         "price_usd": 6300,
         "is_exchangeable": "False",
         "location_region": "Минская обл.",
         "number_of_photos": 20,
         "up_counter": 36,
         "feature_0": "False",
         "feature_1": "False",
         "feature_2": "False",
         "feature_3": "False",
         "feature_4": "False",
         "feature_5": "False",
         "feature_6": "False",
         "feature_7": "True",
         "feature_8": "False",
         "feature_9": "True",
         "duration_listed": 43,
         "_deepnote_index_column": 15076
        },
        {
         "manufacturer_name": "Volkswagen",
         "model_name": "Passat",
         "transmission": "mechanical",
         "color": "grey",
         "odometer_value": 215000,
         "year_produced": 2009,
         "engine_fuel": "gasoline",
         "engine_has_gas": "False",
         "engine_type": "gasoline",
         "engine_capacity": 1.4,
         "body_type": "sedan",
         "has_warranty": "False",
         "state": "owned",
         "drivetrain": "front",
         "price_usd": 7100,
         "is_exchangeable": "True",
         "location_region": "Гомельская обл.",
         "number_of_photos": 20,
         "up_counter": 34,
         "feature_0": "False",
         "feature_1": "True",
         "feature_2": "False",
         "feature_3": "True",
         "feature_4": "False",
         "feature_5": "False",
         "feature_6": "True",
         "feature_7": "False",
         "feature_8": "True",
         "feature_9": "True",
         "duration_listed": 60,
         "_deepnote_index_column": 15077
        },
        {
         "manufacturer_name": "Volkswagen",
         "model_name": "Passat",
         "transmission": "mechanical",
         "color": "white",
         "odometer_value": 500000,
         "year_produced": 1993,
         "engine_fuel": "gasoline",
         "engine_has_gas": "False",
         "engine_type": "gasoline",
         "engine_capacity": 1.8,
         "body_type": "universal",
         "has_warranty": "False",
         "state": "owned",
         "drivetrain": "front",
         "price_usd": 650,
         "is_exchangeable": "False",
         "location_region": "Минская обл.",
         "number_of_photos": 8,
         "up_counter": 7,
         "feature_0": "True",
         "feature_1": "False",
         "feature_2": "False",
         "feature_3": "False",
         "feature_4": "False",
         "feature_5": "False",
         "feature_6": "False",
         "feature_7": "False",
         "feature_8": "False",
         "feature_9": "False",
         "duration_listed": 10,
         "_deepnote_index_column": 15078
        },
        {
         "manufacturer_name": "Volkswagen",
         "model_name": "Polo Sedan",
         "transmission": "automatic",
         "color": "white",
         "odometer_value": 58000,
         "year_produced": 2017,
         "engine_fuel": "gasoline",
         "engine_has_gas": "False",
         "engine_type": "gasoline",
         "engine_capacity": 1.6,
         "body_type": "sedan",
         "has_warranty": "False",
         "state": "owned",
         "drivetrain": "front",
         "price_usd": 9350,
         "is_exchangeable": "True",
         "location_region": "Минская обл.",
         "number_of_photos": 22,
         "up_counter": 25,
         "feature_0": "True",
         "feature_1": "False",
         "feature_2": "False",
         "feature_3": "False",
         "feature_4": "False",
         "feature_5": "False",
         "feature_6": "False",
         "feature_7": "False",
         "feature_8": "False",
         "feature_9": "False",
         "duration_listed": 32,
         "_deepnote_index_column": 15079
        },
        {
         "manufacturer_name": "Volkswagen",
         "model_name": "T6 Caravelle",
         "transmission": "mechanical",
         "color": "white",
         "odometer_value": 99000,
         "year_produced": 2016,
         "engine_fuel": "diesel",
         "engine_has_gas": "False",
         "engine_type": "diesel",
         "engine_capacity": 2,
         "body_type": "minibus",
         "has_warranty": "False",
         "state": "owned",
         "drivetrain": "front",
         "price_usd": 23150,
         "is_exchangeable": "True",
         "location_region": "Минская обл.",
         "number_of_photos": 23,
         "up_counter": 35,
         "feature_0": "True",
         "feature_1": "False",
         "feature_2": "False",
         "feature_3": "False",
         "feature_4": "False",
         "feature_5": "False",
         "feature_6": "False",
         "feature_7": "False",
         "feature_8": "False",
         "feature_9": "False",
         "duration_listed": 47,
         "_deepnote_index_column": 15080
        },
        {
         "manufacturer_name": "Volkswagen",
         "model_name": "Golf",
         "transmission": "mechanical",
         "color": "red",
         "odometer_value": 260000,
         "year_produced": 1999,
         "engine_fuel": "diesel",
         "engine_has_gas": "False",
         "engine_type": "diesel",
         "engine_capacity": 1.9,
         "body_type": "hatchback",
         "has_warranty": "False",
         "state": "owned",
         "drivetrain": "front",
         "price_usd": 3400,
         "is_exchangeable": "True",
         "location_region": "Минская обл.",
         "number_of_photos": 3,
         "up_counter": 32,
         "feature_0": "True",
         "feature_1": "False",
         "feature_2": "False",
         "feature_3": "False",
         "feature_4": "False",
         "feature_5": "False",
         "feature_6": "False",
         "feature_7": "False",
         "feature_8": "False",
         "feature_9": "False",
         "duration_listed": 254,
         "_deepnote_index_column": 15081
        },
        {
         "manufacturer_name": "Volkswagen",
         "model_name": "Passat",
         "transmission": "mechanical",
         "color": "green",
         "odometer_value": 316000,
         "year_produced": 1996,
         "engine_fuel": "diesel",
         "engine_has_gas": "False",
         "engine_type": "diesel",
         "engine_capacity": 1.9,
         "body_type": "universal",
         "has_warranty": "False",
         "state": "owned",
         "drivetrain": "front",
         "price_usd": 2350,
         "is_exchangeable": "False",
         "location_region": "Витебская обл.",
         "number_of_photos": 28,
         "up_counter": 9,
         "feature_0": "False",
         "feature_1": "True",
         "feature_2": "False",
         "feature_3": "True",
         "feature_4": "False",
         "feature_5": "False",
         "feature_6": "False",
         "feature_7": "False",
         "feature_8": "False",
         "feature_9": "False",
         "duration_listed": 15,
         "_deepnote_index_column": 15082
        },
        {
         "manufacturer_name": "Volkswagen",
         "model_name": "Passat",
         "transmission": "mechanical",
         "color": "black",
         "odometer_value": 285000,
         "year_produced": 1999,
         "engine_fuel": "diesel",
         "engine_has_gas": "False",
         "engine_type": "diesel",
         "engine_capacity": 1.9,
         "body_type": "sedan",
         "has_warranty": "False",
         "state": "owned",
         "drivetrain": "front",
         "price_usd": 4650,
         "is_exchangeable": "False",
         "location_region": "Минская обл.",
         "number_of_photos": 12,
         "up_counter": 7,
         "feature_0": "False",
         "feature_1": "False",
         "feature_2": "False",
         "feature_3": "False",
         "feature_4": "False",
         "feature_5": "False",
         "feature_6": "False",
         "feature_7": "False",
         "feature_8": "True",
         "feature_9": "True",
         "duration_listed": 8,
         "_deepnote_index_column": 15083
        },
        {
         "manufacturer_name": "Volkswagen",
         "model_name": "Passat",
         "transmission": "mechanical",
         "color": "black",
         "odometer_value": 375000,
         "year_produced": 1994,
         "engine_fuel": "diesel",
         "engine_has_gas": "False",
         "engine_type": "diesel",
         "engine_capacity": 1.9,
         "body_type": "sedan",
         "has_warranty": "False",
         "state": "owned",
         "drivetrain": "front",
         "price_usd": 2990,
         "is_exchangeable": "False",
         "location_region": "Минская обл.",
         "number_of_photos": 14,
         "up_counter": 13,
         "feature_0": "False",
         "feature_1": "True",
         "feature_2": "False",
         "feature_3": "False",
         "feature_4": "False",
         "feature_5": "False",
         "feature_6": "False",
         "feature_7": "True",
         "feature_8": "False",
         "feature_9": "True",
         "duration_listed": 15,
         "_deepnote_index_column": 15084
        },
        {
         "manufacturer_name": "Volkswagen",
         "model_name": "Passat",
         "transmission": "automatic",
         "color": "black",
         "odometer_value": 288000,
         "year_produced": 2005,
         "engine_fuel": "gasoline",
         "engine_has_gas": "False",
         "engine_type": "gasoline",
         "engine_capacity": 2,
         "body_type": "sedan",
         "has_warranty": "False",
         "state": "owned",
         "drivetrain": "front",
         "price_usd": 5750,
         "is_exchangeable": "False",
         "location_region": "Минская обл.",
         "number_of_photos": 12,
         "up_counter": 13,
         "feature_0": "False",
         "feature_1": "True",
         "feature_2": "False",
         "feature_3": "False",
         "feature_4": "False",
         "feature_5": "False",
         "feature_6": "False",
         "feature_7": "True",
         "feature_8": "False",
         "feature_9": "True",
         "duration_listed": 15,
         "_deepnote_index_column": 15085
        },
        {
         "manufacturer_name": "Volkswagen",
         "model_name": "Golf",
         "transmission": "mechanical",
         "color": "blue",
         "odometer_value": 280000,
         "year_produced": 1996,
         "engine_fuel": "diesel",
         "engine_has_gas": "False",
         "engine_type": "diesel",
         "engine_capacity": 1.9,
         "body_type": "hatchback",
         "has_warranty": "False",
         "state": "owned",
         "drivetrain": "front",
         "price_usd": 2100,
         "is_exchangeable": "False",
         "location_region": "Минская обл.",
         "number_of_photos": 14,
         "up_counter": 14,
         "feature_0": "False",
         "feature_1": "True",
         "feature_2": "False",
         "feature_3": "False",
         "feature_4": "False",
         "feature_5": "False",
         "feature_6": "False",
         "feature_7": "True",
         "feature_8": "False",
         "feature_9": "True",
         "duration_listed": 17,
         "_deepnote_index_column": 15086
        },
        {
         "manufacturer_name": "Volkswagen",
         "model_name": "Crafter",
         "transmission": "mechanical",
         "color": "blue",
         "odometer_value": 80000,
         "year_produced": 2018,
         "engine_fuel": "diesel",
         "engine_has_gas": "False",
         "engine_type": "diesel",
         "engine_capacity": 2,
         "body_type": "van",
         "has_warranty": "True",
         "state": "owned",
         "drivetrain": "front",
         "price_usd": 29000,
         "is_exchangeable": "False",
         "location_region": "Минская обл.",
         "number_of_photos": 5,
         "up_counter": 2,
         "feature_0": "False",
         "feature_1": "True",
         "feature_2": "False",
         "feature_3": "False",
         "feature_4": "False",
         "feature_5": "False",
         "feature_6": "False",
         "feature_7": "False",
         "feature_8": "False",
         "feature_9": "False",
         "duration_listed": 4,
         "_deepnote_index_column": 15087
        },
        {
         "manufacturer_name": "Volkswagen",
         "model_name": "Golf",
         "transmission": "mechanical",
         "color": "blue",
         "odometer_value": 290000,
         "year_produced": 1994,
         "engine_fuel": "gasoline",
         "engine_has_gas": "False",
         "engine_type": "gasoline",
         "engine_capacity": 1.6,
         "body_type": "hatchback",
         "has_warranty": "False",
         "state": "owned",
         "drivetrain": "front",
         "price_usd": 1480,
         "is_exchangeable": "False",
         "location_region": "Минская обл.",
         "number_of_photos": 7,
         "up_counter": 1,
         "feature_0": "True",
         "feature_1": "False",
         "feature_2": "False",
         "feature_3": "False",
         "feature_4": "False",
         "feature_5": "False",
         "feature_6": "False",
         "feature_7": "False",
         "feature_8": "False",
         "feature_9": "False",
         "duration_listed": 0,
         "_deepnote_index_column": 15088
        },
        {
         "manufacturer_name": "Volkswagen",
         "model_name": "Tiguan",
         "transmission": "mechanical",
         "color": "blue",
         "odometer_value": 198000,
         "year_produced": 2008,
         "engine_fuel": "gasoline",
         "engine_has_gas": "False",
         "engine_type": "gasoline",
         "engine_capacity": 1.4,
         "body_type": "suv",
         "has_warranty": "False",
         "state": "owned",
         "drivetrain": "front",
         "price_usd": 8490,
         "is_exchangeable": "False",
         "location_region": "Гродненская обл.",
         "number_of_photos": 11,
         "up_counter": 2,
         "feature_0": "False",
         "feature_1": "True",
         "feature_2": "False",
         "feature_3": "False",
         "feature_4": "False",
         "feature_5": "True",
         "feature_6": "False",
         "feature_7": "False",
         "feature_8": "True",
         "feature_9": "True",
         "duration_listed": 15,
         "_deepnote_index_column": 15089
        },
        {
         "manufacturer_name": "Volkswagen",
         "model_name": "Polo Sedan",
         "transmission": "automatic",
         "color": "other",
         "odometer_value": 58000,
         "year_produced": 2015,
         "engine_fuel": "gasoline",
         "engine_has_gas": "False",
         "engine_type": "gasoline",
         "engine_capacity": 1.6,
         "body_type": "sedan",
         "has_warranty": "False",
         "state": "owned",
         "drivetrain": "front",
         "price_usd": 9500,
         "is_exchangeable": "False",
         "location_region": "Минская обл.",
         "number_of_photos": 3,
         "up_counter": 8,
         "feature_0": "False",
         "feature_1": "True",
         "feature_2": "False",
         "feature_3": "False",
         "feature_4": "False",
         "feature_5": "True",
         "feature_6": "False",
         "feature_7": "False",
         "feature_8": "False",
         "feature_9": "False",
         "duration_listed": 17,
         "_deepnote_index_column": 15090
        }
       ],
       "rows_bottom": [
        {
         "manufacturer_name": "Volkswagen",
         "model_name": "Passat",
         "transmission": "mechanical",
         "color": "other",
         "odometer_value": 270000,
         "year_produced": 1997,
         "engine_fuel": "gasoline",
         "engine_has_gas": "False",
         "engine_type": "gasoline",
         "engine_capacity": 1.8,
         "body_type": "sedan",
         "has_warranty": "False",
         "state": "owned",
         "drivetrain": "front",
         "price_usd": 2500,
         "is_exchangeable": "False",
         "location_region": "Минская обл.",
         "number_of_photos": 4,
         "up_counter": 1,
         "feature_0": "False",
         "feature_1": "True",
         "feature_2": "False",
         "feature_3": "False",
         "feature_4": "False",
         "feature_5": "False",
         "feature_6": "False",
         "feature_7": "False",
         "feature_8": "False",
         "feature_9": "False",
         "duration_listed": 81,
         "_deepnote_index_column": 19301
        },
        {
         "manufacturer_name": "Volkswagen",
         "model_name": "T4",
         "transmission": "mechanical",
         "color": "white",
         "odometer_value": 412000,
         "year_produced": 1996,
         "engine_fuel": "diesel",
         "engine_has_gas": "False",
         "engine_type": "diesel",
         "engine_capacity": 2.4,
         "body_type": "minibus",
         "has_warranty": "False",
         "state": "owned",
         "drivetrain": "front",
         "price_usd": 6000,
         "is_exchangeable": "False",
         "location_region": "Могилевская обл.",
         "number_of_photos": 5,
         "up_counter": 1,
         "feature_0": "False",
         "feature_1": "False",
         "feature_2": "False",
         "feature_3": "False",
         "feature_4": "False",
         "feature_5": "False",
         "feature_6": "False",
         "feature_7": "False",
         "feature_8": "False",
         "feature_9": "True",
         "duration_listed": 81,
         "_deepnote_index_column": 19302
        },
        {
         "manufacturer_name": "Volkswagen",
         "model_name": "Passat",
         "transmission": "mechanical",
         "color": "red",
         "odometer_value": 1000000,
         "year_produced": 1992,
         "engine_fuel": "gasoline",
         "engine_has_gas": "False",
         "engine_type": "gasoline",
         "engine_capacity": 1.8,
         "body_type": "universal",
         "has_warranty": "False",
         "state": "owned",
         "drivetrain": "front",
         "price_usd": 900,
         "is_exchangeable": "False",
         "location_region": "Могилевская обл.",
         "number_of_photos": 3,
         "up_counter": 3,
         "feature_0": "True",
         "feature_1": "False",
         "feature_2": "False",
         "feature_3": "False",
         "feature_4": "False",
         "feature_5": "False",
         "feature_6": "False",
         "feature_7": "False",
         "feature_8": "False",
         "feature_9": "False",
         "duration_listed": 99,
         "_deepnote_index_column": 19303
        },
        {
         "manufacturer_name": "Volkswagen",
         "model_name": "Golf",
         "transmission": "mechanical",
         "color": "red",
         "odometer_value": 291500,
         "year_produced": 1994,
         "engine_fuel": "diesel",
         "engine_has_gas": "False",
         "engine_type": "diesel",
         "engine_capacity": 1.9,
         "body_type": "hatchback",
         "has_warranty": "False",
         "state": "owned",
         "drivetrain": "front",
         "price_usd": 1500,
         "is_exchangeable": "False",
         "location_region": "Могилевская обл.",
         "number_of_photos": 13,
         "up_counter": 1,
         "feature_0": "True",
         "feature_1": "False",
         "feature_2": "False",
         "feature_3": "False",
         "feature_4": "False",
         "feature_5": "False",
         "feature_6": "False",
         "feature_7": "False",
         "feature_8": "False",
         "feature_9": "False",
         "duration_listed": 83,
         "_deepnote_index_column": 19304
        },
        {
         "manufacturer_name": "Volkswagen",
         "model_name": "Jetta",
         "transmission": "mechanical",
         "color": "white",
         "odometer_value": 560000,
         "year_produced": 1986,
         "engine_fuel": "gasoline",
         "engine_has_gas": "False",
         "engine_type": "gasoline",
         "engine_capacity": 1.3,
         "body_type": "sedan",
         "has_warranty": "False",
         "state": "owned",
         "drivetrain": "front",
         "price_usd": 300,
         "is_exchangeable": "False",
         "location_region": "Минская обл.",
         "number_of_photos": 6,
         "up_counter": 2,
         "feature_0": "True",
         "feature_1": "False",
         "feature_2": "False",
         "feature_3": "False",
         "feature_4": "False",
         "feature_5": "False",
         "feature_6": "False",
         "feature_7": "False",
         "feature_8": "False",
         "feature_9": "False",
         "duration_listed": 90,
         "_deepnote_index_column": 19305
        },
        {
         "manufacturer_name": "Volkswagen",
         "model_name": "Jetta",
         "transmission": "mechanical",
         "color": "blue",
         "odometer_value": 260000,
         "year_produced": 1987,
         "engine_fuel": "gasoline",
         "engine_has_gas": "False",
         "engine_type": "gasoline",
         "engine_capacity": 1.3,
         "body_type": "coupe",
         "has_warranty": "False",
         "state": "owned",
         "drivetrain": "front",
         "price_usd": 550,
         "is_exchangeable": "False",
         "location_region": "Минская обл.",
         "number_of_photos": 13,
         "up_counter": 1,
         "feature_0": "True",
         "feature_1": "False",
         "feature_2": "False",
         "feature_3": "False",
         "feature_4": "False",
         "feature_5": "False",
         "feature_6": "False",
         "feature_7": "False",
         "feature_8": "False",
         "feature_9": "False",
         "duration_listed": 84,
         "_deepnote_index_column": 19306
        },
        {
         "manufacturer_name": "Volkswagen",
         "model_name": "Passat",
         "transmission": "mechanical",
         "color": "white",
         "odometer_value": 100000,
         "year_produced": 1990,
         "engine_fuel": "gasoline",
         "engine_has_gas": "False",
         "engine_type": "gasoline",
         "engine_capacity": 1.8,
         "body_type": "universal",
         "has_warranty": "False",
         "state": "owned",
         "drivetrain": "front",
         "price_usd": 950,
         "is_exchangeable": "False",
         "location_region": "Минская обл.",
         "number_of_photos": 5,
         "up_counter": 1,
         "feature_0": "True",
         "feature_1": "False",
         "feature_2": "False",
         "feature_3": "False",
         "feature_4": "False",
         "feature_5": "False",
         "feature_6": "False",
         "feature_7": "False",
         "feature_8": "False",
         "feature_9": "False",
         "duration_listed": 87,
         "_deepnote_index_column": 19307
        },
        {
         "manufacturer_name": "Volkswagen",
         "model_name": "Golf",
         "transmission": "mechanical",
         "color": "blue",
         "odometer_value": 240000,
         "year_produced": 1983,
         "engine_fuel": "gasoline",
         "engine_has_gas": "False",
         "engine_type": "gasoline",
         "engine_capacity": 1.1,
         "body_type": "hatchback",
         "has_warranty": "False",
         "state": "owned",
         "drivetrain": "front",
         "price_usd": 350,
         "is_exchangeable": "False",
         "location_region": "Брестская обл.",
         "number_of_photos": 6,
         "up_counter": 1,
         "feature_0": "True",
         "feature_1": "False",
         "feature_2": "False",
         "feature_3": "False",
         "feature_4": "False",
         "feature_5": "False",
         "feature_6": "False",
         "feature_7": "False",
         "feature_8": "False",
         "feature_9": "False",
         "duration_listed": 87,
         "_deepnote_index_column": 19308
        },
        {
         "manufacturer_name": "Volkswagen",
         "model_name": "Golf",
         "transmission": "mechanical",
         "color": "black",
         "odometer_value": 400000,
         "year_produced": 1990,
         "engine_fuel": "diesel",
         "engine_has_gas": "False",
         "engine_type": "diesel",
         "engine_capacity": 1.6,
         "body_type": "hatchback",
         "has_warranty": "False",
         "state": "owned",
         "drivetrain": "front",
         "price_usd": 711.37,
         "is_exchangeable": "False",
         "location_region": "Минская обл.",
         "number_of_photos": 8,
         "up_counter": 1,
         "feature_0": "True",
         "feature_1": "False",
         "feature_2": "False",
         "feature_3": "False",
         "feature_4": "False",
         "feature_5": "False",
         "feature_6": "False",
         "feature_7": "False",
         "feature_8": "False",
         "feature_9": "False",
         "duration_listed": 87,
         "_deepnote_index_column": 19309
        },
        {
         "manufacturer_name": "Volkswagen",
         "model_name": "Polo",
         "transmission": "mechanical",
         "color": "blue",
         "odometer_value": 279000,
         "year_produced": 1996,
         "engine_fuel": "gasoline",
         "engine_has_gas": "False",
         "engine_type": "gasoline",
         "engine_capacity": 1,
         "body_type": "hatchback",
         "has_warranty": "False",
         "state": "owned",
         "drivetrain": "front",
         "price_usd": 800,
         "is_exchangeable": "False",
         "location_region": "Минская обл.",
         "number_of_photos": 4,
         "up_counter": 1,
         "feature_0": "True",
         "feature_1": "False",
         "feature_2": "False",
         "feature_3": "False",
         "feature_4": "False",
         "feature_5": "False",
         "feature_6": "False",
         "feature_7": "False",
         "feature_8": "False",
         "feature_9": "False",
         "duration_listed": 88,
         "_deepnote_index_column": 19310
        },
        {
         "manufacturer_name": "Volkswagen",
         "model_name": "T5",
         "transmission": "mechanical",
         "color": "blue",
         "odometer_value": 250000,
         "year_produced": 2007,
         "engine_fuel": "diesel",
         "engine_has_gas": "False",
         "engine_type": "diesel",
         "engine_capacity": 2.5,
         "body_type": "minibus",
         "has_warranty": "False",
         "state": "owned",
         "drivetrain": "front",
         "price_usd": 12000,
         "is_exchangeable": "True",
         "location_region": "Брестская обл.",
         "number_of_photos": 4,
         "up_counter": 1,
         "feature_0": "True",
         "feature_1": "False",
         "feature_2": "False",
         "feature_3": "False",
         "feature_4": "False",
         "feature_5": "False",
         "feature_6": "False",
         "feature_7": "False",
         "feature_8": "False",
         "feature_9": "False",
         "duration_listed": 89,
         "_deepnote_index_column": 19311
        },
        {
         "manufacturer_name": "Volkswagen",
         "model_name": "Golf",
         "transmission": "mechanical",
         "color": "violet",
         "odometer_value": 258000,
         "year_produced": 1995,
         "engine_fuel": "diesel",
         "engine_has_gas": "False",
         "engine_type": "diesel",
         "engine_capacity": 1.9,
         "body_type": "universal",
         "has_warranty": "False",
         "state": "owned",
         "drivetrain": "front",
         "price_usd": 1850,
         "is_exchangeable": "False",
         "location_region": "Минская обл.",
         "number_of_photos": 5,
         "up_counter": 1,
         "feature_0": "True",
         "feature_1": "False",
         "feature_2": "False",
         "feature_3": "False",
         "feature_4": "False",
         "feature_5": "False",
         "feature_6": "False",
         "feature_7": "False",
         "feature_8": "False",
         "feature_9": "False",
         "duration_listed": 101,
         "_deepnote_index_column": 19312
        },
        {
         "manufacturer_name": "Volkswagen",
         "model_name": "Polo",
         "transmission": "mechanical",
         "color": "green",
         "odometer_value": 211000,
         "year_produced": 1998,
         "engine_fuel": "gasoline",
         "engine_has_gas": "False",
         "engine_type": "gasoline",
         "engine_capacity": 1.6,
         "body_type": "hatchback",
         "has_warranty": "False",
         "state": "owned",
         "drivetrain": "front",
         "price_usd": 1600,
         "is_exchangeable": "False",
         "location_region": "Минская обл.",
         "number_of_photos": 16,
         "up_counter": 1,
         "feature_0": "True",
         "feature_1": "False",
         "feature_2": "False",
         "feature_3": "False",
         "feature_4": "False",
         "feature_5": "False",
         "feature_6": "False",
         "feature_7": "False",
         "feature_8": "False",
         "feature_9": "False",
         "duration_listed": 111,
         "_deepnote_index_column": 19313
        },
        {
         "manufacturer_name": "Volkswagen",
         "model_name": "LT",
         "transmission": "mechanical",
         "color": "red",
         "odometer_value": 955129,
         "year_produced": 2003,
         "engine_fuel": "diesel",
         "engine_has_gas": "False",
         "engine_type": "diesel",
         "engine_capacity": 2.5,
         "body_type": "van",
         "has_warranty": "False",
         "state": "owned",
         "drivetrain": "rear",
         "price_usd": 5928.1,
         "is_exchangeable": "False",
         "location_region": "Минская обл.",
         "number_of_photos": 5,
         "up_counter": 3,
         "feature_0": "True",
         "feature_1": "False",
         "feature_2": "False",
         "feature_3": "False",
         "feature_4": "False",
         "feature_5": "False",
         "feature_6": "False",
         "feature_7": "False",
         "feature_8": "False",
         "feature_9": "False",
         "duration_listed": 205,
         "_deepnote_index_column": 19314
        },
        {
         "manufacturer_name": "Volkswagen",
         "model_name": "Crafter",
         "transmission": "mechanical",
         "color": "white",
         "odometer_value": 762554,
         "year_produced": 2008,
         "engine_fuel": "diesel",
         "engine_has_gas": "False",
         "engine_type": "diesel",
         "engine_capacity": 2.5,
         "body_type": "van",
         "has_warranty": "False",
         "state": "owned",
         "drivetrain": "rear",
         "price_usd": 6876.6,
         "is_exchangeable": "False",
         "location_region": "Минская обл.",
         "number_of_photos": 5,
         "up_counter": 3,
         "feature_0": "True",
         "feature_1": "False",
         "feature_2": "False",
         "feature_3": "False",
         "feature_4": "False",
         "feature_5": "False",
         "feature_6": "False",
         "feature_7": "False",
         "feature_8": "False",
         "feature_9": "False",
         "duration_listed": 205,
         "_deepnote_index_column": 19315
        },
        {
         "manufacturer_name": "Volkswagen",
         "model_name": "LT",
         "transmission": "mechanical",
         "color": "orange",
         "odometer_value": 180000,
         "year_produced": 1992,
         "engine_fuel": "diesel",
         "engine_has_gas": "False",
         "engine_type": "diesel",
         "engine_capacity": 2.5,
         "body_type": "van",
         "has_warranty": "False",
         "state": "owned",
         "drivetrain": "front",
         "price_usd": 3700,
         "is_exchangeable": "False",
         "location_region": "Гомельская обл.",
         "number_of_photos": 7,
         "up_counter": 1,
         "feature_0": "True",
         "feature_1": "False",
         "feature_2": "False",
         "feature_3": "False",
         "feature_4": "False",
         "feature_5": "False",
         "feature_6": "False",
         "feature_7": "False",
         "feature_8": "False",
         "feature_9": "False",
         "duration_listed": 119,
         "_deepnote_index_column": 19316
        },
        {
         "manufacturer_name": "Volkswagen",
         "model_name": "Jetta",
         "transmission": "mechanical",
         "color": "silver",
         "odometer_value": 215000,
         "year_produced": 1987,
         "engine_fuel": "gasoline",
         "engine_has_gas": "False",
         "engine_type": "gasoline",
         "engine_capacity": 1.8,
         "body_type": "sedan",
         "has_warranty": "False",
         "state": "owned",
         "drivetrain": "front",
         "price_usd": 550,
         "is_exchangeable": "True",
         "location_region": "Гродненская обл.",
         "number_of_photos": 6,
         "up_counter": 2,
         "feature_0": "True",
         "feature_1": "False",
         "feature_2": "False",
         "feature_3": "False",
         "feature_4": "False",
         "feature_5": "False",
         "feature_6": "False",
         "feature_7": "False",
         "feature_8": "False",
         "feature_9": "False",
         "duration_listed": 167,
         "_deepnote_index_column": 19317
        }
       ]
      },
      "text/plain": "      manufacturer_name   model_name transmission   color  odometer_value  \\\n15075        Volkswagen  T5 Multivan    automatic   black           87000   \n15076        Volkswagen         Golf   mechanical   black          213000   \n15077        Volkswagen       Passat   mechanical    grey          215000   \n15078        Volkswagen       Passat   mechanical   white          500000   \n15079        Volkswagen   Polo Sedan    automatic   white           58000   \n...                 ...          ...          ...     ...             ...   \n19313        Volkswagen         Polo   mechanical   green          211000   \n19314        Volkswagen           LT   mechanical     red          955129   \n19315        Volkswagen      Crafter   mechanical   white          762554   \n19316        Volkswagen           LT   mechanical  orange          180000   \n19317        Volkswagen        Jetta   mechanical  silver          215000   \n\n       year_produced engine_fuel  engine_has_gas engine_type  engine_capacity  \\\n15075           2011      diesel           False      diesel              2.0   \n15076           2001    gasoline           False    gasoline              1.8   \n15077           2009    gasoline           False    gasoline              1.4   \n15078           1993    gasoline           False    gasoline              1.8   \n15079           2017    gasoline           False    gasoline              1.6   \n...              ...         ...             ...         ...              ...   \n19313           1998    gasoline           False    gasoline              1.6   \n19314           2003      diesel           False      diesel              2.5   \n19315           2008      diesel           False      diesel              2.5   \n19316           1992      diesel           False      diesel              2.5   \n19317           1987    gasoline           False    gasoline              1.8   \n\n       ... feature_1  feature_2 feature_3 feature_4  feature_5  feature_6  \\\n15075  ...     False      False      True      True       True       True   \n15076  ...     False      False     False     False      False      False   \n15077  ...      True      False      True     False      False       True   \n15078  ...     False      False     False     False      False      False   \n15079  ...     False      False     False     False      False      False   \n...    ...       ...        ...       ...       ...        ...        ...   \n19313  ...     False      False     False     False      False      False   \n19314  ...     False      False     False     False      False      False   \n19315  ...     False      False     False     False      False      False   \n19316  ...     False      False     False     False      False      False   \n19317  ...     False      False     False     False      False      False   \n\n      feature_7  feature_8  feature_9  duration_listed  \n15075      True       True       True                6  \n15076      True      False       True               43  \n15077     False       True       True               60  \n15078     False      False      False               10  \n15079     False      False      False               32  \n...         ...        ...        ...              ...  \n19313     False      False      False              111  \n19314     False      False      False              205  \n19315     False      False      False              205  \n19316     False      False      False              119  \n19317     False      False      False              167  \n\n[4243 rows x 30 columns]",
      "text/html": "<div>\n<style scoped>\n    .dataframe tbody tr th:only-of-type {\n        vertical-align: middle;\n    }\n\n    .dataframe tbody tr th {\n        vertical-align: top;\n    }\n\n    .dataframe thead th {\n        text-align: right;\n    }\n</style>\n<table border=\"1\" class=\"dataframe\">\n  <thead>\n    <tr style=\"text-align: right;\">\n      <th></th>\n      <th>manufacturer_name</th>\n      <th>model_name</th>\n      <th>transmission</th>\n      <th>color</th>\n      <th>odometer_value</th>\n      <th>year_produced</th>\n      <th>engine_fuel</th>\n      <th>engine_has_gas</th>\n      <th>engine_type</th>\n      <th>engine_capacity</th>\n      <th>...</th>\n      <th>feature_1</th>\n      <th>feature_2</th>\n      <th>feature_3</th>\n      <th>feature_4</th>\n      <th>feature_5</th>\n      <th>feature_6</th>\n      <th>feature_7</th>\n      <th>feature_8</th>\n      <th>feature_9</th>\n      <th>duration_listed</th>\n    </tr>\n  </thead>\n  <tbody>\n    <tr>\n      <th>15075</th>\n      <td>Volkswagen</td>\n      <td>T5 Multivan</td>\n      <td>automatic</td>\n      <td>black</td>\n      <td>87000</td>\n      <td>2011</td>\n      <td>diesel</td>\n      <td>False</td>\n      <td>diesel</td>\n      <td>2.0</td>\n      <td>...</td>\n      <td>False</td>\n      <td>False</td>\n      <td>True</td>\n      <td>True</td>\n      <td>True</td>\n      <td>True</td>\n      <td>True</td>\n      <td>True</td>\n      <td>True</td>\n      <td>6</td>\n    </tr>\n    <tr>\n      <th>15076</th>\n      <td>Volkswagen</td>\n      <td>Golf</td>\n      <td>mechanical</td>\n      <td>black</td>\n      <td>213000</td>\n      <td>2001</td>\n      <td>gasoline</td>\n      <td>False</td>\n      <td>gasoline</td>\n      <td>1.8</td>\n      <td>...</td>\n      <td>False</td>\n      <td>False</td>\n      <td>False</td>\n      <td>False</td>\n      <td>False</td>\n      <td>False</td>\n      <td>True</td>\n      <td>False</td>\n      <td>True</td>\n      <td>43</td>\n    </tr>\n    <tr>\n      <th>15077</th>\n      <td>Volkswagen</td>\n      <td>Passat</td>\n      <td>mechanical</td>\n      <td>grey</td>\n      <td>215000</td>\n      <td>2009</td>\n      <td>gasoline</td>\n      <td>False</td>\n      <td>gasoline</td>\n      <td>1.4</td>\n      <td>...</td>\n      <td>True</td>\n      <td>False</td>\n      <td>True</td>\n      <td>False</td>\n      <td>False</td>\n      <td>True</td>\n      <td>False</td>\n      <td>True</td>\n      <td>True</td>\n      <td>60</td>\n    </tr>\n    <tr>\n      <th>15078</th>\n      <td>Volkswagen</td>\n      <td>Passat</td>\n      <td>mechanical</td>\n      <td>white</td>\n      <td>500000</td>\n      <td>1993</td>\n      <td>gasoline</td>\n      <td>False</td>\n      <td>gasoline</td>\n      <td>1.8</td>\n      <td>...</td>\n      <td>False</td>\n      <td>False</td>\n      <td>False</td>\n      <td>False</td>\n      <td>False</td>\n      <td>False</td>\n      <td>False</td>\n      <td>False</td>\n      <td>False</td>\n      <td>10</td>\n    </tr>\n    <tr>\n      <th>15079</th>\n      <td>Volkswagen</td>\n      <td>Polo Sedan</td>\n      <td>automatic</td>\n      <td>white</td>\n      <td>58000</td>\n      <td>2017</td>\n      <td>gasoline</td>\n      <td>False</td>\n      <td>gasoline</td>\n      <td>1.6</td>\n      <td>...</td>\n      <td>False</td>\n      <td>False</td>\n      <td>False</td>\n      <td>False</td>\n      <td>False</td>\n      <td>False</td>\n      <td>False</td>\n      <td>False</td>\n      <td>False</td>\n      <td>32</td>\n    </tr>\n    <tr>\n      <th>...</th>\n      <td>...</td>\n      <td>...</td>\n      <td>...</td>\n      <td>...</td>\n      <td>...</td>\n      <td>...</td>\n      <td>...</td>\n      <td>...</td>\n      <td>...</td>\n      <td>...</td>\n      <td>...</td>\n      <td>...</td>\n      <td>...</td>\n      <td>...</td>\n      <td>...</td>\n      <td>...</td>\n      <td>...</td>\n      <td>...</td>\n      <td>...</td>\n      <td>...</td>\n      <td>...</td>\n    </tr>\n    <tr>\n      <th>19313</th>\n      <td>Volkswagen</td>\n      <td>Polo</td>\n      <td>mechanical</td>\n      <td>green</td>\n      <td>211000</td>\n      <td>1998</td>\n      <td>gasoline</td>\n      <td>False</td>\n      <td>gasoline</td>\n      <td>1.6</td>\n      <td>...</td>\n      <td>False</td>\n      <td>False</td>\n      <td>False</td>\n      <td>False</td>\n      <td>False</td>\n      <td>False</td>\n      <td>False</td>\n      <td>False</td>\n      <td>False</td>\n      <td>111</td>\n    </tr>\n    <tr>\n      <th>19314</th>\n      <td>Volkswagen</td>\n      <td>LT</td>\n      <td>mechanical</td>\n      <td>red</td>\n      <td>955129</td>\n      <td>2003</td>\n      <td>diesel</td>\n      <td>False</td>\n      <td>diesel</td>\n      <td>2.5</td>\n      <td>...</td>\n      <td>False</td>\n      <td>False</td>\n      <td>False</td>\n      <td>False</td>\n      <td>False</td>\n      <td>False</td>\n      <td>False</td>\n      <td>False</td>\n      <td>False</td>\n      <td>205</td>\n    </tr>\n    <tr>\n      <th>19315</th>\n      <td>Volkswagen</td>\n      <td>Crafter</td>\n      <td>mechanical</td>\n      <td>white</td>\n      <td>762554</td>\n      <td>2008</td>\n      <td>diesel</td>\n      <td>False</td>\n      <td>diesel</td>\n      <td>2.5</td>\n      <td>...</td>\n      <td>False</td>\n      <td>False</td>\n      <td>False</td>\n      <td>False</td>\n      <td>False</td>\n      <td>False</td>\n      <td>False</td>\n      <td>False</td>\n      <td>False</td>\n      <td>205</td>\n    </tr>\n    <tr>\n      <th>19316</th>\n      <td>Volkswagen</td>\n      <td>LT</td>\n      <td>mechanical</td>\n      <td>orange</td>\n      <td>180000</td>\n      <td>1992</td>\n      <td>diesel</td>\n      <td>False</td>\n      <td>diesel</td>\n      <td>2.5</td>\n      <td>...</td>\n      <td>False</td>\n      <td>False</td>\n      <td>False</td>\n      <td>False</td>\n      <td>False</td>\n      <td>False</td>\n      <td>False</td>\n      <td>False</td>\n      <td>False</td>\n      <td>119</td>\n    </tr>\n    <tr>\n      <th>19317</th>\n      <td>Volkswagen</td>\n      <td>Jetta</td>\n      <td>mechanical</td>\n      <td>silver</td>\n      <td>215000</td>\n      <td>1987</td>\n      <td>gasoline</td>\n      <td>False</td>\n      <td>gasoline</td>\n      <td>1.8</td>\n      <td>...</td>\n      <td>False</td>\n      <td>False</td>\n      <td>False</td>\n      <td>False</td>\n      <td>False</td>\n      <td>False</td>\n      <td>False</td>\n      <td>False</td>\n      <td>False</td>\n      <td>167</td>\n    </tr>\n  </tbody>\n</table>\n<p>4243 rows × 30 columns</p>\n</div>"
     },
     "metadata": {}
    }
   ]
  },
  {
   "cell_type": "markdown",
   "source": "Let's assume I don't want a so luxury car and I want a Volkswagen Golf, let's see the prices of them",
   "metadata": {
    "tags": [],
    "cell_id": "00021-0d77793f-8512-4415-b524-2f49f8fa3899",
    "deepnote_cell_type": "markdown"
   }
  },
  {
   "cell_type": "code",
   "metadata": {
    "tags": [],
    "cell_id": "00022-5ff67665-0050-40f1-848c-3f72aaa37e72",
    "deepnote_to_be_reexecuted": false,
    "source_hash": "1e186795",
    "execution_start": 1625319924821,
    "execution_millis": 4257,
    "deepnote_cell_type": "code"
   },
   "source": "vw_golf_df = df[(df['manufacturer_name']=='Volkswagen')&(df['model_name']=='Golf')]\nsns.histplot(vw_golf_df, x='price_usd', hue='year_produced')",
   "execution_count": null,
   "outputs": [
    {
     "output_type": "execute_result",
     "execution_count": 23,
     "data": {
      "text/plain": "<AxesSubplot:xlabel='price_usd', ylabel='Count'>"
     },
     "metadata": {}
    },
    {
     "data": {
      "text/plain": "<Figure size 432x288 with 1 Axes>",
      "image/png": "[encoded data removed]"
     },
     "metadata": {
      "needs_background": "light",
      "image/png": {
       "width": 384,
       "height": 640
      }
     },
     "output_type": "display_data"
    }
   ]
  },
  {
   "cell_type": "markdown",
   "source": "As we can see, there are a lot of Volkswagen Golf, but I don't want an old car, so I want to show only Volkswagen Golf that where produced after 2002",
   "metadata": {
    "tags": [],
    "cell_id": "00023-66693203-6449-49c2-90d2-012d359e3c63",
    "deepnote_cell_type": "markdown"
   }
  },
  {
   "cell_type": "code",
   "metadata": {
    "tags": [],
    "cell_id": "00024-ab3e417a-d65d-42e2-a871-48f853a8de30",
    "deepnote_to_be_reexecuted": false,
    "source_hash": "e743afc9",
    "execution_start": 1625320976774,
    "execution_millis": 854,
    "deepnote_cell_type": "code"
   },
   "source": "vw_golf_df = df[(df['manufacturer_name']=='Volkswagen') & (df['model_name']=='Golf') & (df['year_produced']>2005)]\nsns.histplot(vw_golf_df, x='price_usd', hue='year_produced')",
   "execution_count": null,
   "outputs": [
    {
     "output_type": "execute_result",
     "execution_count": 33,
     "data": {
      "text/plain": "<AxesSubplot:xlabel='price_usd', ylabel='Count'>"
     },
     "metadata": {}
    },
    {
     "data": {
      "text/plain": "<Figure size 432x288 with 1 Axes>",
      "image/png": "[encoded data removed]"
     },
     "metadata": {
      "needs_background": "light",
      "image/png": {
       "width": 384,
       "height": 263
      }
     },
     "output_type": "display_data"
    }
   ]
  },
  {
   "cell_type": "code",
   "metadata": {
    "tags": [],
    "cell_id": "00025-a99d5270-5a9a-4ca1-96a5-798b993f8574",
    "deepnote_to_be_reexecuted": false,
    "source_hash": "12d59dd6",
    "execution_start": 1625321151634,
    "execution_millis": 0,
    "deepnote_cell_type": "code"
   },
   "source": "vw_golf_df['price_usd'].mean()\n",
   "execution_count": null,
   "outputs": [
    {
     "output_type": "execute_result",
     "execution_count": 34,
     "data": {
      "text/plain": "8657.153205128205"
     },
     "metadata": {}
    }
   ]
  },
  {
   "cell_type": "code",
   "metadata": {
    "tags": [],
    "cell_id": "00026-d3131dd2-e627-45f6-bfbc-10755ac69298",
    "deepnote_to_be_reexecuted": false,
    "source_hash": "24c181c",
    "execution_start": 1625321153749,
    "execution_millis": 11,
    "deepnote_cell_type": "code"
   },
   "source": "vw_golf_df['price_usd'].median()",
   "execution_count": null,
   "outputs": [
    {
     "output_type": "execute_result",
     "execution_count": 35,
     "data": {
      "text/plain": "8000.0"
     },
     "metadata": {}
    }
   ]
  },
  {
   "cell_type": "markdown",
   "source": "<a style='text-decoration:none;line-height:16px;display:flex;color:#5B5B62;padding:10px;justify-content:end;' href='https://deepnote.com?utm_source=created-in-deepnote-cell&projectId=708ebb00-062b-4a54-8b2b-5517499dc119' target=\"_blank\">\n<img alt='Created in deepnote.com' style='display:inline;max-height:16px;margin:0px;margin-right:7.5px;' src='data:image/svg+xml;base64,PD94bWwgdmVyc2lvbj0iMS4wIiBlbmNvZGluZz0iVVRGLTgiPz4KPHN2ZyB3aWR0aD0iODBweCIgaGVpZ2h0PSI4MHB4IiB2aWV3Qm94PSIwIDAgODAgODAiIHZlcnNpb249IjEuMSIgeG1sbnM9Imh0dHA6Ly93d3cudzMub3JnLzIwMDAvc3ZnIiB4bWxuczp4bGluaz0iaHR0cDovL3d3dy53My5vcmcvMTk5OS94bGluayI+CiAgICA8IS0tIEdlbmVyYXRvcjogU2tldGNoIDU0LjEgKDc2NDkwKSAtIGh0dHBzOi8vc2tldGNoYXBwLmNvbSAtLT4KICAgIDx0aXRsZT5Hcm91cCAzPC90aXRsZT4KICAgIDxkZXNjPkNyZWF0ZWQgd2l0aCBTa2V0Y2guPC9kZXNjPgogICAgPGcgaWQ9IkxhbmRpbmciIHN0cm9rZT0ibm9uZSIgc3Ryb2tlLXdpZHRoPSIxIiBmaWxsPSJub25lIiBmaWxsLXJ1bGU9ImV2ZW5vZGQiPgogICAgICAgIDxnIGlkPSJBcnRib2FyZCIgdHJhbnNmb3JtPSJ0cmFuc2xhdGUoLTEyMzUuMDAwMDAwLCAtNzkuMDAwMDAwKSI+CiAgICAgICAgICAgIDxnIGlkPSJHcm91cC0zIiB0cmFuc2Zvcm09InRyYW5zbGF0ZSgxMjM1LjAwMDAwMCwgNzkuMDAwMDAwKSI+CiAgICAgICAgICAgICAgICA8cG9seWdvbiBpZD0iUGF0aC0yMCIgZmlsbD0iIzAyNjVCNCIgcG9pbnRzPSIyLjM3NjIzNzYyIDgwIDM4LjA0NzY2NjcgODAgNTcuODIxNzgyMiA3My44MDU3NTkyIDU3LjgyMTc4MjIgMzIuNzU5MjczOSAzOS4xNDAyMjc4IDMxLjY4MzE2ODMiPjwvcG9seWdvbj4KICAgICAgICAgICAgICAgIDxwYXRoIGQ9Ik0zNS4wMDc3MTgsODAgQzQyLjkwNjIwMDcsNzYuNDU0OTM1OCA0Ny41NjQ5MTY3LDcxLjU0MjI2NzEgNDguOTgzODY2LDY1LjI2MTk5MzkgQzUxLjExMjI4OTksNTUuODQxNTg0MiA0MS42NzcxNzk1LDQ5LjIxMjIyODQgMjUuNjIzOTg0Niw0OS4yMTIyMjg0IEMyNS40ODQ5Mjg5LDQ5LjEyNjg0NDggMjkuODI2MTI5Niw0My4yODM4MjQ4IDM4LjY0NzU4NjksMzEuNjgzMTY4MyBMNzIuODcxMjg3MSwzMi41NTQ0MjUgTDY1LjI4MDk3Myw2Ny42NzYzNDIxIEw1MS4xMTIyODk5LDc3LjM3NjE0NCBMMzUuMDA3NzE4LDgwIFoiIGlkPSJQYXRoLTIyIiBmaWxsPSIjMDAyODY4Ij48L3BhdGg+CiAgICAgICAgICAgICAgICA8cGF0aCBkPSJNMCwzNy43MzA0NDA1IEwyNy4xMTQ1MzcsMC4yNTcxMTE0MzYgQzYyLjM3MTUxMjMsLTEuOTkwNzE3MDEgODAsMTAuNTAwMzkyNyA4MCwzNy43MzA0NDA1IEM4MCw2NC45NjA0ODgyIDY0Ljc3NjUwMzgsNzkuMDUwMzQxNCAzNC4zMjk1MTEzLDgwIEM0Ny4wNTUzNDg5LDc3LjU2NzA4MDggNTMuNDE4MjY3Nyw3MC4zMTM2MTAzIDUzLjQxODI2NzcsNTguMjM5NTg4NSBDNTMuNDE4MjY3Nyw0MC4xMjg1NTU3IDM2LjMwMzk1NDQsMzcuNzMwNDQwNSAyNS4yMjc0MTcsMzcuNzMwNDQwNSBDMTcuODQzMDU4NiwzNy43MzA0NDA1IDkuNDMzOTE5NjYsMzcuNzMwNDQwNSAwLDM3LjczMDQ0MDUgWiIgaWQ9IlBhdGgtMTkiIGZpbGw9IiMzNzkzRUYiPjwvcGF0aD4KICAgICAgICAgICAgPC9nPgogICAgICAgIDwvZz4KICAgIDwvZz4KPC9zdmc+' > </img>\nCreated in <span style='font-weight:600;margin-left:4px;'>Deepnote</span></a>",
   "metadata": {
    "tags": [],
    "created_in_deepnote_cell": true,
    "deepnote_cell_type": "markdown"
   }
  }
 ],
 "nbformat": 4,
 "nbformat_minor": 2,
 "metadata": {
  "orig_nbformat": 2,
  "deepnote": {
   "is_reactive": false
  },
  "deepnote_notebook_id": "802bed27-8276-4092-aa1f-661748c28775",
  "deepnote_execution_queue": []
 }
}